{
 "cells": [
  {
   "cell_type": "markdown",
   "metadata": {},
   "source": [
    "# Reactors"
   ]
  },
  {
   "cell_type": "code",
   "execution_count": 19,
   "metadata": {},
   "outputs": [
    {
     "name": "stdout",
     "output_type": "stream",
     "text": [
      "9.09090909092488\n",
      "4.132231404740967\n",
      "10.909090869928564\n",
      "15.86776775991481\n",
      "k = 0.24\n"
     ]
    },
    {
     "data": {
      "text/plain": [
       "<matplotlib.legend.Legend at 0x1518edaf28>"
      ]
     },
     "execution_count": 19,
     "metadata": {},
     "output_type": "execute_result"
    },
    {
     "data": {
      "image/png": "[encoded data removed]",
      "text/plain": [
       "<Figure size 432x288 with 1 Axes>"
      ]
     },
     "metadata": {},
     "output_type": "display_data"
    }
   ],
   "source": [
    "# global imports\n",
    "import numpy as np\n",
    "import matplotlib.pyplot as plt\n",
    "from scipy.integrate import odeint\n",
    "\n",
    "# global parameters\n",
    "TAU = 5\n",
    "K = 0.24\n",
    "\n",
    "# initial conditions\n",
    "A0 = 20\n",
    "A1 = 0\n",
    "A2 = 0\n",
    "B1 = 0\n",
    "B2 = 0\n",
    "\n",
    "# function to return the derivatives\n",
    "def derivatives(state, t): \n",
    "    \"\"\"\n",
    "    This function returns the derivatives of the state vector\n",
    "    state : a vector with the current values of the state variables\n",
    "    t : time, needed for the odeint solver\n",
    "    \"\"\"\n",
    "    A1 = state[0]\n",
    "    A2 = state[1]\n",
    "    B1 = state[2]\n",
    "    B2 = state[3]\n",
    "    devA1 = (A0 - A1)/TAU - K*A1\n",
    "    devA2 = (A1 - A2)/TAU - K*A2\n",
    "    devB1 = -(B1)/TAU + K*A1\n",
    "    devB2 = (B1 - B2)/TAU + K*A2\n",
    "    return devA1, devA2, devB1, devB2\n",
    "\n",
    "# solving the differential equation\n",
    "state0 = np.array([A1, A2, B1, B2])\n",
    "t = np.linspace(0, 100, 20000) # dt = 0.1\n",
    "state = odeint(derivatives, state0, t)\n",
    "print(state[-1, 0])\n",
    "print(state[-1, 1])\n",
    "print(state[-1, 2])\n",
    "print(state[-1, 3])\n",
    "print(\"k = {0}\".format(K))\n",
    "\n",
    "# Plot the solution\n",
    "plt.plot(t, state[:,0], 'o', label=r\"$A_1$\")\n",
    "plt.plot(t, state[:,1], 's', label=r\"$A_2$\")\n",
    "plt.plot(t, state[:,2], 'o', label=r\"$B_1$\")\n",
    "plt.plot(t, state[:,3], 's', label=r\"$B_2$\")\n",
    "plt.xlabel('Time')\n",
    "plt.legend(fontsize=15)"
   ]
  },
  {
   "cell_type": "markdown",
   "metadata": {},
   "source": [
    "# Ejercicio - tarea\n",
    "Graficar los valores finales en función de $k$\n"
   ]
  },
  {
   "cell_type": "code",
   "execution_count": null,
   "metadata": {},
   "outputs": [],
   "source": [
    "# global imports\n",
    "import numpy as np\n",
    "import matplotlib.pyplot as plt\n",
    "from scipy.integrate import odeint\n",
    "\n",
    "# global parameters\n",
    "TAU = 5\n",
    "K = 0.24\n",
    "\n",
    "\n",
    "# function to return the derivatives\n",
    "def derivatives(state, t): \n",
    "    \"\"\"\n",
    "    This function returns the derivatives of the state vector\n",
    "    state : a vector with the current values of the state variables\n",
    "    t : time, needed for the odeint solver\n",
    "    \"\"\"\n",
    "    A1 = state[0]\n",
    "    A2 = state[1]\n",
    "    B1 = state[2]\n",
    "    B2 = state[3]\n",
    "    devA1 = (A0 - A1)/TAU - K*A1\n",
    "    devA2 = (A1 - A2)/TAU - K*A2\n",
    "    devB1 = -(B1)/TAU + K*A1\n",
    "    devB2 = (B1 - B2)/TAU + K*A2\n",
    "    return devA1, devA2, devB1, devB2\n",
    "\n",
    "def stationary_values(k):\n",
    "    # initial conditions\n",
    "    A0 = 20\n",
    "    A1 = 0\n",
    "    A2 = 0\n",
    "    B1 = 0\n",
    "    B2 = 0\n",
    "    # solving the differential equation\n",
    "    state0 = np.array([A1, A2, B1, B2])\n",
    "    t = np.linspace(0, 100, 20000) # dt = 0.1\n",
    "    state = odeint(derivatives, state0, t)\n",
    "    return state[-1, 0], state[-1, 1], state[-1, 2], state[-1, 3]\n",
    "\n",
    "print(\"k = {0}\".format(K))\n",
    "\n",
    "# Plot the solution\n",
    "plt.plot(t, state[:,0], 'o', label=r\"$A_1$\")\n",
    "plt.plot(t, state[:,1], 's', label=r\"$A_2$\")\n",
    "plt.plot(t, state[:,2], 'o', label=r\"$B_1$\")\n",
    "plt.plot(t, state[:,3], 's', label=r\"$B_2$\")\n",
    "plt.xlabel('Time')\n",
    "plt.legend(fontsize=15)"
   ]
  }
 ],
 "metadata": {
  "kernelspec": {
   "display_name": "Python [default]",
   "language": "python",
   "name": "python3"
  },
  "language_info": {
   "codemirror_mode": {
    "name": "ipython",
    "version": 3
   },
   "file_extension": ".py",
   "mimetype": "text/x-python",
   "name": "python",
   "nbconvert_exporter": "python",
   "pygments_lexer": "ipython3",
   "version": "3.6.5"
  },
  "latex_envs": {
   "LaTeX_envs_menu_present": true,
   "autoclose": true,
   "autocomplete": true,
   "bibliofile": "biblio.bib",
   "cite_by": "apalike",
   "current_citInitial": 1,
   "eqLabelWithNumbers": true,
   "eqNumInitial": 1,
   "hotkeys": {
    "equation": "Ctrl-E",
    "itemize": "Ctrl-I"
   },
   "labels_anchors": false,
   "latex_user_defs": false,
   "report_style_numbering": false,
   "user_envs_cfg": false
  },
  "toc": {
   "base_numbering": 1,
   "nav_menu": {},
   "number_sections": true,
   "sideBar": true,
   "skip_h1_title": false,
   "title_cell": "Table of Contents",
   "title_sidebar": "Contents",
   "toc_cell": false,
   "toc_position": {},
   "toc_section_display": true,
   "toc_window_display": false
  }
 },
 "nbformat": 4,
 "nbformat_minor": 2
}
