{
 "metadata": {
  "name": "",
  "signature": "sha256:80e76c47c11cdb819ce0c020b9276d02318217a86eb8f6026fa6415a89567f1d"
 },
 "nbformat": 3,
 "nbformat_minor": 0,
 "worksheets": [
  {
   "cells": [
    {
     "cell_type": "heading",
     "level": 1,
     "metadata": {},
     "source": [
      "Dictionaries in Python"
     ]
    },
    {
     "cell_type": "markdown",
     "metadata": {},
     "source": [
      "Python provides additional data structures: sets and dictionaries."
     ]
    },
    {
     "cell_type": "heading",
     "level": 2,
     "metadata": {},
     "source": [
      "Dictionaries"
     ]
    },
    {
     "cell_type": "markdown",
     "metadata": {},
     "source": [
      "Dictionaries are the analogous of associative memories or associative arrays. Basically, they are a generalized container where the key is not necessarily an integer but an arbitrary object of inmutable type, called a key (for example, tuples, a reange of number, etc, nut not a list of integers, since the last is mutable). \n",
      "\n",
      "Dictionaries can be seen as unordered sets of the pairs _key:value_, and are sourrounded by curly braces `{}`. It is posible to delete/acces/add/etc values by using the corresponding key or key/value pair. The `keys()` method for a dictionary returns the keys of that dictionary. To check for a given key, you can use the keyword `in`.\n",
      "\n",
      "Examples from [Python Dictionaries tutorial](http://docs.python.org/2/tutorial/datastructures.html#dictionaries)"
     ]
    },
    {
     "cell_type": "code",
     "collapsed": false,
     "input": [
      "# creates a dictioanary with several key:value pairs. Keys are strings\n",
      "tel = {'jack': 4098, 'sape': 4139}  \n",
      "print tel"
     ],
     "language": "python",
     "metadata": {},
     "outputs": [
      {
       "output_type": "stream",
       "stream": "stdout",
       "text": [
        "{'sape': 4139, 'jack': 4098}\n"
       ]
      }
     ],
     "prompt_number": 1
    },
    {
     "cell_type": "code",
     "collapsed": false,
     "input": [
      "# acces  by key. If key does not exists, creates a new entry\n",
      "tel['guido'] = 4127 \n",
      "print tel"
     ],
     "language": "python",
     "metadata": {},
     "outputs": [
      {
       "output_type": "stream",
       "stream": "stdout",
       "text": [
        "{'sape': 4139, 'jack': 4098, 'guido': 4127}\n"
       ]
      }
     ],
     "prompt_number": 2
    },
    {
     "cell_type": "code",
     "collapsed": false,
     "input": [
      "print tel['jack']    # Access by key"
     ],
     "language": "python",
     "metadata": {},
     "outputs": [
      {
       "output_type": "stream",
       "stream": "stdout",
       "text": [
        "4098\n"
       ]
      }
     ],
     "prompt_number": 3
    },
    {
     "cell_type": "code",
     "collapsed": false,
     "input": [
      "del tel['sape']    # Delete by key\n",
      "print tel"
     ],
     "language": "python",
     "metadata": {},
     "outputs": [
      {
       "output_type": "stream",
       "stream": "stdout",
       "text": [
        "{'jack': 4098, 'guido': 4127}\n"
       ]
      }
     ],
     "prompt_number": 4
    },
    {
     "cell_type": "code",
     "collapsed": false,
     "input": [
      "tel.keys()   # key a list of the keys"
     ],
     "language": "python",
     "metadata": {},
     "outputs": [
      {
       "metadata": {},
       "output_type": "pyout",
       "prompt_number": 5,
       "text": [
        "['jack', 'guido']"
       ]
      }
     ],
     "prompt_number": 5
    },
    {
     "cell_type": "code",
     "collapsed": false,
     "input": [
      "tel.values()"
     ],
     "language": "python",
     "metadata": {},
     "outputs": [
      {
       "metadata": {},
       "output_type": "pyout",
       "prompt_number": 6,
       "text": [
        "[4098, 4127]"
       ]
      }
     ],
     "prompt_number": 6
    },
    {
     "cell_type": "markdown",
     "metadata": {},
     "source": [
      "We can also check for key existence:"
     ]
    },
    {
     "cell_type": "code",
     "collapsed": false,
     "input": [
      "'guido' in tel   # check if a key is in the dictionary"
     ],
     "language": "python",
     "metadata": {},
     "outputs": [
      {
       "metadata": {},
       "output_type": "pyout",
       "prompt_number": 7,
       "text": [
        "True"
       ]
      }
     ],
     "prompt_number": 7
    },
    {
     "cell_type": "code",
     "collapsed": false,
     "input": [
      "tel.has_key('jack') "
     ],
     "language": "python",
     "metadata": {},
     "outputs": [
      {
       "metadata": {},
       "output_type": "pyout",
       "prompt_number": 8,
       "text": [
        "True"
       ]
      }
     ],
     "prompt_number": 8
    },
    {
     "cell_type": "heading",
     "level": 3,
     "metadata": {},
     "source": [
      "Dictionaries creation"
     ]
    },
    {
     "cell_type": "markdown",
     "metadata": {},
     "source": [
      "Creation of an empty dictionary:"
     ]
    },
    {
     "cell_type": "code",
     "collapsed": false,
     "input": [
      "D = {}"
     ],
     "language": "python",
     "metadata": {},
     "outputs": [],
     "prompt_number": 9
    },
    {
     "cell_type": "markdown",
     "metadata": {},
     "source": [
      "We can also directly build dictionaries by means of the `dict()` constructor"
     ]
    },
    {
     "cell_type": "code",
     "collapsed": false,
     "input": [
      "# Creating a dict by means of dict comprehensions. See the tuple\n",
      "{x: x**2 for x in (2, 4, 6)}   "
     ],
     "language": "python",
     "metadata": {},
     "outputs": [
      {
       "metadata": {},
       "output_type": "pyout",
       "prompt_number": 10,
       "text": [
        "{2: 4, 4: 16, 6: 36}"
       ]
      }
     ],
     "prompt_number": 10
    },
    {
     "cell_type": "code",
     "collapsed": false,
     "input": [
      "dict(sape=4139, guido=4127, jack=4098)  # Simple strings simplify notation"
     ],
     "language": "python",
     "metadata": {},
     "outputs": [
      {
       "metadata": {},
       "output_type": "pyout",
       "prompt_number": 11,
       "text": [
        "{'guido': 4127, 'jack': 4098, 'sape': 4139}"
       ]
      }
     ],
     "prompt_number": 11
    },
    {
     "cell_type": "heading",
     "level": 3,
     "metadata": {},
     "source": [
      "Dictionary looping"
     ]
    },
    {
     "cell_type": "code",
     "collapsed": false,
     "input": [
      "knights = {'gallahad': 'the pure', 'robin': 'the brave'}"
     ],
     "language": "python",
     "metadata": {},
     "outputs": [],
     "prompt_number": 12
    },
    {
     "cell_type": "code",
     "collapsed": false,
     "input": [
      "for k, v in knights.iteritems():\n",
      "    print k, v"
     ],
     "language": "python",
     "metadata": {},
     "outputs": [
      {
       "output_type": "stream",
       "stream": "stdout",
       "text": [
        "gallahad the pure\n",
        "robin the brave\n"
       ]
      }
     ],
     "prompt_number": 13
    },
    {
     "cell_type": "heading",
     "level": 3,
     "metadata": {},
     "source": [
      "Exercises (Based on \"A Primer on Scientific Programming with Python\", Lantangen, Springer)"
     ]
    },
    {
     "cell_type": "markdown",
     "metadata": {},
     "source": [
      "1. Write a program which prints a sorted key list of a given dictionary. (_hint_: Check the `sorted` function, or try to sort the `keys()` function output)\n",
      "\n",
      "2. Search how to copy a dictionary (different to making a reference)\n",
      "\n",
      "3. _Representing a polynomial by a dictionary_ : Consider the polynomial $p(x) = -1 + x^2 + 3x^7$ . It can be represent by means of a dictionary as `p = {0:-1, 2:1, 7:3}` (What is the advantage over using a list?). Write a function which gets a dictionary representing a polynomial, an `x` value, and returns the polynomial evaluated on that `x` value. \n",
      "\n",
      "4. Make a function which, given a dictionary with `values` as ints (a simple version of a histogram), prints the histogram counters as `=`. For example (the keys can be arbitrary)\n",
      "   \n",
      "    A : ========\n",
      "    \n",
      "    B : =============\n",
      "    \n",
      "    C : =======\n",
      "    \n",
      "    D : ==\n",
      "    \n",
      "    E : ==\n",
      "\n",
      "5. Make a program which reads a text and counts the numbers of ocurrences for each word.\n",
      "\n",
      "6. Modify the previous program for representing a polynomial with a dictionary to represent it with a list. Use both representations for the polynomyal $-\\frac{1}{2} + 2x^{100}$. Print both representations and use both to evaluate that polynomial at $x = 1.05$ .\n",
      "\n",
      "7. By using the dictionary plynomial representation of the previous exercises, write a function which computes the derivative of a given polynomial and returns a dictionary representation of the new polynomial representing the derivative. Test it. "
     ]
    },
    {
     "cell_type": "code",
     "collapsed": false,
     "input": [
      "# exercise 4 (partial solution)\n",
      "dict = {'A':8, 'B':12, 'C':5, 'D':2, 'E':2}\n",
      "\n",
      "def print_histo(data):\n",
      "    for k, v in data.iteritems():\n",
      "        print k, ':', '='*v\n",
      "        \n",
      "print_histo(dict)"
     ],
     "language": "python",
     "metadata": {},
     "outputs": [
      {
       "output_type": "stream",
       "stream": "stdout",
       "text": [
        "A : ========\n",
        "C : =====\n",
        "B : ============\n",
        "E : ==\n",
        "D : ==\n"
       ]
      }
     ],
     "prompt_number": 14
    },
    {
     "cell_type": "code",
     "collapsed": false,
     "input": [],
     "language": "python",
     "metadata": {},
     "outputs": [],
     "prompt_number": 14
    }
   ],
   "metadata": {}
  }
 ]
}