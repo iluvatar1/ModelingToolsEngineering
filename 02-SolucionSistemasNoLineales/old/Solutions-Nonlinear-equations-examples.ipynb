{
 "cells": [
  {
   "cell_type": "markdown",
   "metadata": {
    "colab_type": "text",
    "id": "view-in-github"
   },
   "source": [
    "[View in Colaboratory](https://colab.research.google.com/github/iluvatar1/ModelingToolsEngineering/blob/master/02-SolucionSistemasNoLineales/Solutions-Nonlinear-equations-examples.ipynb)"
   ]
  },
  {
   "cell_type": "markdown",
   "metadata": {
    "colab_type": "text",
    "id": "_VLrU7yWtwT3"
   },
   "source": [
    "# Solutions for the Non-linear systems exercises"
   ]
  },
  {
   "cell_type": "markdown",
   "metadata": {
    "colab_type": "text",
    "id": "zgABO11DuH4e"
   },
   "source": [
    "**Graphic solution**\n"
   ]
  },
  {
   "cell_type": "code",
   "execution_count": 8,
   "metadata": {
    "colab": {
     "base_uri": "https://localhost:8080/",
     "height": 441
    },
    "colab_type": "code",
    "id": "_MC4EAagxunh",
    "outputId": "531d04b5-13f1-4158-bab3-20ab838adbf1"
   },
   "outputs": [
    {
     "data": {
      "image/png": "[encoded data removed]",
      "text/plain": [
       "<matplotlib.figure.Figure at 0x7fd7d0101668>"
      ]
     },
     "metadata": {
      "tags": []
     },
     "output_type": "display_data"
    }
   ],
   "source": [
    "import numpy as np\n",
    "import matplotlib.pyplot as plt\n",
    "\n",
    "import seaborn as sns\n",
    "sns.set()\n",
    "sns.set_context(\"talk\")\n",
    "\n",
    "# define parameters\n",
    "cd = 0.25\n",
    "t = 4\n",
    "v = 36\n",
    "g = 9.81\n",
    "\n",
    "# compute mass and function\n",
    "m = np.linspace(142, 144, 100)\n",
    "fm = np.sqrt(g*m/cd)*np.tanh(np.sqrt(g*cd/m)*t) -v\n",
    "\n",
    "# plot\n",
    "plt.plot(m, fm)\n",
    "\n",
    "# savefig\n",
    "plt.savefig(\"masa.pdf\", dpi=300, bbox_inches='tight')"
   ]
  },
  {
   "cell_type": "markdown",
   "metadata": {
    "colab_type": "text",
    "id": "Jp3FENRawjC_"
   },
   "source": [
    "**Using scipy.optimize.root** "
   ]
  },
  {
   "cell_type": "code",
   "execution_count": 16,
   "metadata": {
    "colab": {
     "base_uri": "https://localhost:8080/",
     "height": 52
    },
    "colab_type": "code",
    "id": "uTss1LBMDBEA",
    "outputId": "19b71a8e-2cbf-49ef-9a8f-316becce38c4"
   },
   "outputs": [
    {
     "name": "stdout",
     "output_type": "stream",
     "text": [
      "Solution:  0.5671432904097838\n",
      "f(x):  0.0\n"
     ]
    }
   ],
   "source": [
    "from scipy import optimize\n",
    "import numpy as np\n",
    "\n",
    "# define parameters\n",
    "cd = 0.25\n",
    "t = 4\n",
    "v = 36\n",
    "g = 9.81\n",
    "\n",
    "\n",
    "def fun(x):\n",
    "    #return np.sqrt(g*x/cd)*np.tanh(np.sqrt(g*cd/x)*t) -v\n",
    "    return np.exp(-x) -x\n",
    "\n",
    "sol = optimize.root(fun, [0.1])\n",
    "print(\"Solution: \", sol.x[0])\n",
    "print(\"f(x): \", fun(sol.x[0]))\n",
    "#print(sol)"
   ]
  },
  {
   "cell_type": "code",
   "execution_count": 24,
   "metadata": {
    "cellView": "form",
    "colab": {
     "base_uri": "https://localhost:8080/",
     "height": 34
    },
    "colab_type": "code",
    "id": "tuphsJCvxMwH",
    "outputId": "10c96fc3-29de-4778-e6e3-b23c9878ec23"
   },
   "outputs": [
    {
     "name": "stdout",
     "output_type": "stream",
     "text": [
      "Solution (for v=16): 6.736376219179872\n"
     ]
    }
   ],
   "source": [
    "#@title Testing variables { run: \"auto\" }\n",
    "v = 16 #@param {type:\"slider\", min:5, max:50, step:0.5}\n",
    "from scipy import optimize\n",
    "import numpy as np\n",
    "\n",
    "\n",
    "\n",
    "# define parameters\n",
    "cd = 0.25\n",
    "t = 4\n",
    "#v = 36\n",
    "g = 9.81\n",
    "\n",
    "\n",
    "def fun(x):\n",
    "    return np.sqrt(g*x/cd)*np.tanh(np.sqrt(g*cd/x)*t) -v\n",
    "    #return np.exp(-x) -x\n",
    "\n",
    "sol = optimize.root(fun, [0.1])\n",
    "print(\"Solution (for v={}): {}\".format(v,  sol.x[0]))\n",
    "#print(\"f(x): \", fun(sol.x[0]))\n",
    "#print(sol)"
   ]
  },
  {
   "cell_type": "markdown",
   "metadata": {
    "colab_type": "text",
    "id": "1wHPyQE8wwxd"
   },
   "source": [
    "**Using Sympy**"
   ]
  },
  {
   "cell_type": "code",
   "execution_count": 21,
   "metadata": {
    "colab": {
     "base_uri": "https://localhost:8080/",
     "height": 34
    },
    "colab_type": "code",
    "id": "Vx3ad88eLJ9j",
    "outputId": "b51440df-a1f7-4b74-fa56-f6b573a1b52a"
   },
   "outputs": [
    {
     "name": "stdout",
     "output_type": "stream",
     "text": [
      "{-sqrt(a), sqrt(a)}\n"
     ]
    }
   ],
   "source": [
    "import sympy as sym\n",
    "x, a = sym.symbols('x a')\n",
    "res = sym.solveset(x**2-a, x)\n",
    "print(res)"
   ]
  },
  {
   "cell_type": "code",
   "execution_count": 8,
   "metadata": {
    "colab": {
     "base_uri": "https://localhost:8080/",
     "height": 278
    },
    "colab_type": "code",
    "id": "ashPRl5YMZuQ",
    "outputId": "ef6cd5f1-30ff-41a4-cb40-a3fc6fac6040"
   },
   "outputs": [
    {
     "name": "stdout",
     "output_type": "stream",
     "text": [
      "Solution from SymPy:  {(-y - z + 5, y, z)}\n",
      "\n",
      "Solution from Scipy:      fjac: array([[-2.89123927e-01, -9.15605969e-01, -2.79415576e-01],\n",
      "       [ 9.57291375e-01, -2.76765456e-01, -8.36307658e-02],\n",
      "       [ 7.59750852e-04,  2.91661776e-01, -9.56521213e-01]])\n",
      "     fun: array([5.75216319e-10, 3.52395535e-09, 0.00000000e+00])\n",
      " message: 'The solution converged.'\n",
      "    nfev: 18\n",
      "     qtf: array([ 6.18644926e-08,  7.73866142e-09, -1.87482439e-08])\n",
      "       r: array([-3.57889864, -4.6852964 ,  9.88315081,  3.69654345,  3.8022166 ,\n",
      "       -4.26492224])\n",
      "  status: 1\n",
      " success: True\n",
      "       x: array([0.59905376, 2.3959314 , 2.00501484])\n",
      "0.5990537567429417\n"
     ]
    }
   ],
   "source": [
    "import sympy as sym\n",
    "x, y, z = sym.symbols('x y z')\n",
    "res = sym.nonlinsolve([sym.sin(x) + y**2 + sym.ln(z) - 7, \n",
    "                       3*x + 2**y -z**3 + 1, \n",
    "                       x + y + z - 5], [x, y, z])\n",
    "print(\"Solution from SymPy: \", res)\n",
    "print()\n",
    "      \n",
    "      \n",
    "import numpy as np\n",
    "from scipy import optimize\n",
    "def fun(x) :\n",
    "  return [np.sin(x[0]) + x[1]**2 + np.log(x[2]) - 7, \n",
    "          3*x[0] + 2**x[1] - x[2]**3 + 1, \n",
    "          x[0] + x[1] + x[2] - 5]\n",
    "sol = optimize.root(fun, [1, 1, 1])\n",
    "print(\"Solution from Scipy: \", sol)\n",
    "print(-sol.x[1] - sol.x[2] + 5)"
   ]
  },
  {
   "cell_type": "markdown",
   "metadata": {
    "colab_type": "text",
    "id": "sFYzySHBtwUC"
   },
   "source": [
    "## Scalar equations"
   ]
  },
  {
   "cell_type": "code",
   "execution_count": 1,
   "metadata": {
    "colab": {
     "base_uri": "https://localhost:8080/",
     "height": 399
    },
    "colab_type": "code",
    "id": "G_4mYDe1twUJ",
    "outputId": "277e5e44-c804-40d7-ea9b-28edf59a04de"
   },
   "outputs": [
    {
     "name": "stdout",
     "output_type": "stream",
     "text": [
      "Solution:  [0.76864886]\n",
      "f(x):  -1.1102230246251565e-16\n",
      "    fjac: array([[-1.]])\n",
      "     fun: array([-1.11022302e-16])\n",
      " message: 'The solution converged.'\n",
      "    nfev: 8\n",
      "     qtf: array([-1.46841428e-11])\n",
      "       r: array([0.63519354])\n",
      "  status: 1\n",
      " success: True\n",
      "       x: array([0.76864886])\n",
      "Solution:  [3.04668053]\n",
      "f(x):  1.652011860642233e-13\n",
      "    fjac: array([[-1.]])\n",
      "     fun: array([1.65201186e-13])\n",
      " message: 'The solution converged.'\n",
      "    nfev: 9\n",
      "     qtf: array([-1.56524091e-08])\n",
      "       r: array([-2.28664498])\n",
      "  status: 1\n",
      " success: True\n",
      "       x: array([3.04668053])\n"
     ]
    }
   ],
   "source": [
    "from scipy import optimize\n",
    "import numpy as np\n",
    "\n",
    "def f(x):\n",
    "    return np.sin(np.sqrt(x)) -x\n",
    "def g(x):\n",
    "    return x**3-6*x**2+11*x-6.1\n",
    "\n",
    "sol = optimize.root(f, [0.5],  method='hybr')\n",
    "print(\"Solution: \", sol.x)\n",
    "print(\"f(x): \", f(sol.x[0]))\n",
    "print(sol)\n",
    "\n",
    "sol = optimize.root(g, [3.5],  method='hybr')\n",
    "print(\"Solution: \", sol.x)\n",
    "print(\"f(x): \", g(sol.x[0]))\n",
    "print(sol)"
   ]
  },
  {
   "cell_type": "markdown",
   "metadata": {
    "colab_type": "text",
    "id": "bf1v2hlQtwUg"
   },
   "source": [
    "## Bungee jumping"
   ]
  },
  {
   "cell_type": "code",
   "execution_count": 0,
   "metadata": {
    "colab": {},
    "colab_type": "code",
    "id": "63kqc9X1twUp",
    "outputId": "9dd241c3-209c-4860-8782-b9149c27141a"
   },
   "outputs": [
    {
     "data": {
      "image/png": "[encoded data removed]",
      "text/plain": [
       "<Figure size 432x288 with 1 Axes>"
      ]
     },
     "metadata": {
      "tags": []
     },
     "output_type": "display_data"
    }
   ],
   "source": [
    "import numpy as np\n",
    "import matplotlib.pyplot as plt\n",
    "import seaborn as sns # this improves the figures aesthetics\n",
    "\n",
    "from matplotlib import rc\n",
    "rc('text', usetex=True) # use latex rendering\n",
    "\n",
    "sns.set() # activate seaborn\n",
    "sns.set_context(\"talk\") # increase fonts and imporove look for a talk\n",
    "\n",
    "cd = np.linspace(0.1, 0.9, 17)\n",
    "g = 9.81\n",
    "v = 36\n",
    "t = 4\n",
    "\n",
    "def f(x, cd):\n",
    "    return np.sqrt(g*x/cd)*np.tanh(np.sqrt(g*cd/x)*t) - v\n",
    "def r(cd):\n",
    "    sol = optimize.root(f, args=(cd), x0=[0.5],  method='hybr')\n",
    "    return sol.x\n",
    "x = np.zeros_like(cd)\n",
    "for ii, CD in enumerate(cd):\n",
    "    x[ii] = optimize.root(f, args=(CD), x0=[0.5],  method='hybr').x[0]\n",
    "\n",
    "fig, ax = plt.subplots()\n",
    "ax.plot(cd, x)\n",
    "ax.set_xlabel(r\"$c_d$[kg/m]\")\n",
    "ax.set_ylabel(r\"$m$[kg]\")\n",
    "fig.savefig(\"images/fm.png\", dpi=300, bbox_inches='tight')"
   ]
  },
  {
   "cell_type": "markdown",
   "metadata": {
    "colab_type": "text",
    "id": "1qWbMhKrtwU5"
   },
   "source": [
    "## Intersection of 3D objects"
   ]
  },
  {
   "cell_type": "code",
   "execution_count": 0,
   "metadata": {
    "colab": {},
    "colab_type": "code",
    "id": "JjAmhzWQtwU5",
    "outputId": "37bb862b-7200-4c9b-844f-0ed108dc2038"
   },
   "outputs": [
    {
     "name": "stdout",
     "output_type": "stream",
     "text": [
      "Solution:  [0.61803399 1.61803399]\n"
     ]
    },
    {
     "data": {
      "text/plain": [
       "(-1.7320508075688772, 1.7320508075688772)"
      ]
     },
     "execution_count": 34,
     "metadata": {
      "tags": []
     },
     "output_type": "execute_result"
    },
    {
     "data": {
      "image/png": "[encoded data removed]",
      "text/plain": [
       "<Figure size 432x288 with 1 Axes>"
      ]
     },
     "metadata": {
      "tags": []
     },
     "output_type": "display_data"
    }
   ],
   "source": [
    "import matplotlib.pyplot as plt\n",
    "import seaborn as sns # this improves the figures aesthetics\n",
    "from matplotlib import rc\n",
    "rc('text', usetex=True) # use latex rendering\n",
    "from scipy import optimize\n",
    "import numpy as np\n",
    "\n",
    "# x is a list (x[0] = x, x[1] = y)\n",
    "def fun(x):\n",
    "    return [x[0]**2  + x[1]**2- 3.0, x[0]*x[1] - 1]\n",
    "\n",
    "sol = optimize.root(fun, [0.5, 1.5])\n",
    "print(\"Solution: \", sol.x)\n",
    "\n",
    "fig, ax = plt.subplots()\n",
    "x = np.linspace(-np.sqrt(3), np.sqrt(3), 50)\n",
    "ax.plot(x, np.sqrt(3 - x*x))\n",
    "ax.plot(x, -np.sqrt(3 - x*x))\n",
    "ax.plot(x, 1.0/x)\n",
    "ax.set_xlim([-np.sqrt(3), np.sqrt(3)])\n",
    "ax.set_ylim([-np.sqrt(3), np.sqrt(3)])\n"
   ]
  },
  {
   "cell_type": "code",
   "execution_count": 0,
   "metadata": {
    "colab": {},
    "colab_type": "code",
    "id": "11gTY1YAtwVF"
   },
   "outputs": [],
   "source": [
    "ax.set_xlim([-np.sqrt(3), np.sqrt(3)])\n"
   ]
  }
 ],
 "metadata": {
  "colab": {
   "include_colab_link": true,
   "name": "Solutions-Nonlinear-equations.ipynb",
   "provenance": [],
   "version": "0.3.2"
  },
  "kernelspec": {
   "display_name": "Python 3",
   "language": "python",
   "name": "python3"
  },
  "language_info": {
   "codemirror_mode": {
    "name": "ipython",
    "version": 3
   },
   "file_extension": ".py",
   "mimetype": "text/x-python",
   "name": "python",
   "nbconvert_exporter": "python",
   "pygments_lexer": "ipython3",
   "version": "3.8.3"
  },
  "latex_envs": {
   "LaTeX_envs_menu_present": true,
   "autoclose": true,
   "autocomplete": true,
   "bibliofile": "biblio.bib",
   "cite_by": "apalike",
   "current_citInitial": 1,
   "eqLabelWithNumbers": true,
   "eqNumInitial": 1,
   "hotkeys": {
    "equation": "Ctrl-E",
    "itemize": "Ctrl-I"
   },
   "labels_anchors": false,
   "latex_user_defs": false,
   "report_style_numbering": false,
   "user_envs_cfg": false
  },
  "toc": {
   "base_numbering": 1,
   "nav_menu": {},
   "number_sections": true,
   "sideBar": true,
   "skip_h1_title": false,
   "title_cell": "Table of Contents",
   "title_sidebar": "Contents",
   "toc_cell": false,
   "toc_position": {},
   "toc_section_display": true,
   "toc_window_display": false
  },
  "varInspector": {
   "cols": {
    "lenName": 16,
    "lenType": 16,
    "lenVar": 40
   },
   "kernels_config": {
    "python": {
     "delete_cmd_postfix": "",
     "delete_cmd_prefix": "del ",
     "library": "var_list.py",
     "varRefreshCmd": "print(var_dic_list())"
    },
    "r": {
     "delete_cmd_postfix": ") ",
     "delete_cmd_prefix": "rm(",
     "library": "var_list.r",
     "varRefreshCmd": "cat(var_dic_list()) "
    }
   },
   "types_to_exclude": [
    "module",
    "function",
    "builtin_function_or_method",
    "instance",
    "_Feature"
   ],
   "window_display": false
  }
 },
 "nbformat": 4,
 "nbformat_minor": 1
}
