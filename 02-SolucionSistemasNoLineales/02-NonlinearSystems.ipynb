{
 "cells": [
  {
   "cell_type": "markdown",
   "metadata": {
    "slideshow": {
     "slide_type": "slide"
    }
   },
   "source": [
    "# Solutions of non linear equations\n",
    "\n",
    "In this section we will learn how to solve equations of the following type\n",
    "$$x = \\sin x^2$$\n",
    "or $$x+y-\\sin(xy) = 0$$\n",
    "\n",
    "This equations are typical on real applications so efficient ways to solve and find the solutions are needed.\n",
    "\n",
    "In the following we will learn some basic methods and then jump directly to the tools given by python. \n",
    "\n",
    "- Bracketing methods\n",
    "- Open methods"
   ]
  },
  {
   "cell_type": "markdown",
   "metadata": {
    "slideshow": {
     "slide_type": "slide"
    }
   },
   "source": [
    "![](images/roots.png)"
   ]
  },
  {
   "cell_type": "markdown",
   "metadata": {
    "slideshow": {
     "slide_type": "slide"
    }
   },
   "source": [
    "## A problem example : Bunge jumping  (From Chapra 2012)\n",
    "   The velocity for a jumper is given as \n",
    "   $$\n",
    "   v(t) = \\sqrt{\\frac{gm}{c_d}} \\tanh \\left( {\\sqrt{\\frac{gc_d}{m}}t} \\right) .\n",
    "   $$\n",
    "   You need to find the critical mass $m$ such us the speed does not\n",
    "   exceed $v = 36$ m/s after $t = 4$ s, for $c_d = 0.25$ kg/m. How to\n",
    "   do it? "
   ]
  },
  {
   "cell_type": "markdown",
   "metadata": {
    "slideshow": {
     "slide_type": "fragment"
    }
   },
   "source": [
    "   Start by defining a new function, $f(m)$, such us \n",
    "   $$\n",
    "   f(m) = \\sqrt{\\frac{gm}{c_d}} \\tanh \\left( {\\sqrt{\\frac{gc_d}{m}}t}\n",
    "   \\right) - v(t).\n",
    "   $$\n",
    "   Now your problem is to find the root of the function $f(m)$"
   ]
  },
  {
   "cell_type": "markdown",
   "metadata": {
    "slideshow": {
     "slide_type": "slide"
    }
   },
   "source": [
    "# Graphical Method\n",
    "   The first approach is to plot the function $f(m)$ and find the root\n",
    "   graphically. The following snippet shows you how to do that"
   ]
  },
  {
   "cell_type": "code",
   "execution_count": 8,
   "metadata": {
    "ExecuteTime": {
     "end_time": "2020-08-29T16:45:11.216108Z",
     "start_time": "2020-08-29T16:45:10.716438Z"
    },
    "slideshow": {
     "slide_type": "subslide"
    }
   },
   "outputs": [
    {
     "data": {
      "application/javascript": [
       "/* Put everything inside the global mpl namespace */\n",
       "/* global mpl */\n",
       "window.mpl = {};\n",
       "\n",
       "mpl.get_websocket_type = function () {\n",
       "    if (typeof WebSocket !== 'undefined') {\n",
       "        return WebSocket;\n",
       "    } else if (typeof MozWebSocket !== 'undefined') {\n",
       "        return MozWebSocket;\n",
       "    } else {\n",
       "        alert(\n",
       "            'Your browser does not have WebSocket support. ' +\n",
       "                'Please try Chrome, Safari or Firefox ≥ 6. ' +\n",
       "                'Firefox 4 and 5 are also supported but you ' +\n",
       "                'have to enable WebSockets in about:config.'\n",
       "        );\n",
       "    }\n",
       "};\n",
       "\n",
       "mpl.figure = function (figure_id, websocket, ondownload, parent_element) {\n",
       "    this.id = figure_id;\n",
       "\n",
       "    this.ws = websocket;\n",
       "\n",
       "    this.supports_binary = this.ws.binaryType !== undefined;\n",
       "\n",
       "    if (!this.supports_binary) {\n",
       "        var warnings = document.getElementById('mpl-warnings');\n",
       "        if (warnings) {\n",
       "            warnings.style.display = 'block';\n",
       "            warnings.textContent =\n",
       "                'This browser does not support binary websocket messages. ' +\n",
       "                'Performance may be slow.';\n",
       "        }\n",
       "    }\n",
       "\n",
       "    this.imageObj = new Image();\n",
       "\n",
       "    this.context = undefined;\n",
       "    this.message = undefined;\n",
       "    this.canvas = undefined;\n",
       "    this.rubberband_canvas = undefined;\n",
       "    this.rubberband_context = undefined;\n",
       "    this.format_dropdown = undefined;\n",
       "\n",
       "    this.image_mode = 'full';\n",
       "\n",
       "    this.root = document.createElement('div');\n",
       "    this.root.setAttribute('style', 'display: inline-block');\n",
       "    this._root_extra_style(this.root);\n",
       "\n",
       "    parent_element.appendChild(this.root);\n",
       "\n",
       "    this._init_header(this);\n",
       "    this._init_canvas(this);\n",
       "    this._init_toolbar(this);\n",
       "\n",
       "    var fig = this;\n",
       "\n",
       "    this.waiting = false;\n",
       "\n",
       "    this.ws.onopen = function () {\n",
       "        fig.send_message('supports_binary', { value: fig.supports_binary });\n",
       "        fig.send_message('send_image_mode', {});\n",
       "        if (mpl.ratio !== 1) {\n",
       "            fig.send_message('set_dpi_ratio', { dpi_ratio: mpl.ratio });\n",
       "        }\n",
       "        fig.send_message('refresh', {});\n",
       "    };\n",
       "\n",
       "    this.imageObj.onload = function () {\n",
       "        if (fig.image_mode === 'full') {\n",
       "            // Full images could contain transparency (where diff images\n",
       "            // almost always do), so we need to clear the canvas so that\n",
       "            // there is no ghosting.\n",
       "            fig.context.clearRect(0, 0, fig.canvas.width, fig.canvas.height);\n",
       "        }\n",
       "        fig.context.drawImage(fig.imageObj, 0, 0);\n",
       "    };\n",
       "\n",
       "    this.imageObj.onunload = function () {\n",
       "        fig.ws.close();\n",
       "    };\n",
       "\n",
       "    this.ws.onmessage = this._make_on_message_function(this);\n",
       "\n",
       "    this.ondownload = ondownload;\n",
       "};\n",
       "\n",
       "mpl.figure.prototype._init_header = function () {\n",
       "    var titlebar = document.createElement('div');\n",
       "    titlebar.classList =\n",
       "        'ui-dialog-titlebar ui-widget-header ui-corner-all ui-helper-clearfix';\n",
       "    var titletext = document.createElement('div');\n",
       "    titletext.classList = 'ui-dialog-title';\n",
       "    titletext.setAttribute(\n",
       "        'style',\n",
       "        'width: 100%; text-align: center; padding: 3px;'\n",
       "    );\n",
       "    titlebar.appendChild(titletext);\n",
       "    this.root.appendChild(titlebar);\n",
       "    this.header = titletext;\n",
       "};\n",
       "\n",
       "mpl.figure.prototype._canvas_extra_style = function (_canvas_div) {};\n",
       "\n",
       "mpl.figure.prototype._root_extra_style = function (_canvas_div) {};\n",
       "\n",
       "mpl.figure.prototype._init_canvas = function () {\n",
       "    var fig = this;\n",
       "\n",
       "    var canvas_div = (this.canvas_div = document.createElement('div'));\n",
       "    canvas_div.setAttribute(\n",
       "        'style',\n",
       "        'border: 1px solid #ddd;' +\n",
       "            'box-sizing: content-box;' +\n",
       "            'clear: both;' +\n",
       "            'min-height: 1px;' +\n",
       "            'min-width: 1px;' +\n",
       "            'outline: 0;' +\n",
       "            'overflow: hidden;' +\n",
       "            'position: relative;' +\n",
       "            'resize: both;'\n",
       "    );\n",
       "\n",
       "    function on_keyboard_event_closure(name) {\n",
       "        return function (event) {\n",
       "            return fig.key_event(event, name);\n",
       "        };\n",
       "    }\n",
       "\n",
       "    canvas_div.addEventListener(\n",
       "        'keydown',\n",
       "        on_keyboard_event_closure('key_press')\n",
       "    );\n",
       "    canvas_div.addEventListener(\n",
       "        'keyup',\n",
       "        on_keyboard_event_closure('key_release')\n",
       "    );\n",
       "\n",
       "    this._canvas_extra_style(canvas_div);\n",
       "    this.root.appendChild(canvas_div);\n",
       "\n",
       "    var canvas = (this.canvas = document.createElement('canvas'));\n",
       "    canvas.classList.add('mpl-canvas');\n",
       "    canvas.setAttribute('style', 'box-sizing: content-box;');\n",
       "\n",
       "    this.context = canvas.getContext('2d');\n",
       "\n",
       "    var backingStore =\n",
       "        this.context.backingStorePixelRatio ||\n",
       "        this.context.webkitBackingStorePixelRatio ||\n",
       "        this.context.mozBackingStorePixelRatio ||\n",
       "        this.context.msBackingStorePixelRatio ||\n",
       "        this.context.oBackingStorePixelRatio ||\n",
       "        this.context.backingStorePixelRatio ||\n",
       "        1;\n",
       "\n",
       "    mpl.ratio = (window.devicePixelRatio || 1) / backingStore;\n",
       "\n",
       "    var rubberband_canvas = (this.rubberband_canvas = document.createElement(\n",
       "        'canvas'\n",
       "    ));\n",
       "    rubberband_canvas.setAttribute(\n",
       "        'style',\n",
       "        'box-sizing: content-box; position: absolute; left: 0; top: 0; z-index: 1;'\n",
       "    );\n",
       "\n",
       "    var resizeObserver = new ResizeObserver(function (entries) {\n",
       "        var nentries = entries.length;\n",
       "        for (var i = 0; i < nentries; i++) {\n",
       "            var entry = entries[i];\n",
       "            var width, height;\n",
       "            if (entry.contentBoxSize) {\n",
       "                width = entry.contentBoxSize.inlineSize;\n",
       "                height = entry.contentBoxSize.blockSize;\n",
       "            } else {\n",
       "                width = entry.contentRect.width;\n",
       "                height = entry.contentRect.height;\n",
       "            }\n",
       "\n",
       "            // Keep the size of the canvas and rubber band canvas in sync with\n",
       "            // the canvas container.\n",
       "            canvas.setAttribute('width', width * mpl.ratio);\n",
       "            canvas.setAttribute('height', height * mpl.ratio);\n",
       "            canvas.setAttribute(\n",
       "                'style',\n",
       "                'width: ' + width + 'px; height: ' + height + 'px;'\n",
       "            );\n",
       "\n",
       "            rubberband_canvas.setAttribute('width', width);\n",
       "            rubberband_canvas.setAttribute('height', height);\n",
       "\n",
       "            // And update the size in Python. We ignore the initial 0/0 size\n",
       "            // that occurs as the element is placed into the DOM, which should\n",
       "            // otherwise not happen due to the minimum size styling.\n",
       "            if (width != 0 && height != 0) {\n",
       "                fig.request_resize(width, height);\n",
       "            }\n",
       "        }\n",
       "    });\n",
       "    resizeObserver.observe(canvas_div);\n",
       "\n",
       "    function on_mouse_event_closure(name) {\n",
       "        return function (event) {\n",
       "            return fig.mouse_event(event, name);\n",
       "        };\n",
       "    }\n",
       "\n",
       "    rubberband_canvas.addEventListener(\n",
       "        'mousedown',\n",
       "        on_mouse_event_closure('button_press')\n",
       "    );\n",
       "    rubberband_canvas.addEventListener(\n",
       "        'mouseup',\n",
       "        on_mouse_event_closure('button_release')\n",
       "    );\n",
       "    // Throttle sequential mouse events to 1 every 20ms.\n",
       "    rubberband_canvas.addEventListener(\n",
       "        'mousemove',\n",
       "        on_mouse_event_closure('motion_notify')\n",
       "    );\n",
       "\n",
       "    rubberband_canvas.addEventListener(\n",
       "        'mouseenter',\n",
       "        on_mouse_event_closure('figure_enter')\n",
       "    );\n",
       "    rubberband_canvas.addEventListener(\n",
       "        'mouseleave',\n",
       "        on_mouse_event_closure('figure_leave')\n",
       "    );\n",
       "\n",
       "    canvas_div.addEventListener('wheel', function (event) {\n",
       "        if (event.deltaY < 0) {\n",
       "            event.step = 1;\n",
       "        } else {\n",
       "            event.step = -1;\n",
       "        }\n",
       "        on_mouse_event_closure('scroll')(event);\n",
       "    });\n",
       "\n",
       "    canvas_div.appendChild(canvas);\n",
       "    canvas_div.appendChild(rubberband_canvas);\n",
       "\n",
       "    this.rubberband_context = rubberband_canvas.getContext('2d');\n",
       "    this.rubberband_context.strokeStyle = '#000000';\n",
       "\n",
       "    this._resize_canvas = function (width, height, forward) {\n",
       "        if (forward) {\n",
       "            canvas_div.style.width = width + 'px';\n",
       "            canvas_div.style.height = height + 'px';\n",
       "        }\n",
       "    };\n",
       "\n",
       "    // Disable right mouse context menu.\n",
       "    this.rubberband_canvas.addEventListener('contextmenu', function (_e) {\n",
       "        return false;\n",
       "    });\n",
       "\n",
       "    function set_focus() {\n",
       "        canvas.focus();\n",
       "        canvas_div.focus();\n",
       "    }\n",
       "\n",
       "    window.setTimeout(set_focus, 100);\n",
       "};\n",
       "\n",
       "mpl.figure.prototype._init_toolbar = function () {\n",
       "    var fig = this;\n",
       "\n",
       "    var toolbar = document.createElement('div');\n",
       "    toolbar.classList = 'mpl-toolbar';\n",
       "    this.root.appendChild(toolbar);\n",
       "\n",
       "    function on_click_closure(name) {\n",
       "        return function (_event) {\n",
       "            return fig.toolbar_button_onclick(name);\n",
       "        };\n",
       "    }\n",
       "\n",
       "    function on_mouseover_closure(tooltip) {\n",
       "        return function (event) {\n",
       "            if (!event.currentTarget.disabled) {\n",
       "                return fig.toolbar_button_onmouseover(tooltip);\n",
       "            }\n",
       "        };\n",
       "    }\n",
       "\n",
       "    fig.buttons = {};\n",
       "    var buttonGroup = document.createElement('div');\n",
       "    buttonGroup.classList = 'mpl-button-group';\n",
       "    for (var toolbar_ind in mpl.toolbar_items) {\n",
       "        var name = mpl.toolbar_items[toolbar_ind][0];\n",
       "        var tooltip = mpl.toolbar_items[toolbar_ind][1];\n",
       "        var image = mpl.toolbar_items[toolbar_ind][2];\n",
       "        var method_name = mpl.toolbar_items[toolbar_ind][3];\n",
       "\n",
       "        if (!name) {\n",
       "            /* Instead of a spacer, we start a new button group. */\n",
       "            if (buttonGroup.hasChildNodes()) {\n",
       "                toolbar.appendChild(buttonGroup);\n",
       "            }\n",
       "            buttonGroup = document.createElement('div');\n",
       "            buttonGroup.classList = 'mpl-button-group';\n",
       "            continue;\n",
       "        }\n",
       "\n",
       "        var button = (fig.buttons[name] = document.createElement('button'));\n",
       "        button.classList = 'mpl-widget';\n",
       "        button.setAttribute('role', 'button');\n",
       "        button.setAttribute('aria-disabled', 'false');\n",
       "        button.addEventListener('click', on_click_closure(method_name));\n",
       "        button.addEventListener('mouseover', on_mouseover_closure(tooltip));\n",
       "\n",
       "        var icon_img = document.createElement('img');\n",
       "        icon_img.src = '_images/' + image + '.png';\n",
       "        icon_img.srcset = '_images/' + image + '_large.png 2x';\n",
       "        icon_img.alt = tooltip;\n",
       "        button.appendChild(icon_img);\n",
       "\n",
       "        buttonGroup.appendChild(button);\n",
       "    }\n",
       "\n",
       "    if (buttonGroup.hasChildNodes()) {\n",
       "        toolbar.appendChild(buttonGroup);\n",
       "    }\n",
       "\n",
       "    var fmt_picker = document.createElement('select');\n",
       "    fmt_picker.classList = 'mpl-widget';\n",
       "    toolbar.appendChild(fmt_picker);\n",
       "    this.format_dropdown = fmt_picker;\n",
       "\n",
       "    for (var ind in mpl.extensions) {\n",
       "        var fmt = mpl.extensions[ind];\n",
       "        var option = document.createElement('option');\n",
       "        option.selected = fmt === mpl.default_extension;\n",
       "        option.innerHTML = fmt;\n",
       "        fmt_picker.appendChild(option);\n",
       "    }\n",
       "\n",
       "    var status_bar = document.createElement('span');\n",
       "    status_bar.classList = 'mpl-message';\n",
       "    toolbar.appendChild(status_bar);\n",
       "    this.message = status_bar;\n",
       "};\n",
       "\n",
       "mpl.figure.prototype.request_resize = function (x_pixels, y_pixels) {\n",
       "    // Request matplotlib to resize the figure. Matplotlib will then trigger a resize in the client,\n",
       "    // which will in turn request a refresh of the image.\n",
       "    this.send_message('resize', { width: x_pixels, height: y_pixels });\n",
       "};\n",
       "\n",
       "mpl.figure.prototype.send_message = function (type, properties) {\n",
       "    properties['type'] = type;\n",
       "    properties['figure_id'] = this.id;\n",
       "    this.ws.send(JSON.stringify(properties));\n",
       "};\n",
       "\n",
       "mpl.figure.prototype.send_draw_message = function () {\n",
       "    if (!this.waiting) {\n",
       "        this.waiting = true;\n",
       "        this.ws.send(JSON.stringify({ type: 'draw', figure_id: this.id }));\n",
       "    }\n",
       "};\n",
       "\n",
       "mpl.figure.prototype.handle_save = function (fig, _msg) {\n",
       "    var format_dropdown = fig.format_dropdown;\n",
       "    var format = format_dropdown.options[format_dropdown.selectedIndex].value;\n",
       "    fig.ondownload(fig, format);\n",
       "};\n",
       "\n",
       "mpl.figure.prototype.handle_resize = function (fig, msg) {\n",
       "    var size = msg['size'];\n",
       "    if (size[0] !== fig.canvas.width || size[1] !== fig.canvas.height) {\n",
       "        fig._resize_canvas(size[0], size[1], msg['forward']);\n",
       "        fig.send_message('refresh', {});\n",
       "    }\n",
       "};\n",
       "\n",
       "mpl.figure.prototype.handle_rubberband = function (fig, msg) {\n",
       "    var x0 = msg['x0'] / mpl.ratio;\n",
       "    var y0 = (fig.canvas.height - msg['y0']) / mpl.ratio;\n",
       "    var x1 = msg['x1'] / mpl.ratio;\n",
       "    var y1 = (fig.canvas.height - msg['y1']) / mpl.ratio;\n",
       "    x0 = Math.floor(x0) + 0.5;\n",
       "    y0 = Math.floor(y0) + 0.5;\n",
       "    x1 = Math.floor(x1) + 0.5;\n",
       "    y1 = Math.floor(y1) + 0.5;\n",
       "    var min_x = Math.min(x0, x1);\n",
       "    var min_y = Math.min(y0, y1);\n",
       "    var width = Math.abs(x1 - x0);\n",
       "    var height = Math.abs(y1 - y0);\n",
       "\n",
       "    fig.rubberband_context.clearRect(\n",
       "        0,\n",
       "        0,\n",
       "        fig.canvas.width / mpl.ratio,\n",
       "        fig.canvas.height / mpl.ratio\n",
       "    );\n",
       "\n",
       "    fig.rubberband_context.strokeRect(min_x, min_y, width, height);\n",
       "};\n",
       "\n",
       "mpl.figure.prototype.handle_figure_label = function (fig, msg) {\n",
       "    // Updates the figure title.\n",
       "    fig.header.textContent = msg['label'];\n",
       "};\n",
       "\n",
       "mpl.figure.prototype.handle_cursor = function (fig, msg) {\n",
       "    var cursor = msg['cursor'];\n",
       "    switch (cursor) {\n",
       "        case 0:\n",
       "            cursor = 'pointer';\n",
       "            break;\n",
       "        case 1:\n",
       "            cursor = 'default';\n",
       "            break;\n",
       "        case 2:\n",
       "            cursor = 'crosshair';\n",
       "            break;\n",
       "        case 3:\n",
       "            cursor = 'move';\n",
       "            break;\n",
       "    }\n",
       "    fig.rubberband_canvas.style.cursor = cursor;\n",
       "};\n",
       "\n",
       "mpl.figure.prototype.handle_message = function (fig, msg) {\n",
       "    fig.message.textContent = msg['message'];\n",
       "};\n",
       "\n",
       "mpl.figure.prototype.handle_draw = function (fig, _msg) {\n",
       "    // Request the server to send over a new figure.\n",
       "    fig.send_draw_message();\n",
       "};\n",
       "\n",
       "mpl.figure.prototype.handle_image_mode = function (fig, msg) {\n",
       "    fig.image_mode = msg['mode'];\n",
       "};\n",
       "\n",
       "mpl.figure.prototype.handle_history_buttons = function (fig, msg) {\n",
       "    for (var key in msg) {\n",
       "        if (!(key in fig.buttons)) {\n",
       "            continue;\n",
       "        }\n",
       "        fig.buttons[key].disabled = !msg[key];\n",
       "        fig.buttons[key].setAttribute('aria-disabled', !msg[key]);\n",
       "    }\n",
       "};\n",
       "\n",
       "mpl.figure.prototype.handle_navigate_mode = function (fig, msg) {\n",
       "    if (msg['mode'] === 'PAN') {\n",
       "        fig.buttons['Pan'].classList.add('active');\n",
       "        fig.buttons['Zoom'].classList.remove('active');\n",
       "    } else if (msg['mode'] === 'ZOOM') {\n",
       "        fig.buttons['Pan'].classList.remove('active');\n",
       "        fig.buttons['Zoom'].classList.add('active');\n",
       "    } else {\n",
       "        fig.buttons['Pan'].classList.remove('active');\n",
       "        fig.buttons['Zoom'].classList.remove('active');\n",
       "    }\n",
       "};\n",
       "\n",
       "mpl.figure.prototype.updated_canvas_event = function () {\n",
       "    // Called whenever the canvas gets updated.\n",
       "    this.send_message('ack', {});\n",
       "};\n",
       "\n",
       "// A function to construct a web socket function for onmessage handling.\n",
       "// Called in the figure constructor.\n",
       "mpl.figure.prototype._make_on_message_function = function (fig) {\n",
       "    return function socket_on_message(evt) {\n",
       "        if (evt.data instanceof Blob) {\n",
       "            /* FIXME: We get \"Resource interpreted as Image but\n",
       "             * transferred with MIME type text/plain:\" errors on\n",
       "             * Chrome.  But how to set the MIME type?  It doesn't seem\n",
       "             * to be part of the websocket stream */\n",
       "            evt.data.type = 'image/png';\n",
       "\n",
       "            /* Free the memory for the previous frames */\n",
       "            if (fig.imageObj.src) {\n",
       "                (window.URL || window.webkitURL).revokeObjectURL(\n",
       "                    fig.imageObj.src\n",
       "                );\n",
       "            }\n",
       "\n",
       "            fig.imageObj.src = (window.URL || window.webkitURL).createObjectURL(\n",
       "                evt.data\n",
       "            );\n",
       "            fig.updated_canvas_event();\n",
       "            fig.waiting = false;\n",
       "            return;\n",
       "        } else if (\n",
       "            typeof evt.data === 'string' &&\n",
       "            evt.data.slice(0, 21) === 'data:image/png;base64'\n",
       "        ) {\n",
       "            fig.imageObj.src = evt.data;\n",
       "            fig.updated_canvas_event();\n",
       "            fig.waiting = false;\n",
       "            return;\n",
       "        }\n",
       "\n",
       "        var msg = JSON.parse(evt.data);\n",
       "        var msg_type = msg['type'];\n",
       "\n",
       "        // Call the  \"handle_{type}\" callback, which takes\n",
       "        // the figure and JSON message as its only arguments.\n",
       "        try {\n",
       "            var callback = fig['handle_' + msg_type];\n",
       "        } catch (e) {\n",
       "            console.log(\n",
       "                \"No handler for the '\" + msg_type + \"' message type: \",\n",
       "                msg\n",
       "            );\n",
       "            return;\n",
       "        }\n",
       "\n",
       "        if (callback) {\n",
       "            try {\n",
       "                // console.log(\"Handling '\" + msg_type + \"' message: \", msg);\n",
       "                callback(fig, msg);\n",
       "            } catch (e) {\n",
       "                console.log(\n",
       "                    \"Exception inside the 'handler_\" + msg_type + \"' callback:\",\n",
       "                    e,\n",
       "                    e.stack,\n",
       "                    msg\n",
       "                );\n",
       "            }\n",
       "        }\n",
       "    };\n",
       "};\n",
       "\n",
       "// from http://stackoverflow.com/questions/1114465/getting-mouse-location-in-canvas\n",
       "mpl.findpos = function (e) {\n",
       "    //this section is from http://www.quirksmode.org/js/events_properties.html\n",
       "    var targ;\n",
       "    if (!e) {\n",
       "        e = window.event;\n",
       "    }\n",
       "    if (e.target) {\n",
       "        targ = e.target;\n",
       "    } else if (e.srcElement) {\n",
       "        targ = e.srcElement;\n",
       "    }\n",
       "    if (targ.nodeType === 3) {\n",
       "        // defeat Safari bug\n",
       "        targ = targ.parentNode;\n",
       "    }\n",
       "\n",
       "    // pageX,Y are the mouse positions relative to the document\n",
       "    var boundingRect = targ.getBoundingClientRect();\n",
       "    var x = e.pageX - (boundingRect.left + document.body.scrollLeft);\n",
       "    var y = e.pageY - (boundingRect.top + document.body.scrollTop);\n",
       "\n",
       "    return { x: x, y: y };\n",
       "};\n",
       "\n",
       "/*\n",
       " * return a copy of an object with only non-object keys\n",
       " * we need this to avoid circular references\n",
       " * http://stackoverflow.com/a/24161582/3208463\n",
       " */\n",
       "function simpleKeys(original) {\n",
       "    return Object.keys(original).reduce(function (obj, key) {\n",
       "        if (typeof original[key] !== 'object') {\n",
       "            obj[key] = original[key];\n",
       "        }\n",
       "        return obj;\n",
       "    }, {});\n",
       "}\n",
       "\n",
       "mpl.figure.prototype.mouse_event = function (event, name) {\n",
       "    var canvas_pos = mpl.findpos(event);\n",
       "\n",
       "    if (name === 'button_press') {\n",
       "        this.canvas.focus();\n",
       "        this.canvas_div.focus();\n",
       "    }\n",
       "\n",
       "    var x = canvas_pos.x * mpl.ratio;\n",
       "    var y = canvas_pos.y * mpl.ratio;\n",
       "\n",
       "    this.send_message(name, {\n",
       "        x: x,\n",
       "        y: y,\n",
       "        button: event.button,\n",
       "        step: event.step,\n",
       "        guiEvent: simpleKeys(event),\n",
       "    });\n",
       "\n",
       "    /* This prevents the web browser from automatically changing to\n",
       "     * the text insertion cursor when the button is pressed.  We want\n",
       "     * to control all of the cursor setting manually through the\n",
       "     * 'cursor' event from matplotlib */\n",
       "    event.preventDefault();\n",
       "    return false;\n",
       "};\n",
       "\n",
       "mpl.figure.prototype._key_event_extra = function (_event, _name) {\n",
       "    // Handle any extra behaviour associated with a key event\n",
       "};\n",
       "\n",
       "mpl.figure.prototype.key_event = function (event, name) {\n",
       "    // Prevent repeat events\n",
       "    if (name === 'key_press') {\n",
       "        if (event.which === this._key) {\n",
       "            return;\n",
       "        } else {\n",
       "            this._key = event.which;\n",
       "        }\n",
       "    }\n",
       "    if (name === 'key_release') {\n",
       "        this._key = null;\n",
       "    }\n",
       "\n",
       "    var value = '';\n",
       "    if (event.ctrlKey && event.which !== 17) {\n",
       "        value += 'ctrl+';\n",
       "    }\n",
       "    if (event.altKey && event.which !== 18) {\n",
       "        value += 'alt+';\n",
       "    }\n",
       "    if (event.shiftKey && event.which !== 16) {\n",
       "        value += 'shift+';\n",
       "    }\n",
       "\n",
       "    value += 'k';\n",
       "    value += event.which.toString();\n",
       "\n",
       "    this._key_event_extra(event, name);\n",
       "\n",
       "    this.send_message(name, { key: value, guiEvent: simpleKeys(event) });\n",
       "    return false;\n",
       "};\n",
       "\n",
       "mpl.figure.prototype.toolbar_button_onclick = function (name) {\n",
       "    if (name === 'download') {\n",
       "        this.handle_save(this, null);\n",
       "    } else {\n",
       "        this.send_message('toolbar_button', { name: name });\n",
       "    }\n",
       "};\n",
       "\n",
       "mpl.figure.prototype.toolbar_button_onmouseover = function (tooltip) {\n",
       "    this.message.textContent = tooltip;\n",
       "};\n",
       "mpl.toolbar_items = [[\"Home\", \"Reset original view\", \"fa fa-home icon-home\", \"home\"], [\"Back\", \"Back to previous view\", \"fa fa-arrow-left icon-arrow-left\", \"back\"], [\"Forward\", \"Forward to next view\", \"fa fa-arrow-right icon-arrow-right\", \"forward\"], [\"\", \"\", \"\", \"\"], [\"Pan\", \"Left button pans, Right button zooms\\nx/y fixes axis, CTRL fixes aspect\", \"fa fa-arrows icon-move\", \"pan\"], [\"Zoom\", \"Zoom to rectangle\\nx/y fixes axis, CTRL fixes aspect\", \"fa fa-square-o icon-check-empty\", \"zoom\"], [\"\", \"\", \"\", \"\"], [\"Download\", \"Download plot\", \"fa fa-floppy-o icon-save\", \"download\"]];\n",
       "\n",
       "mpl.extensions = [\"eps\", \"jpeg\", \"pdf\", \"png\", \"ps\", \"raw\", \"svg\", \"tif\"];\n",
       "\n",
       "mpl.default_extension = \"png\";/* global mpl */\n",
       "\n",
       "var comm_websocket_adapter = function (comm) {\n",
       "    // Create a \"websocket\"-like object which calls the given IPython comm\n",
       "    // object with the appropriate methods. Currently this is a non binary\n",
       "    // socket, so there is still some room for performance tuning.\n",
       "    var ws = {};\n",
       "\n",
       "    ws.close = function () {\n",
       "        comm.close();\n",
       "    };\n",
       "    ws.send = function (m) {\n",
       "        //console.log('sending', m);\n",
       "        comm.send(m);\n",
       "    };\n",
       "    // Register the callback with on_msg.\n",
       "    comm.on_msg(function (msg) {\n",
       "        //console.log('receiving', msg['content']['data'], msg);\n",
       "        // Pass the mpl event to the overridden (by mpl) onmessage function.\n",
       "        ws.onmessage(msg['content']['data']);\n",
       "    });\n",
       "    return ws;\n",
       "};\n",
       "\n",
       "mpl.mpl_figure_comm = function (comm, msg) {\n",
       "    // This is the function which gets called when the mpl process\n",
       "    // starts-up an IPython Comm through the \"matplotlib\" channel.\n",
       "\n",
       "    var id = msg.content.data.id;\n",
       "    // Get hold of the div created by the display call when the Comm\n",
       "    // socket was opened in Python.\n",
       "    var element = document.getElementById(id);\n",
       "    var ws_proxy = comm_websocket_adapter(comm);\n",
       "\n",
       "    function ondownload(figure, _format) {\n",
       "        window.open(figure.canvas.toDataURL());\n",
       "    }\n",
       "\n",
       "    var fig = new mpl.figure(id, ws_proxy, ondownload, element);\n",
       "\n",
       "    // Call onopen now - mpl needs it, as it is assuming we've passed it a real\n",
       "    // web socket which is closed, not our websocket->open comm proxy.\n",
       "    ws_proxy.onopen();\n",
       "\n",
       "    fig.parent_element = element;\n",
       "    fig.cell_info = mpl.find_output_cell(\"<div id='\" + id + \"'></div>\");\n",
       "    if (!fig.cell_info) {\n",
       "        console.error('Failed to find cell for figure', id, fig);\n",
       "        return;\n",
       "    }\n",
       "};\n",
       "\n",
       "mpl.figure.prototype.handle_close = function (fig, msg) {\n",
       "    var width = fig.canvas.width / mpl.ratio;\n",
       "    fig.root.removeEventListener('remove', this._remove_fig_handler);\n",
       "\n",
       "    // Update the output cell to use the data from the current canvas.\n",
       "    fig.push_to_output();\n",
       "    var dataURL = fig.canvas.toDataURL();\n",
       "    // Re-enable the keyboard manager in IPython - without this line, in FF,\n",
       "    // the notebook keyboard shortcuts fail.\n",
       "    IPython.keyboard_manager.enable();\n",
       "    fig.parent_element.innerHTML =\n",
       "        '<img src=\"' + dataURL + '\" width=\"' + width + '\">';\n",
       "    fig.close_ws(fig, msg);\n",
       "};\n",
       "\n",
       "mpl.figure.prototype.close_ws = function (fig, msg) {\n",
       "    fig.send_message('closing', msg);\n",
       "    // fig.ws.close()\n",
       "};\n",
       "\n",
       "mpl.figure.prototype.push_to_output = function (_remove_interactive) {\n",
       "    // Turn the data on the canvas into data in the output cell.\n",
       "    var width = this.canvas.width / mpl.ratio;\n",
       "    var dataURL = this.canvas.toDataURL();\n",
       "    this.cell_info[1]['text/html'] =\n",
       "        '<img src=\"' + dataURL + '\" width=\"' + width + '\">';\n",
       "};\n",
       "\n",
       "mpl.figure.prototype.updated_canvas_event = function () {\n",
       "    // Tell IPython that the notebook contents must change.\n",
       "    IPython.notebook.set_dirty(true);\n",
       "    this.send_message('ack', {});\n",
       "    var fig = this;\n",
       "    // Wait a second, then push the new image to the DOM so\n",
       "    // that it is saved nicely (might be nice to debounce this).\n",
       "    setTimeout(function () {\n",
       "        fig.push_to_output();\n",
       "    }, 1000);\n",
       "};\n",
       "\n",
       "mpl.figure.prototype._init_toolbar = function () {\n",
       "    var fig = this;\n",
       "\n",
       "    var toolbar = document.createElement('div');\n",
       "    toolbar.classList = 'btn-toolbar';\n",
       "    this.root.appendChild(toolbar);\n",
       "\n",
       "    function on_click_closure(name) {\n",
       "        return function (_event) {\n",
       "            return fig.toolbar_button_onclick(name);\n",
       "        };\n",
       "    }\n",
       "\n",
       "    function on_mouseover_closure(tooltip) {\n",
       "        return function (event) {\n",
       "            if (!event.currentTarget.disabled) {\n",
       "                return fig.toolbar_button_onmouseover(tooltip);\n",
       "            }\n",
       "        };\n",
       "    }\n",
       "\n",
       "    fig.buttons = {};\n",
       "    var buttonGroup = document.createElement('div');\n",
       "    buttonGroup.classList = 'btn-group';\n",
       "    var button;\n",
       "    for (var toolbar_ind in mpl.toolbar_items) {\n",
       "        var name = mpl.toolbar_items[toolbar_ind][0];\n",
       "        var tooltip = mpl.toolbar_items[toolbar_ind][1];\n",
       "        var image = mpl.toolbar_items[toolbar_ind][2];\n",
       "        var method_name = mpl.toolbar_items[toolbar_ind][3];\n",
       "\n",
       "        if (!name) {\n",
       "            /* Instead of a spacer, we start a new button group. */\n",
       "            if (buttonGroup.hasChildNodes()) {\n",
       "                toolbar.appendChild(buttonGroup);\n",
       "            }\n",
       "            buttonGroup = document.createElement('div');\n",
       "            buttonGroup.classList = 'btn-group';\n",
       "            continue;\n",
       "        }\n",
       "\n",
       "        button = fig.buttons[name] = document.createElement('button');\n",
       "        button.classList = 'btn btn-default';\n",
       "        button.href = '#';\n",
       "        button.title = name;\n",
       "        button.innerHTML = '<i class=\"fa ' + image + ' fa-lg\"></i>';\n",
       "        button.addEventListener('click', on_click_closure(method_name));\n",
       "        button.addEventListener('mouseover', on_mouseover_closure(tooltip));\n",
       "        buttonGroup.appendChild(button);\n",
       "    }\n",
       "\n",
       "    if (buttonGroup.hasChildNodes()) {\n",
       "        toolbar.appendChild(buttonGroup);\n",
       "    }\n",
       "\n",
       "    // Add the status bar.\n",
       "    var status_bar = document.createElement('span');\n",
       "    status_bar.classList = 'mpl-message pull-right';\n",
       "    toolbar.appendChild(status_bar);\n",
       "    this.message = status_bar;\n",
       "\n",
       "    // Add the close button to the window.\n",
       "    var buttongrp = document.createElement('div');\n",
       "    buttongrp.classList = 'btn-group inline pull-right';\n",
       "    button = document.createElement('button');\n",
       "    button.classList = 'btn btn-mini btn-primary';\n",
       "    button.href = '#';\n",
       "    button.title = 'Stop Interaction';\n",
       "    button.innerHTML = '<i class=\"fa fa-power-off icon-remove icon-large\"></i>';\n",
       "    button.addEventListener('click', function (_evt) {\n",
       "        fig.handle_close(fig, {});\n",
       "    });\n",
       "    button.addEventListener(\n",
       "        'mouseover',\n",
       "        on_mouseover_closure('Stop Interaction')\n",
       "    );\n",
       "    buttongrp.appendChild(button);\n",
       "    var titlebar = this.root.querySelector('.ui-dialog-titlebar');\n",
       "    titlebar.insertBefore(buttongrp, titlebar.firstChild);\n",
       "};\n",
       "\n",
       "mpl.figure.prototype._remove_fig_handler = function () {\n",
       "    this.close_ws(this, {});\n",
       "};\n",
       "\n",
       "mpl.figure.prototype._root_extra_style = function (el) {\n",
       "    el.style.boxSizing = 'content-box'; // override notebook setting of border-box.\n",
       "    el.addEventListener('remove', this._remove_fig_handler);\n",
       "};\n",
       "\n",
       "mpl.figure.prototype._canvas_extra_style = function (el) {\n",
       "    // this is important to make the div 'focusable\n",
       "    el.setAttribute('tabindex', 0);\n",
       "    // reach out to IPython and tell the keyboard manager to turn it's self\n",
       "    // off when our div gets focus\n",
       "\n",
       "    // location in version 3\n",
       "    if (IPython.notebook.keyboard_manager) {\n",
       "        IPython.notebook.keyboard_manager.register_events(el);\n",
       "    } else {\n",
       "        // location in version 2\n",
       "        IPython.keyboard_manager.register_events(el);\n",
       "    }\n",
       "};\n",
       "\n",
       "mpl.figure.prototype._key_event_extra = function (event, _name) {\n",
       "    var manager = IPython.notebook.keyboard_manager;\n",
       "    if (!manager) {\n",
       "        manager = IPython.keyboard_manager;\n",
       "    }\n",
       "\n",
       "    // Check for shift+enter\n",
       "    if (event.shiftKey && event.which === 13) {\n",
       "        this.canvas_div.blur();\n",
       "        // select the cell after this one\n",
       "        var index = IPython.notebook.find_cell_index(this.cell_info[0]);\n",
       "        IPython.notebook.select(index + 1);\n",
       "    }\n",
       "};\n",
       "\n",
       "mpl.figure.prototype.handle_save = function (fig, _msg) {\n",
       "    fig.ondownload(fig, null);\n",
       "};\n",
       "\n",
       "mpl.find_output_cell = function (html_output) {\n",
       "    // Return the cell and output element which can be found *uniquely* in the notebook.\n",
       "    // Note - this is a bit hacky, but it is done because the \"notebook_saving.Notebook\"\n",
       "    // IPython event is triggered only after the cells have been serialised, which for\n",
       "    // our purposes (turning an active figure into a static one), is too late.\n",
       "    var cells = IPython.notebook.get_cells();\n",
       "    var ncells = cells.length;\n",
       "    for (var i = 0; i < ncells; i++) {\n",
       "        var cell = cells[i];\n",
       "        if (cell.cell_type === 'code') {\n",
       "            for (var j = 0; j < cell.output_area.outputs.length; j++) {\n",
       "                var data = cell.output_area.outputs[j];\n",
       "                if (data.data) {\n",
       "                    // IPython >= 3 moved mimebundle to data attribute of output\n",
       "                    data = data.data;\n",
       "                }\n",
       "                if (data['text/html'] === html_output) {\n",
       "                    return [cell, data, j];\n",
       "                }\n",
       "            }\n",
       "        }\n",
       "    }\n",
       "};\n",
       "\n",
       "// Register the function which deals with the matplotlib target/channel.\n",
       "// The kernel may be null if the page has been refreshed.\n",
       "if (IPython.notebook.kernel !== null) {\n",
       "    IPython.notebook.kernel.comm_manager.register_target(\n",
       "        'matplotlib',\n",
       "        mpl.mpl_figure_comm\n",
       "    );\n",
       "}\n"
      ],
      "text/plain": [
       "<IPython.core.display.Javascript object>"
      ]
     },
     "metadata": {},
     "output_type": "display_data"
    },
    {
     "data": {
      "text/html": [
       "<img src=\"data:image/png;base64,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\" width=\"431.6666666666667\">"
      ],
      "text/plain": [
       "<IPython.core.display.HTML object>"
      ]
     },
     "metadata": {},
     "output_type": "display_data"
    }
   ],
   "source": [
    "%matplotlib notebook\n",
    "import numpy as np\n",
    "import matplotlib.pyplot as plt\n",
    "import seaborn as sns # this improves the figures aesthetics\n",
    "\n",
    "#from matplotlib import rc\n",
    "#rc('text', usetex=True) # use latex rendering\n",
    "\n",
    "sns.set() # activate seaborn\n",
    "sns.set_context(\"talk\") # increase fonts and imporove look for a talk\n",
    "\n",
    "cd = 0.25\n",
    "g = 9.81\n",
    "v = 36\n",
    "t = 4\n",
    "\n",
    "m = np.linspace(40, 200, 100) # 100 points between 50 an 200\n",
    "fm = np.sqrt(g*m/cd)*np.tanh(np.sqrt(g*cd/m)*t) - v\n",
    "\n",
    "fig, ax = plt.subplots()\n",
    "ax.plot(m, fm)\n",
    "ax.plot(m, np.zeros_like(m))\n",
    "ax.set_xlabel(r\"$m$[kg]\")\n",
    "ax.set_ylabel(r\"$f(m)$\")\n",
    "fig.savefig(\"images/fm.png\", dpi=300, bbox_inches='tight')\n",
    "   #+END_SRC"
   ]
  },
  {
   "cell_type": "markdown",
   "metadata": {
    "slideshow": {
     "slide_type": "subslide"
    }
   },
   "source": [
    "### Exercise \n",
    "    Plot the function on your computer and find the value for the mass. How much is $f(m)$ for that value? Do you think this graphical approach is useful?\n"
   ]
  },
  {
   "cell_type": "markdown",
   "metadata": {
    "slideshow": {
     "slide_type": "slide"
    }
   },
   "source": [
    "# Bracketing methods\n",
    "\n",
    "  - This methods require that you define an interval where to find the\n",
    "    root.\n",
    "  - There could be single or multiple roots, or no root at all. \n",
    "  - The initial guess for the interval limits are such the root is\n",
    "    included. \n",
    "  - The convergence is slow but sometimes guaranteed. \n",
    "![](images/roots-brackets.png)"
   ]
  },
  {
   "cell_type": "markdown",
   "metadata": {
    "slideshow": {
     "slide_type": "subslide"
    }
   },
   "source": [
    "| Bisection | False position |\n",
    "|:---------:|:--------------:|\n",
    "| <img src=\"images/bisect-example.png\" width=\"60%\"> | <img src=\"images/false-position-basic.png\" width=\"30%\"> |"
   ]
  },
  {
   "cell_type": "markdown",
   "metadata": {
    "slideshow": {
     "slide_type": "slide"
    }
   },
   "source": [
    "# Open methods\n",
    "- These methods require only a single starting point or two starting points that do not necessarily include the root. \n",
    "- Generally, when an open method converges, it is usually much faster than a bracketing method. \n",
    "- Examples: \n",
    "  - Fixed point : $f(x) =0 \\to g(x) = x$. You need an initial guess.\n",
    "  - Newton-Raphson : N-dimensions, $f'(x_i)= \\frac{f(x_i) -0}{x_i - x_{i+1}} \\to    x_{i+1} = x_i - \\frac{f(x_i)}{f'(x_i)}. $\n",
    "  <img src=\"images/nr-basic.png\" width=40%>\n",
    "  - Other methods: Secant method, Brent's method, Higher order Newton-Raphson formulas, etc. **Use a library!** "
   ]
  },
  {
   "cell_type": "markdown",
   "metadata": {
    "slideshow": {
     "slide_type": "slide"
    }
   },
   "source": [
    "# Using `Scipy root` for one- and multi-dimensional equations\n",
    "`Scipy` offers you the `root` method to compute the root for a (system of) equations very efficiently. Please go and red the doc at\n",
    "  https://docs.scipy.org/doc/scipy/reference/generated/scipy.optimize.root.html . This works both for a single or a system of\n",
    "  equations. Actually the root method belongs to a more general optimization module (see https://docs.scipy.org/doc/scipy/reference/optimize.html). \n"
   ]
  },
  {
   "cell_type": "markdown",
   "metadata": {
    "slideshow": {
     "slide_type": "subslide"
    }
   },
   "source": [
    "## Scalar equation\n",
    "The following snippet uses the `root` method, to find the root of the equation $$e^{-2x} -x/3 = 0 $$ "
   ]
  },
  {
   "cell_type": "code",
   "execution_count": 19,
   "metadata": {
    "ExecuteTime": {
     "end_time": "2020-08-29T17:07:11.059185Z",
     "start_time": "2020-08-29T17:07:11.051856Z"
    },
    "slideshow": {
     "slide_type": "fragment"
    }
   },
   "outputs": [
    {
     "name": "stdout",
     "output_type": "stream",
     "text": [
      "0.0\n"
     ]
    }
   ],
   "source": [
    "from scipy import optimize\n",
    "import numpy as np\n",
    "\n",
    "def fun(x):\n",
    "    return np.exp(-2*x) - x/3\n",
    "\n",
    "sol = optimize.root(fun, [0], method='hybr')\n",
    "#print(sol)\n",
    "print(fun(sol.x[0]))\n",
    "#print(\"Solution: \", sol.x)\n",
    "#print(\"f(x): \", fun(sol.x[0]))\n",
    "#print(fun(sol.x[0]))"
   ]
  },
  {
   "cell_type": "code",
   "execution_count": 24,
   "metadata": {
    "ExecuteTime": {
     "end_time": "2020-08-29T17:14:55.040142Z",
     "start_time": "2020-08-29T17:14:55.025714Z"
    }
   },
   "outputs": [
    {
     "name": "stdout",
     "output_type": "stream",
     "text": [
      "    fjac: array([[-1.]])\n",
      "     fun: array([0.])\n",
      " message: 'The solution converged.'\n",
      "    nfev: 16\n",
      "     qtf: array([8.07105494e-11])\n",
      "       r: array([-0.0204557])\n",
      "  status: 1\n",
      " success: True\n",
      "       x: array([142.73763311])\n",
      "Exitoso?:  True\n",
      "Solution:  [142.73763311]\n"
     ]
    }
   ],
   "source": [
    "from scipy import optimize\n",
    "import numpy as np\n",
    "\n",
    "cd = 0.25\n",
    "g = 9.81\n",
    "v = 36\n",
    "t = 4\n",
    "\n",
    "def fun(m):\n",
    "    return np.sqrt(g*m/cd)*np.tanh(np.sqrt(g*cd/m)*t) - v\n",
    "\n",
    "sol = optimize.root(fun, [0.1], method='hybr')\n",
    "print(sol)\n",
    "#print(fun(sol.x[0]))\n",
    "print(\"Exitoso?: \", sol.success)\n",
    "print(\"Solution: \", sol.x)"
   ]
  },
  {
   "cell_type": "markdown",
   "metadata": {
    "slideshow": {
     "slide_type": "subslide"
    }
   },
   "source": [
    "## Multidimensional equation (you can also use `fsolve`)\n",
    "In this case you have multiple variables functions so the method is a bit more complex. Let's solve the following expression:\n",
    "$$\\vec f(x,y) = (x + 0.5(x-y)^3 -1, 0.5(y-x)^3 + y)$$"
   ]
  },
  {
   "cell_type": "code",
   "execution_count": 31,
   "metadata": {
    "ExecuteTime": {
     "end_time": "2020-08-29T17:33:20.080135Z",
     "start_time": "2020-08-29T17:33:20.051917Z"
    },
    "slideshow": {
     "slide_type": "fragment"
    }
   },
   "outputs": [
    {
     "name": "stdout",
     "output_type": "stream",
     "text": [
      "Solution:  [0.8411639 0.1588361]\n",
      "f(x):  [-1.1102230246251565e-16, 0.0]\n",
      "[-1.1102230246251565e-16, 0.0]\n"
     ]
    }
   ],
   "source": [
    "from scipy import optimize\n",
    "import numpy as np\n",
    "# X is a list (X[0] = x, X[1] = y)\n",
    "def fun(X):\n",
    "    return [X[0]  + 0.5 * (X[0] - X[1])**3 - 1.0, 0.5 * (X[1] - X[0])**3 + X[1]]\n",
    "    #x, y = X\n",
    "    #return [x  + 0.5 * (x - y)**3 - 1.0, 0.5 * (y - x)**3 + y]\n",
    "\n",
    "sol = optimize.root(fun, [0, 0], method='hybr')\n",
    "print(\"Solution: \", sol.x)\n",
    "print(\"f(x): \", fun(sol.x))\n",
    "print(fun(sol.x))"
   ]
  },
  {
   "cell_type": "markdown",
   "metadata": {
    "slideshow": {
     "slide_type": "slide"
    }
   },
   "source": [
    "# Using `Sympy` to find all roots\n",
    "  [Sympy](http://docs.sympy.org/latest/index.html) is a Python library for symbolic mathematics. Besides this, it\n",
    "  includes solvers to solve systems of equations finding *all roots*. For modern versions, use the function `solveset`.  \n",
    "    \n",
    "    "
   ]
  },
  {
   "cell_type": "code",
   "execution_count": 32,
   "metadata": {
    "ExecuteTime": {
     "end_time": "2020-08-29T17:40:23.539949Z",
     "start_time": "2020-08-29T17:40:23.438970Z"
    },
    "slideshow": {
     "slide_type": "fragment"
    }
   },
   "outputs": [
    {
     "ename": "ModuleNotFoundError",
     "evalue": "No module named 'sympy'",
     "output_type": "error",
     "traceback": [
      "\u001b[0;31m---------------------------------------------------------------------------\u001b[0m",
      "\u001b[0;31mModuleNotFoundError\u001b[0m                       Traceback (most recent call last)",
      "\u001b[0;32m<ipython-input-32-1cbeac7a56e1>\u001b[0m in \u001b[0;36m<module>\u001b[0;34m\u001b[0m\n\u001b[1;32m      1\u001b[0m \u001b[0;31m# check http://scipy-lectures.org/packages/sympy.html#equation-solving\u001b[0m\u001b[0;34m\u001b[0m\u001b[0;34m\u001b[0m\u001b[0;34m\u001b[0m\u001b[0m\n\u001b[0;32m----> 2\u001b[0;31m \u001b[0;32mimport\u001b[0m \u001b[0msympy\u001b[0m \u001b[0;32mas\u001b[0m \u001b[0msym\u001b[0m\u001b[0;34m\u001b[0m\u001b[0;34m\u001b[0m\u001b[0m\n\u001b[0m\u001b[1;32m      3\u001b[0m \u001b[0mx\u001b[0m\u001b[0;34m,\u001b[0m \u001b[0my\u001b[0m\u001b[0;34m,\u001b[0m \u001b[0mz\u001b[0m \u001b[0;34m=\u001b[0m \u001b[0msym\u001b[0m\u001b[0;34m.\u001b[0m\u001b[0msymbols\u001b[0m\u001b[0;34m(\u001b[0m\u001b[0;34m'x y z'\u001b[0m\u001b[0;34m)\u001b[0m\u001b[0;34m\u001b[0m\u001b[0;34m\u001b[0m\u001b[0m\n\u001b[1;32m      4\u001b[0m \u001b[0mres\u001b[0m \u001b[0;34m=\u001b[0m \u001b[0msym\u001b[0m\u001b[0;34m.\u001b[0m\u001b[0msolveset\u001b[0m\u001b[0;34m(\u001b[0m\u001b[0mx\u001b[0m\u001b[0;34m**\u001b[0m\u001b[0;36m2\u001b[0m\u001b[0;34m-\u001b[0m\u001b[0;36m2\u001b[0m \u001b[0;34m,\u001b[0m \u001b[0mx\u001b[0m\u001b[0;34m)\u001b[0m\u001b[0;34m\u001b[0m\u001b[0;34m\u001b[0m\u001b[0m\n\u001b[1;32m      5\u001b[0m \u001b[0mprint\u001b[0m\u001b[0;34m(\u001b[0m\u001b[0mres\u001b[0m\u001b[0;34m)\u001b[0m\u001b[0;34m\u001b[0m\u001b[0;34m\u001b[0m\u001b[0m\n",
      "\u001b[0;31mModuleNotFoundError\u001b[0m: No module named 'sympy'"
     ]
    }
   ],
   "source": [
    "# check http://scipy-lectures.org/packages/sympy.html#equation-solving\n",
    "import sympy as sym\n",
    "x, y, z = sym.symbols('x y z')\n",
    "res = sym.solveset(x**2-2 , x)\n",
    "print(res)"
   ]
  },
  {
   "cell_type": "code",
   "execution_count": 33,
   "metadata": {
    "ExecuteTime": {
     "end_time": "2020-08-29T17:41:54.279718Z",
     "start_time": "2020-08-29T17:41:52.796174Z"
    },
    "slideshow": {
     "slide_type": "subslide"
    }
   },
   "outputs": [
    {
     "name": "stdout",
     "output_type": "stream",
     "text": [
      "FiniteSet(-2, 1, 2)\n"
     ]
    }
   ],
   "source": [
    "import sympy as sym\n",
    "x= sym.symbols('x')\n",
    "res = sym.solveset((x+2)*(x-1)*(x-2), x)\n",
    "print(res)\n"
   ]
  },
  {
   "cell_type": "markdown",
   "metadata": {
    "slideshow": {
     "slide_type": "slide"
    }
   },
   "source": [
    "# Exercises "
   ]
  },
  {
   "cell_type": "markdown",
   "metadata": {
    "slideshow": {
     "slide_type": "subslide"
    }
   },
   "source": [
    "## Scalar functions\n",
    "   Compute the root for the following scalar functions:\n",
    "   - $f(x) = \\sin(\\sqrt{x}) - x$, $x_0 = 0.5$   \n",
    "   - $f(x) = x^3 -6x^2 +11x - 6.1$, $x_0 = 3.5$"
   ]
  },
  {
   "cell_type": "code",
   "execution_count": 42,
   "metadata": {
    "ExecuteTime": {
     "end_time": "2020-08-29T17:52:29.420429Z",
     "start_time": "2020-08-29T17:52:29.407872Z"
    }
   },
   "outputs": [
    {
     "name": "stdout",
     "output_type": "stream",
     "text": [
      "0.7686488567609495\n",
      "3.0466805318046757\n",
      "1.687538997430238e-13\n"
     ]
    }
   ],
   "source": [
    "from scipy import optimize\n",
    "import numpy as np\n",
    "\n",
    "def fun1(x):\n",
    "    return np.sin(np.sqrt(x)) - x\n",
    "def fun2(x):\n",
    "    return x*x*x - 6*x*x + 11*x - 6.1\n",
    "\n",
    "sol1 = optimize.root(fun1, [0.5],  method='hybr')\n",
    "print(sol1.x[0])\n",
    "sol2 = optimize.root(fun2, [3.5],  method='hybr')\n",
    "print(sol2.x[0])\n",
    "print(fun2(sol2.x[0]))"
   ]
  },
  {
   "cell_type": "code",
   "execution_count": 40,
   "metadata": {
    "ExecuteTime": {
     "end_time": "2020-08-29T17:51:15.771669Z",
     "start_time": "2020-08-29T17:51:15.706171Z"
    }
   },
   "outputs": [
    {
     "name": "stdout",
     "output_type": "stream",
     "text": [
      "FiniteSet(1.05435072607641, 1.89896874211899, 3.0466805318046)\n"
     ]
    }
   ],
   "source": [
    "import sympy as sym\n",
    "x= sym.symbols('x')\n",
    "res = sym.solveset(x*x*x - 6*x*x + 11*x - 6.1, x)\n",
    "print(res)"
   ]
  },
  {
   "cell_type": "markdown",
   "metadata": {
    "slideshow": {
     "slide_type": "subslide"
    }
   },
   "source": [
    "## The bungee jumping again\n",
    "   Plot the critical mass as a function of the coefficient $c_d \\in\n",
    "   {0.1, 0.15, 0.2, 0.25, 0.3, \\ldots, 0.9}$, such us the speed is $v\n",
    "   = 36$ m/s after $t = 4$ s.\n",
    "   \n",
    "   Remember that \n",
    "   $$\n",
    "   f(m) = \\sqrt{\\frac{gm}{c_d}} \\tanh \\left( {\\sqrt{\\frac{gc_d}{m}}t}\n",
    "   \\right) - v(t).\n",
    "   $$"
   ]
  },
  {
   "cell_type": "code",
   "execution_count": 45,
   "metadata": {
    "ExecuteTime": {
     "end_time": "2020-08-29T17:58:11.412696Z",
     "start_time": "2020-08-29T17:58:11.388963Z"
    }
   },
   "outputs": [
    {
     "name": "stdout",
     "output_type": "stream",
     "text": [
      "Solution:  57.095053243379716\n",
      "Solution:  85.64257986506958\n",
      "Solution:  114.19010648675963\n",
      "Solution:  142.73763310844913\n",
      "Solution:  171.28515973013913\n",
      "Solution:  285.47526621689417\n",
      "Solution:  513.8554791904179\n"
     ]
    }
   ],
   "source": [
    "from scipy import optimize\n",
    "import numpy as np\n",
    "\n",
    "g = 9.81\n",
    "v = 36\n",
    "t = 4\n",
    "CD = [0.1,0.15,0.2,0.25,0.3, 0.5, 0.9]\n",
    "\n",
    "for cd in CD: \n",
    "    def fun(m):\n",
    "        return np.sqrt(g*m/cd)*np.tanh(np.sqrt(g*cd/m)*t) - v\n",
    "    sol = optimize.root(fun, [0.1], method='hybr')\n",
    "    print(\"Solution: \", sol.x[0])\n",
    "    "
   ]
  },
  {
   "cell_type": "markdown",
   "metadata": {
    "slideshow": {
     "slide_type": "subslide"
    }
   },
   "source": [
    "## Intersection on 3D objects (System of equations)\n",
    "   /Ref: Kiusalaas, Numerical Methods in Engineering with Python 3,\n",
    "   Example 4.8/\n",
    "   Determine the points of intersection between the circle $x^2 + y^2\n",
    "   = 3$ and the hyperbola $xy = 1$. Start from  $x = 0.5, y = 1.5$.\n",
    "\n",
    "   The solutions are $\\pm(0.618, 1.618)$ and $\\pm(1.618,\n",
    "   0.618)$. \n",
    "   "
   ]
  },
  {
   "cell_type": "code",
   "execution_count": 49,
   "metadata": {
    "ExecuteTime": {
     "end_time": "2020-08-29T18:11:22.138668Z",
     "start_time": "2020-08-29T18:11:22.119315Z"
    }
   },
   "outputs": [
    {
     "name": "stdout",
     "output_type": "stream",
     "text": [
      "[-0.61803399 -1.61803399]\n"
     ]
    }
   ],
   "source": [
    "from scipy import optimize\n",
    "import numpy as np\n",
    "\n",
    "# X is a list (X[0] = x, X[1] = y)\n",
    "def fun(V):\n",
    "    return [V[0]**2 + V[1]**2 - 3, V[0]*V[1] - 1]\n",
    "\n",
    "sol = optimize.root(fun, [-0.5, -1.5],  method='hybr')\n",
    "#print(\"Solution: \", sol.x)\n",
    "#print(\"f(x): \", fun(sol.x))\n",
    "print(sol.x)"
   ]
  },
  {
   "cell_type": "markdown",
   "metadata": {
    "slideshow": {
     "slide_type": "subslide"
    }
   },
   "source": [
    "## System of non-linear equations \n",
    "   /Ref: Kiusalaas, Numerical Methods in Engineering with Python 3,\n",
    "   Example 4.9/\n",
    "\n",
    "   Solve the following non-linear system:\n",
    "   $$ \\sin x + y^2 + \\ln z − 7 = 0 $$\n",
    "   $$3x + 2^y − z^3 + 1 = 0$$ \n",
    "   $$x+y+z−5=0$$\n",
    "   Starting from   $(1, 1, 1)$. \n",
    "\n",
    "   The solution is  $[0.59905376 , 2.3959314 , 2.00501484]$\n",
    "\n",
    "   *Note:* If you solve this using =sympy=, you will find that there\n",
    "    are infinite solutions. "
   ]
  },
  {
   "cell_type": "code",
   "execution_count": 55,
   "metadata": {
    "ExecuteTime": {
     "end_time": "2020-08-29T18:16:57.469777Z",
     "start_time": "2020-08-29T18:16:57.460441Z"
    }
   },
   "outputs": [
    {
     "name": "stdout",
     "output_type": "stream",
     "text": [
      "[0.59905376 2.3959314  2.00501484]\n"
     ]
    }
   ],
   "source": [
    "from scipy import optimize\n",
    "import numpy as np\n",
    "\n",
    "# V is a list (V[0] = x, V[1] = y, V[2] = z)\n",
    "def fun(V):\n",
    "    x, y, z = V\n",
    "    return [np.sin(x) + y*y + np.log(z) - 7, \n",
    "            3*x + np.power(2, y) - z*z*z + 1,\n",
    "            x + y + z - 5]\n",
    "\n",
    "sol = optimize.root(fun, [1, 1, 1], method='hybr')\n",
    "#print(\"Solution: \", sol.x)\n",
    "#print(\"f(x): \", fun(sol.x))\n",
    "print(sol.x)"
   ]
  },
  {
   "cell_type": "markdown",
   "metadata": {
    "slideshow": {
     "slide_type": "subslide"
    }
   },
   "source": [
    "## Circle from points\n",
    "   /Ref: Kiusalaas, Numerical Methods in Engineering with Python 3,\n",
    "   Exercise 4-26/ \n",
    "   The equation of a circle is $(x−a)^2+(y−b)^2 =R^2$ where $R$ is\n",
    "   the radius and $(a,b)$ are the coordinates of the center. If the\n",
    "   coordinates of three points on the circle are \n",
    "   \n",
    "   | x | 8.21 | 0.34 |  5.96 |\n",
    "   |---|---|---|---|\n",
    "   | y | 0.00 | 6.62 | −1.12 |\n",
    "   \n",
    "   determine $R, a, b$"
   ]
  },
  {
   "cell_type": "markdown",
   "metadata": {
    "slideshow": {
     "slide_type": "subslide"
    }
   },
   "source": [
    "## Multi-function, plot\n",
    "   Solve the system \n",
    "   $$y-x^3 -2x^{22} +1=0$$ \n",
    "   $$y+x^2-1=0$$\n",
    "   Plot both functions to verify graphically that you have found the\n",
    "   roots. \n",
    "   "
   ]
  },
  {
   "cell_type": "markdown",
   "metadata": {
    "slideshow": {
     "slide_type": "subslide"
    }
   },
   "source": [
    "## Multi-dimensional system\n",
    "   /E. Ward, Numerical Methods, Exercise 3-21/\n",
    "   Consider the nonlinear system\n",
    "   $$ f (x, y) = x^2 + y^2 − 25 = 0, $$\n",
    "   $$ g(x, y) = x^2 − y − 2 = 0. $$\n",
    "\n",
    "   Plot both functions. Compute the solution of the system and\n",
    "   identify graphically the solution points. \n",
    "   "
   ]
  },
  {
   "cell_type": "markdown",
   "metadata": {
    "slideshow": {
     "slide_type": "subslide"
    }
   },
   "source": [
    "## Rocket\n",
    "   The upward velocity of a rocket can be computed by the following\n",
    "   formula: $$v = \\ln \\frac{m_0}{m_0-qt} - gt $$ where $v =$ upward velocity,\n",
    "   $u =$ the velocity at which fuel is expelled relative to the\n",
    "   rocket, $m_0 =$ the initial mass of the rocket at time $t = 0, q =$\n",
    "   the fuel consumption rate, and $g =$ the downward acceleration of\n",
    "   gravity (assumed constant $= 9.81$ m/s$^2$). If $u = 1800$ m/s,\n",
    "   $m_0 = 160,000$ kg, and $q = 2600$ kg/s, compute the time at which\n",
    "   $v = 750$ m/s. (Hint: $t$ is somewhere between $10$ and $50$ s.)"
   ]
  },
  {
   "cell_type": "markdown",
   "metadata": {
    "slideshow": {
     "slide_type": "subslide"
    }
   },
   "source": [
    "## Cylinder (6.16)                                                 \n",
    "   The volume of liquid V in a hollow horizontal cylinder of radius r\n",
    "   and length L is related to the depth of the liquid h by \n",
    "   V= r2cos−1 r−h −(r−h) 2rh−h2 L\n",
    "   Determine h given r = 2 m, L = 5 m3, and V = 8 m3\n",
    "   \n",
    "   Plot h as function of $r \\in [0.1, 5.6]$. \n",
    "   "
   ]
  },
  {
   "cell_type": "markdown",
   "metadata": {
    "slideshow": {
     "slide_type": "subslide"
    }
   },
   "source": [
    "## GPS - GLobal Positioning System                                 \n",
    "   E. Ward, Exercise 3-41\n",
    "   (Global positioning system project) Each time a GPS is used, a\n",
    "   system of nonlinear equations of the form $$(x−a_1)^2 +(y−b_1)^2\n",
    "   +(z−c_i)^2 =[(C(t_1 −D)]^2$$ $$(x−a_2)^2 +(y−b_2)^2 +(z−c_i)^2\n",
    "   =[(C(t_2 −D)]^2$$ $$(x−a_3)^2 +(y−b_3)^2 +(z−c_i)^2 =[(C(t_3\n",
    "   −D)]^2$$ $$(x−a_4)^2 +(y−b_4)^2 +(z−c_i)^2 =[(C(t_4 −D)]^2$$ is\n",
    "   solved for the $(x, y, z)$ coordinates of the receiver. For each\n",
    "   satellite $i$, the locations are $(a_i,b_i,c_i)$, and $t_i$ is the\n",
    "   synchronized transmission time from the satellite. Further, $C$ is\n",
    "   the speed of light, and $D$ is the difference between the\n",
    "   synchronized time of the satellite clocks and the earth-bound\n",
    "   receiver clock. While there are only two points on the intersection\n",
    "   of three spheres (one of which can be determined to be the desired\n",
    "   location), a fourth sphere (satellite) must be used to resolve the\n",
    "   inaccuracy in the clock contained in the low-cost receiver on\n",
    "   earth. Explore various ways for solving such a nonlinear\n",
    "   system. See Hofmann-Wellenhof, Lichtenegger, and Collins [2001],\n",
    "   Sauer [2006], and Strang and Borre [1997].\n",
    "   \n",
    "   "
   ]
  },
  {
   "cell_type": "code",
   "execution_count": null,
   "metadata": {},
   "outputs": [],
   "source": []
  }
 ],
 "metadata": {
  "celltoolbar": "Slideshow",
  "kernelspec": {
   "display_name": "Python 3",
   "language": "python",
   "name": "python3"
  },
  "language_info": {
   "codemirror_mode": {
    "name": "ipython",
    "version": 3
   },
   "file_extension": ".py",
   "mimetype": "text/x-python",
   "name": "python",
   "nbconvert_exporter": "python",
   "pygments_lexer": "ipython3",
   "version": "3.8.5"
  },
  "toc": {
   "base_numbering": 1,
   "nav_menu": {},
   "number_sections": true,
   "sideBar": true,
   "skip_h1_title": false,
   "title_cell": "Table of Contents",
   "title_sidebar": "Contents",
   "toc_cell": false,
   "toc_position": {},
   "toc_section_display": true,
   "toc_window_display": false
  }
 },
 "nbformat": 4,
 "nbformat_minor": 2
}
