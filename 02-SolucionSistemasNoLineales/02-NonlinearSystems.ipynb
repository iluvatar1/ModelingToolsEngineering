{
 "cells": [
  {
   "cell_type": "markdown",
   "metadata": {
    "slideshow": {
     "slide_type": "slide"
    }
   },
   "source": [
    "# Solutions of non linear equations\n",
    "\n",
    "In this section we will learn how to solve equations of the following type\n",
    "$$x = \\sin x^2$$\n",
    "or $$x+y-\\sin(xy) = 0$$\n",
    "\n",
    "This equations are typical on real applications so efficient ways to solve and find the solutions are needed.\n",
    "\n",
    "In the following we will learn some basic methods and then jump directly to the tools given by python. \n",
    "\n",
    "- Bracketing methods\n",
    "- Open methods"
   ]
  },
  {
   "cell_type": "markdown",
   "metadata": {
    "slideshow": {
     "slide_type": "slide"
    }
   },
   "source": [
    "![](images/roots.png)"
   ]
  },
  {
   "cell_type": "markdown",
   "metadata": {
    "slideshow": {
     "slide_type": "slide"
    }
   },
   "source": [
    "## A problem example : Bunge jumping  (From Chapra 2012)\n",
    "   The velocity for a jumper is given as \n",
    "   $$\n",
    "   v(t) = \\sqrt{\\frac{gm}{c_d}} \\tanh \\left( {\\sqrt{\\frac{gc_d}{m}}t} \\right) .\n",
    "   $$\n",
    "   You need to find the critical mass $m$ such us the speed does not\n",
    "   exceed $v = 36$ m/s after $t = 4$ s, for $c_d = 0.25$ kg/m. How to\n",
    "   do it? "
   ]
  },
  {
   "cell_type": "markdown",
   "metadata": {
    "slideshow": {
     "slide_type": "fragment"
    }
   },
   "source": [
    "   Start by defining a new function, $f(m)$, such us \n",
    "   $$\n",
    "   f(m) = \\sqrt{\\frac{gm}{c_d}} \\tanh \\left( {\\sqrt{\\frac{gc_d}{m}}t}\n",
    "   \\right) - v(t).\n",
    "   $$\n",
    "   Now your problem is to find the root of the function $f(m)$"
   ]
  },
  {
   "cell_type": "markdown",
   "metadata": {
    "slideshow": {
     "slide_type": "slide"
    }
   },
   "source": [
    "# Graphical Method\n",
    "   The first approach is to plot the function $f(m)$ and find the root\n",
    "   graphically. The following snippet shows you how to do that"
   ]
  },
  {
   "cell_type": "code",
   "execution_count": 7,
   "metadata": {
    "slideshow": {
     "slide_type": "subslide"
    }
   },
   "outputs": [
    {
     "data": {
      "application/javascript": [
       "/* Put everything inside the global mpl namespace */\n",
       "window.mpl = {};\n",
       "\n",
       "\n",
       "mpl.get_websocket_type = function() {\n",
       "    if (typeof(WebSocket) !== 'undefined') {\n",
       "        return WebSocket;\n",
       "    } else if (typeof(MozWebSocket) !== 'undefined') {\n",
       "        return MozWebSocket;\n",
       "    } else {\n",
       "        alert('Your browser does not have WebSocket support. ' +\n",
       "              'Please try Chrome, Safari or Firefox ≥ 6. ' +\n",
       "              'Firefox 4 and 5 are also supported but you ' +\n",
       "              'have to enable WebSockets in about:config.');\n",
       "    };\n",
       "}\n",
       "\n",
       "mpl.figure = function(figure_id, websocket, ondownload, parent_element) {\n",
       "    this.id = figure_id;\n",
       "\n",
       "    this.ws = websocket;\n",
       "\n",
       "    this.supports_binary = (this.ws.binaryType != undefined);\n",
       "\n",
       "    if (!this.supports_binary) {\n",
       "        var warnings = document.getElementById(\"mpl-warnings\");\n",
       "        if (warnings) {\n",
       "            warnings.style.display = 'block';\n",
       "            warnings.textContent = (\n",
       "                \"This browser does not support binary websocket messages. \" +\n",
       "                    \"Performance may be slow.\");\n",
       "        }\n",
       "    }\n",
       "\n",
       "    this.imageObj = new Image();\n",
       "\n",
       "    this.context = undefined;\n",
       "    this.message = undefined;\n",
       "    this.canvas = undefined;\n",
       "    this.rubberband_canvas = undefined;\n",
       "    this.rubberband_context = undefined;\n",
       "    this.format_dropdown = undefined;\n",
       "\n",
       "    this.image_mode = 'full';\n",
       "\n",
       "    this.root = $('<div/>');\n",
       "    this._root_extra_style(this.root)\n",
       "    this.root.attr('style', 'display: inline-block');\n",
       "\n",
       "    $(parent_element).append(this.root);\n",
       "\n",
       "    this._init_header(this);\n",
       "    this._init_canvas(this);\n",
       "    this._init_toolbar(this);\n",
       "\n",
       "    var fig = this;\n",
       "\n",
       "    this.waiting = false;\n",
       "\n",
       "    this.ws.onopen =  function () {\n",
       "            fig.send_message(\"supports_binary\", {value: fig.supports_binary});\n",
       "            fig.send_message(\"send_image_mode\", {});\n",
       "            if (mpl.ratio != 1) {\n",
       "                fig.send_message(\"set_dpi_ratio\", {'dpi_ratio': mpl.ratio});\n",
       "            }\n",
       "            fig.send_message(\"refresh\", {});\n",
       "        }\n",
       "\n",
       "    this.imageObj.onload = function() {\n",
       "            if (fig.image_mode == 'full') {\n",
       "                // Full images could contain transparency (where diff images\n",
       "                // almost always do), so we need to clear the canvas so that\n",
       "                // there is no ghosting.\n",
       "                fig.context.clearRect(0, 0, fig.canvas.width, fig.canvas.height);\n",
       "            }\n",
       "            fig.context.drawImage(fig.imageObj, 0, 0);\n",
       "        };\n",
       "\n",
       "    this.imageObj.onunload = function() {\n",
       "        fig.ws.close();\n",
       "    }\n",
       "\n",
       "    this.ws.onmessage = this._make_on_message_function(this);\n",
       "\n",
       "    this.ondownload = ondownload;\n",
       "}\n",
       "\n",
       "mpl.figure.prototype._init_header = function() {\n",
       "    var titlebar = $(\n",
       "        '<div class=\"ui-dialog-titlebar ui-widget-header ui-corner-all ' +\n",
       "        'ui-helper-clearfix\"/>');\n",
       "    var titletext = $(\n",
       "        '<div class=\"ui-dialog-title\" style=\"width: 100%; ' +\n",
       "        'text-align: center; padding: 3px;\"/>');\n",
       "    titlebar.append(titletext)\n",
       "    this.root.append(titlebar);\n",
       "    this.header = titletext[0];\n",
       "}\n",
       "\n",
       "\n",
       "\n",
       "mpl.figure.prototype._canvas_extra_style = function(canvas_div) {\n",
       "\n",
       "}\n",
       "\n",
       "\n",
       "mpl.figure.prototype._root_extra_style = function(canvas_div) {\n",
       "\n",
       "}\n",
       "\n",
       "mpl.figure.prototype._init_canvas = function() {\n",
       "    var fig = this;\n",
       "\n",
       "    var canvas_div = $('<div/>');\n",
       "\n",
       "    canvas_div.attr('style', 'position: relative; clear: both; outline: 0');\n",
       "\n",
       "    function canvas_keyboard_event(event) {\n",
       "        return fig.key_event(event, event['data']);\n",
       "    }\n",
       "\n",
       "    canvas_div.keydown('key_press', canvas_keyboard_event);\n",
       "    canvas_div.keyup('key_release', canvas_keyboard_event);\n",
       "    this.canvas_div = canvas_div\n",
       "    this._canvas_extra_style(canvas_div)\n",
       "    this.root.append(canvas_div);\n",
       "\n",
       "    var canvas = $('<canvas/>');\n",
       "    canvas.addClass('mpl-canvas');\n",
       "    canvas.attr('style', \"left: 0; top: 0; z-index: 0; outline: 0\")\n",
       "\n",
       "    this.canvas = canvas[0];\n",
       "    this.context = canvas[0].getContext(\"2d\");\n",
       "\n",
       "    var backingStore = this.context.backingStorePixelRatio ||\n",
       "\tthis.context.webkitBackingStorePixelRatio ||\n",
       "\tthis.context.mozBackingStorePixelRatio ||\n",
       "\tthis.context.msBackingStorePixelRatio ||\n",
       "\tthis.context.oBackingStorePixelRatio ||\n",
       "\tthis.context.backingStorePixelRatio || 1;\n",
       "\n",
       "    mpl.ratio = (window.devicePixelRatio || 1) / backingStore;\n",
       "\n",
       "    var rubberband = $('<canvas/>');\n",
       "    rubberband.attr('style', \"position: absolute; left: 0; top: 0; z-index: 1;\")\n",
       "\n",
       "    var pass_mouse_events = true;\n",
       "\n",
       "    canvas_div.resizable({\n",
       "        start: function(event, ui) {\n",
       "            pass_mouse_events = false;\n",
       "        },\n",
       "        resize: function(event, ui) {\n",
       "            fig.request_resize(ui.size.width, ui.size.height);\n",
       "        },\n",
       "        stop: function(event, ui) {\n",
       "            pass_mouse_events = true;\n",
       "            fig.request_resize(ui.size.width, ui.size.height);\n",
       "        },\n",
       "    });\n",
       "\n",
       "    function mouse_event_fn(event) {\n",
       "        if (pass_mouse_events)\n",
       "            return fig.mouse_event(event, event['data']);\n",
       "    }\n",
       "\n",
       "    rubberband.mousedown('button_press', mouse_event_fn);\n",
       "    rubberband.mouseup('button_release', mouse_event_fn);\n",
       "    // Throttle sequential mouse events to 1 every 20ms.\n",
       "    rubberband.mousemove('motion_notify', mouse_event_fn);\n",
       "\n",
       "    rubberband.mouseenter('figure_enter', mouse_event_fn);\n",
       "    rubberband.mouseleave('figure_leave', mouse_event_fn);\n",
       "\n",
       "    canvas_div.on(\"wheel\", function (event) {\n",
       "        event = event.originalEvent;\n",
       "        event['data'] = 'scroll'\n",
       "        if (event.deltaY < 0) {\n",
       "            event.step = 1;\n",
       "        } else {\n",
       "            event.step = -1;\n",
       "        }\n",
       "        mouse_event_fn(event);\n",
       "    });\n",
       "\n",
       "    canvas_div.append(canvas);\n",
       "    canvas_div.append(rubberband);\n",
       "\n",
       "    this.rubberband = rubberband;\n",
       "    this.rubberband_canvas = rubberband[0];\n",
       "    this.rubberband_context = rubberband[0].getContext(\"2d\");\n",
       "    this.rubberband_context.strokeStyle = \"#000000\";\n",
       "\n",
       "    this._resize_canvas = function(width, height) {\n",
       "        // Keep the size of the canvas, canvas container, and rubber band\n",
       "        // canvas in synch.\n",
       "        canvas_div.css('width', width)\n",
       "        canvas_div.css('height', height)\n",
       "\n",
       "        canvas.attr('width', width * mpl.ratio);\n",
       "        canvas.attr('height', height * mpl.ratio);\n",
       "        canvas.attr('style', 'width: ' + width + 'px; height: ' + height + 'px;');\n",
       "\n",
       "        rubberband.attr('width', width);\n",
       "        rubberband.attr('height', height);\n",
       "    }\n",
       "\n",
       "    // Set the figure to an initial 600x600px, this will subsequently be updated\n",
       "    // upon first draw.\n",
       "    this._resize_canvas(600, 600);\n",
       "\n",
       "    // Disable right mouse context menu.\n",
       "    $(this.rubberband_canvas).bind(\"contextmenu\",function(e){\n",
       "        return false;\n",
       "    });\n",
       "\n",
       "    function set_focus () {\n",
       "        canvas.focus();\n",
       "        canvas_div.focus();\n",
       "    }\n",
       "\n",
       "    window.setTimeout(set_focus, 100);\n",
       "}\n",
       "\n",
       "mpl.figure.prototype._init_toolbar = function() {\n",
       "    var fig = this;\n",
       "\n",
       "    var nav_element = $('<div/>');\n",
       "    nav_element.attr('style', 'width: 100%');\n",
       "    this.root.append(nav_element);\n",
       "\n",
       "    // Define a callback function for later on.\n",
       "    function toolbar_event(event) {\n",
       "        return fig.toolbar_button_onclick(event['data']);\n",
       "    }\n",
       "    function toolbar_mouse_event(event) {\n",
       "        return fig.toolbar_button_onmouseover(event['data']);\n",
       "    }\n",
       "\n",
       "    for(var toolbar_ind in mpl.toolbar_items) {\n",
       "        var name = mpl.toolbar_items[toolbar_ind][0];\n",
       "        var tooltip = mpl.toolbar_items[toolbar_ind][1];\n",
       "        var image = mpl.toolbar_items[toolbar_ind][2];\n",
       "        var method_name = mpl.toolbar_items[toolbar_ind][3];\n",
       "\n",
       "        if (!name) {\n",
       "            // put a spacer in here.\n",
       "            continue;\n",
       "        }\n",
       "        var button = $('<button/>');\n",
       "        button.addClass('ui-button ui-widget ui-state-default ui-corner-all ' +\n",
       "                        'ui-button-icon-only');\n",
       "        button.attr('role', 'button');\n",
       "        button.attr('aria-disabled', 'false');\n",
       "        button.click(method_name, toolbar_event);\n",
       "        button.mouseover(tooltip, toolbar_mouse_event);\n",
       "\n",
       "        var icon_img = $('<span/>');\n",
       "        icon_img.addClass('ui-button-icon-primary ui-icon');\n",
       "        icon_img.addClass(image);\n",
       "        icon_img.addClass('ui-corner-all');\n",
       "\n",
       "        var tooltip_span = $('<span/>');\n",
       "        tooltip_span.addClass('ui-button-text');\n",
       "        tooltip_span.html(tooltip);\n",
       "\n",
       "        button.append(icon_img);\n",
       "        button.append(tooltip_span);\n",
       "\n",
       "        nav_element.append(button);\n",
       "    }\n",
       "\n",
       "    var fmt_picker_span = $('<span/>');\n",
       "\n",
       "    var fmt_picker = $('<select/>');\n",
       "    fmt_picker.addClass('mpl-toolbar-option ui-widget ui-widget-content');\n",
       "    fmt_picker_span.append(fmt_picker);\n",
       "    nav_element.append(fmt_picker_span);\n",
       "    this.format_dropdown = fmt_picker[0];\n",
       "\n",
       "    for (var ind in mpl.extensions) {\n",
       "        var fmt = mpl.extensions[ind];\n",
       "        var option = $(\n",
       "            '<option/>', {selected: fmt === mpl.default_extension}).html(fmt);\n",
       "        fmt_picker.append(option);\n",
       "    }\n",
       "\n",
       "    // Add hover states to the ui-buttons\n",
       "    $( \".ui-button\" ).hover(\n",
       "        function() { $(this).addClass(\"ui-state-hover\");},\n",
       "        function() { $(this).removeClass(\"ui-state-hover\");}\n",
       "    );\n",
       "\n",
       "    var status_bar = $('<span class=\"mpl-message\"/>');\n",
       "    nav_element.append(status_bar);\n",
       "    this.message = status_bar[0];\n",
       "}\n",
       "\n",
       "mpl.figure.prototype.request_resize = function(x_pixels, y_pixels) {\n",
       "    // Request matplotlib to resize the figure. Matplotlib will then trigger a resize in the client,\n",
       "    // which will in turn request a refresh of the image.\n",
       "    this.send_message('resize', {'width': x_pixels, 'height': y_pixels});\n",
       "}\n",
       "\n",
       "mpl.figure.prototype.send_message = function(type, properties) {\n",
       "    properties['type'] = type;\n",
       "    properties['figure_id'] = this.id;\n",
       "    this.ws.send(JSON.stringify(properties));\n",
       "}\n",
       "\n",
       "mpl.figure.prototype.send_draw_message = function() {\n",
       "    if (!this.waiting) {\n",
       "        this.waiting = true;\n",
       "        this.ws.send(JSON.stringify({type: \"draw\", figure_id: this.id}));\n",
       "    }\n",
       "}\n",
       "\n",
       "\n",
       "mpl.figure.prototype.handle_save = function(fig, msg) {\n",
       "    var format_dropdown = fig.format_dropdown;\n",
       "    var format = format_dropdown.options[format_dropdown.selectedIndex].value;\n",
       "    fig.ondownload(fig, format);\n",
       "}\n",
       "\n",
       "\n",
       "mpl.figure.prototype.handle_resize = function(fig, msg) {\n",
       "    var size = msg['size'];\n",
       "    if (size[0] != fig.canvas.width || size[1] != fig.canvas.height) {\n",
       "        fig._resize_canvas(size[0], size[1]);\n",
       "        fig.send_message(\"refresh\", {});\n",
       "    };\n",
       "}\n",
       "\n",
       "mpl.figure.prototype.handle_rubberband = function(fig, msg) {\n",
       "    var x0 = msg['x0'] / mpl.ratio;\n",
       "    var y0 = (fig.canvas.height - msg['y0']) / mpl.ratio;\n",
       "    var x1 = msg['x1'] / mpl.ratio;\n",
       "    var y1 = (fig.canvas.height - msg['y1']) / mpl.ratio;\n",
       "    x0 = Math.floor(x0) + 0.5;\n",
       "    y0 = Math.floor(y0) + 0.5;\n",
       "    x1 = Math.floor(x1) + 0.5;\n",
       "    y1 = Math.floor(y1) + 0.5;\n",
       "    var min_x = Math.min(x0, x1);\n",
       "    var min_y = Math.min(y0, y1);\n",
       "    var width = Math.abs(x1 - x0);\n",
       "    var height = Math.abs(y1 - y0);\n",
       "\n",
       "    fig.rubberband_context.clearRect(\n",
       "        0, 0, fig.canvas.width, fig.canvas.height);\n",
       "\n",
       "    fig.rubberband_context.strokeRect(min_x, min_y, width, height);\n",
       "}\n",
       "\n",
       "mpl.figure.prototype.handle_figure_label = function(fig, msg) {\n",
       "    // Updates the figure title.\n",
       "    fig.header.textContent = msg['label'];\n",
       "}\n",
       "\n",
       "mpl.figure.prototype.handle_cursor = function(fig, msg) {\n",
       "    var cursor = msg['cursor'];\n",
       "    switch(cursor)\n",
       "    {\n",
       "    case 0:\n",
       "        cursor = 'pointer';\n",
       "        break;\n",
       "    case 1:\n",
       "        cursor = 'default';\n",
       "        break;\n",
       "    case 2:\n",
       "        cursor = 'crosshair';\n",
       "        break;\n",
       "    case 3:\n",
       "        cursor = 'move';\n",
       "        break;\n",
       "    }\n",
       "    fig.rubberband_canvas.style.cursor = cursor;\n",
       "}\n",
       "\n",
       "mpl.figure.prototype.handle_message = function(fig, msg) {\n",
       "    fig.message.textContent = msg['message'];\n",
       "}\n",
       "\n",
       "mpl.figure.prototype.handle_draw = function(fig, msg) {\n",
       "    // Request the server to send over a new figure.\n",
       "    fig.send_draw_message();\n",
       "}\n",
       "\n",
       "mpl.figure.prototype.handle_image_mode = function(fig, msg) {\n",
       "    fig.image_mode = msg['mode'];\n",
       "}\n",
       "\n",
       "mpl.figure.prototype.updated_canvas_event = function() {\n",
       "    // Called whenever the canvas gets updated.\n",
       "    this.send_message(\"ack\", {});\n",
       "}\n",
       "\n",
       "// A function to construct a web socket function for onmessage handling.\n",
       "// Called in the figure constructor.\n",
       "mpl.figure.prototype._make_on_message_function = function(fig) {\n",
       "    return function socket_on_message(evt) {\n",
       "        if (evt.data instanceof Blob) {\n",
       "            /* FIXME: We get \"Resource interpreted as Image but\n",
       "             * transferred with MIME type text/plain:\" errors on\n",
       "             * Chrome.  But how to set the MIME type?  It doesn't seem\n",
       "             * to be part of the websocket stream */\n",
       "            evt.data.type = \"image/png\";\n",
       "\n",
       "            /* Free the memory for the previous frames */\n",
       "            if (fig.imageObj.src) {\n",
       "                (window.URL || window.webkitURL).revokeObjectURL(\n",
       "                    fig.imageObj.src);\n",
       "            }\n",
       "\n",
       "            fig.imageObj.src = (window.URL || window.webkitURL).createObjectURL(\n",
       "                evt.data);\n",
       "            fig.updated_canvas_event();\n",
       "            fig.waiting = false;\n",
       "            return;\n",
       "        }\n",
       "        else if (typeof evt.data === 'string' && evt.data.slice(0, 21) == \"data:image/png;base64\") {\n",
       "            fig.imageObj.src = evt.data;\n",
       "            fig.updated_canvas_event();\n",
       "            fig.waiting = false;\n",
       "            return;\n",
       "        }\n",
       "\n",
       "        var msg = JSON.parse(evt.data);\n",
       "        var msg_type = msg['type'];\n",
       "\n",
       "        // Call the  \"handle_{type}\" callback, which takes\n",
       "        // the figure and JSON message as its only arguments.\n",
       "        try {\n",
       "            var callback = fig[\"handle_\" + msg_type];\n",
       "        } catch (e) {\n",
       "            console.log(\"No handler for the '\" + msg_type + \"' message type: \", msg);\n",
       "            return;\n",
       "        }\n",
       "\n",
       "        if (callback) {\n",
       "            try {\n",
       "                // console.log(\"Handling '\" + msg_type + \"' message: \", msg);\n",
       "                callback(fig, msg);\n",
       "            } catch (e) {\n",
       "                console.log(\"Exception inside the 'handler_\" + msg_type + \"' callback:\", e, e.stack, msg);\n",
       "            }\n",
       "        }\n",
       "    };\n",
       "}\n",
       "\n",
       "// from http://stackoverflow.com/questions/1114465/getting-mouse-location-in-canvas\n",
       "mpl.findpos = function(e) {\n",
       "    //this section is from http://www.quirksmode.org/js/events_properties.html\n",
       "    var targ;\n",
       "    if (!e)\n",
       "        e = window.event;\n",
       "    if (e.target)\n",
       "        targ = e.target;\n",
       "    else if (e.srcElement)\n",
       "        targ = e.srcElement;\n",
       "    if (targ.nodeType == 3) // defeat Safari bug\n",
       "        targ = targ.parentNode;\n",
       "\n",
       "    // jQuery normalizes the pageX and pageY\n",
       "    // pageX,Y are the mouse positions relative to the document\n",
       "    // offset() returns the position of the element relative to the document\n",
       "    var x = e.pageX - $(targ).offset().left;\n",
       "    var y = e.pageY - $(targ).offset().top;\n",
       "\n",
       "    return {\"x\": x, \"y\": y};\n",
       "};\n",
       "\n",
       "/*\n",
       " * return a copy of an object with only non-object keys\n",
       " * we need this to avoid circular references\n",
       " * http://stackoverflow.com/a/24161582/3208463\n",
       " */\n",
       "function simpleKeys (original) {\n",
       "  return Object.keys(original).reduce(function (obj, key) {\n",
       "    if (typeof original[key] !== 'object')\n",
       "        obj[key] = original[key]\n",
       "    return obj;\n",
       "  }, {});\n",
       "}\n",
       "\n",
       "mpl.figure.prototype.mouse_event = function(event, name) {\n",
       "    var canvas_pos = mpl.findpos(event)\n",
       "\n",
       "    if (name === 'button_press')\n",
       "    {\n",
       "        this.canvas.focus();\n",
       "        this.canvas_div.focus();\n",
       "    }\n",
       "\n",
       "    var x = canvas_pos.x * mpl.ratio;\n",
       "    var y = canvas_pos.y * mpl.ratio;\n",
       "\n",
       "    this.send_message(name, {x: x, y: y, button: event.button,\n",
       "                             step: event.step,\n",
       "                             guiEvent: simpleKeys(event)});\n",
       "\n",
       "    /* This prevents the web browser from automatically changing to\n",
       "     * the text insertion cursor when the button is pressed.  We want\n",
       "     * to control all of the cursor setting manually through the\n",
       "     * 'cursor' event from matplotlib */\n",
       "    event.preventDefault();\n",
       "    return false;\n",
       "}\n",
       "\n",
       "mpl.figure.prototype._key_event_extra = function(event, name) {\n",
       "    // Handle any extra behaviour associated with a key event\n",
       "}\n",
       "\n",
       "mpl.figure.prototype.key_event = function(event, name) {\n",
       "\n",
       "    // Prevent repeat events\n",
       "    if (name == 'key_press')\n",
       "    {\n",
       "        if (event.which === this._key)\n",
       "            return;\n",
       "        else\n",
       "            this._key = event.which;\n",
       "    }\n",
       "    if (name == 'key_release')\n",
       "        this._key = null;\n",
       "\n",
       "    var value = '';\n",
       "    if (event.ctrlKey && event.which != 17)\n",
       "        value += \"ctrl+\";\n",
       "    if (event.altKey && event.which != 18)\n",
       "        value += \"alt+\";\n",
       "    if (event.shiftKey && event.which != 16)\n",
       "        value += \"shift+\";\n",
       "\n",
       "    value += 'k';\n",
       "    value += event.which.toString();\n",
       "\n",
       "    this._key_event_extra(event, name);\n",
       "\n",
       "    this.send_message(name, {key: value,\n",
       "                             guiEvent: simpleKeys(event)});\n",
       "    return false;\n",
       "}\n",
       "\n",
       "mpl.figure.prototype.toolbar_button_onclick = function(name) {\n",
       "    if (name == 'download') {\n",
       "        this.handle_save(this, null);\n",
       "    } else {\n",
       "        this.send_message(\"toolbar_button\", {name: name});\n",
       "    }\n",
       "};\n",
       "\n",
       "mpl.figure.prototype.toolbar_button_onmouseover = function(tooltip) {\n",
       "    this.message.textContent = tooltip;\n",
       "};\n",
       "mpl.toolbar_items = [[\"Home\", \"Reset original view\", \"fa fa-home icon-home\", \"home\"], [\"Back\", \"Back to previous view\", \"fa fa-arrow-left icon-arrow-left\", \"back\"], [\"Forward\", \"Forward to next view\", \"fa fa-arrow-right icon-arrow-right\", \"forward\"], [\"\", \"\", \"\", \"\"], [\"Pan\", \"Pan axes with left mouse, zoom with right\", \"fa fa-arrows icon-move\", \"pan\"], [\"Zoom\", \"Zoom to rectangle\", \"fa fa-square-o icon-check-empty\", \"zoom\"], [\"\", \"\", \"\", \"\"], [\"Download\", \"Download plot\", \"fa fa-floppy-o icon-save\", \"download\"]];\n",
       "\n",
       "mpl.extensions = [\"eps\", \"jpeg\", \"pdf\", \"png\", \"ps\", \"raw\", \"svg\", \"tif\"];\n",
       "\n",
       "mpl.default_extension = \"png\";var comm_websocket_adapter = function(comm) {\n",
       "    // Create a \"websocket\"-like object which calls the given IPython comm\n",
       "    // object with the appropriate methods. Currently this is a non binary\n",
       "    // socket, so there is still some room for performance tuning.\n",
       "    var ws = {};\n",
       "\n",
       "    ws.close = function() {\n",
       "        comm.close()\n",
       "    };\n",
       "    ws.send = function(m) {\n",
       "        //console.log('sending', m);\n",
       "        comm.send(m);\n",
       "    };\n",
       "    // Register the callback with on_msg.\n",
       "    comm.on_msg(function(msg) {\n",
       "        //console.log('receiving', msg['content']['data'], msg);\n",
       "        // Pass the mpl event to the overridden (by mpl) onmessage function.\n",
       "        ws.onmessage(msg['content']['data'])\n",
       "    });\n",
       "    return ws;\n",
       "}\n",
       "\n",
       "mpl.mpl_figure_comm = function(comm, msg) {\n",
       "    // This is the function which gets called when the mpl process\n",
       "    // starts-up an IPython Comm through the \"matplotlib\" channel.\n",
       "\n",
       "    var id = msg.content.data.id;\n",
       "    // Get hold of the div created by the display call when the Comm\n",
       "    // socket was opened in Python.\n",
       "    var element = $(\"#\" + id);\n",
       "    var ws_proxy = comm_websocket_adapter(comm)\n",
       "\n",
       "    function ondownload(figure, format) {\n",
       "        window.open(figure.imageObj.src);\n",
       "    }\n",
       "\n",
       "    var fig = new mpl.figure(id, ws_proxy,\n",
       "                           ondownload,\n",
       "                           element.get(0));\n",
       "\n",
       "    // Call onopen now - mpl needs it, as it is assuming we've passed it a real\n",
       "    // web socket which is closed, not our websocket->open comm proxy.\n",
       "    ws_proxy.onopen();\n",
       "\n",
       "    fig.parent_element = element.get(0);\n",
       "    fig.cell_info = mpl.find_output_cell(\"<div id='\" + id + \"'></div>\");\n",
       "    if (!fig.cell_info) {\n",
       "        console.error(\"Failed to find cell for figure\", id, fig);\n",
       "        return;\n",
       "    }\n",
       "\n",
       "    var output_index = fig.cell_info[2]\n",
       "    var cell = fig.cell_info[0];\n",
       "\n",
       "};\n",
       "\n",
       "mpl.figure.prototype.handle_close = function(fig, msg) {\n",
       "    var width = fig.canvas.width/mpl.ratio\n",
       "    fig.root.unbind('remove')\n",
       "\n",
       "    // Update the output cell to use the data from the current canvas.\n",
       "    fig.push_to_output();\n",
       "    var dataURL = fig.canvas.toDataURL();\n",
       "    // Re-enable the keyboard manager in IPython - without this line, in FF,\n",
       "    // the notebook keyboard shortcuts fail.\n",
       "    IPython.keyboard_manager.enable()\n",
       "    $(fig.parent_element).html('<img src=\"' + dataURL + '\" width=\"' + width + '\">');\n",
       "    fig.close_ws(fig, msg);\n",
       "}\n",
       "\n",
       "mpl.figure.prototype.close_ws = function(fig, msg){\n",
       "    fig.send_message('closing', msg);\n",
       "    // fig.ws.close()\n",
       "}\n",
       "\n",
       "mpl.figure.prototype.push_to_output = function(remove_interactive) {\n",
       "    // Turn the data on the canvas into data in the output cell.\n",
       "    var width = this.canvas.width/mpl.ratio\n",
       "    var dataURL = this.canvas.toDataURL();\n",
       "    this.cell_info[1]['text/html'] = '<img src=\"' + dataURL + '\" width=\"' + width + '\">';\n",
       "}\n",
       "\n",
       "mpl.figure.prototype.updated_canvas_event = function() {\n",
       "    // Tell IPython that the notebook contents must change.\n",
       "    IPython.notebook.set_dirty(true);\n",
       "    this.send_message(\"ack\", {});\n",
       "    var fig = this;\n",
       "    // Wait a second, then push the new image to the DOM so\n",
       "    // that it is saved nicely (might be nice to debounce this).\n",
       "    setTimeout(function () { fig.push_to_output() }, 1000);\n",
       "}\n",
       "\n",
       "mpl.figure.prototype._init_toolbar = function() {\n",
       "    var fig = this;\n",
       "\n",
       "    var nav_element = $('<div/>');\n",
       "    nav_element.attr('style', 'width: 100%');\n",
       "    this.root.append(nav_element);\n",
       "\n",
       "    // Define a callback function for later on.\n",
       "    function toolbar_event(event) {\n",
       "        return fig.toolbar_button_onclick(event['data']);\n",
       "    }\n",
       "    function toolbar_mouse_event(event) {\n",
       "        return fig.toolbar_button_onmouseover(event['data']);\n",
       "    }\n",
       "\n",
       "    for(var toolbar_ind in mpl.toolbar_items){\n",
       "        var name = mpl.toolbar_items[toolbar_ind][0];\n",
       "        var tooltip = mpl.toolbar_items[toolbar_ind][1];\n",
       "        var image = mpl.toolbar_items[toolbar_ind][2];\n",
       "        var method_name = mpl.toolbar_items[toolbar_ind][3];\n",
       "\n",
       "        if (!name) { continue; };\n",
       "\n",
       "        var button = $('<button class=\"btn btn-default\" href=\"#\" title=\"' + name + '\"><i class=\"fa ' + image + ' fa-lg\"></i></button>');\n",
       "        button.click(method_name, toolbar_event);\n",
       "        button.mouseover(tooltip, toolbar_mouse_event);\n",
       "        nav_element.append(button);\n",
       "    }\n",
       "\n",
       "    // Add the status bar.\n",
       "    var status_bar = $('<span class=\"mpl-message\" style=\"text-align:right; float: right;\"/>');\n",
       "    nav_element.append(status_bar);\n",
       "    this.message = status_bar[0];\n",
       "\n",
       "    // Add the close button to the window.\n",
       "    var buttongrp = $('<div class=\"btn-group inline pull-right\"></div>');\n",
       "    var button = $('<button class=\"btn btn-mini btn-primary\" href=\"#\" title=\"Stop Interaction\"><i class=\"fa fa-power-off icon-remove icon-large\"></i></button>');\n",
       "    button.click(function (evt) { fig.handle_close(fig, {}); } );\n",
       "    button.mouseover('Stop Interaction', toolbar_mouse_event);\n",
       "    buttongrp.append(button);\n",
       "    var titlebar = this.root.find($('.ui-dialog-titlebar'));\n",
       "    titlebar.prepend(buttongrp);\n",
       "}\n",
       "\n",
       "mpl.figure.prototype._root_extra_style = function(el){\n",
       "    var fig = this\n",
       "    el.on(\"remove\", function(){\n",
       "\tfig.close_ws(fig, {});\n",
       "    });\n",
       "}\n",
       "\n",
       "mpl.figure.prototype._canvas_extra_style = function(el){\n",
       "    // this is important to make the div 'focusable\n",
       "    el.attr('tabindex', 0)\n",
       "    // reach out to IPython and tell the keyboard manager to turn it's self\n",
       "    // off when our div gets focus\n",
       "\n",
       "    // location in version 3\n",
       "    if (IPython.notebook.keyboard_manager) {\n",
       "        IPython.notebook.keyboard_manager.register_events(el);\n",
       "    }\n",
       "    else {\n",
       "        // location in version 2\n",
       "        IPython.keyboard_manager.register_events(el);\n",
       "    }\n",
       "\n",
       "}\n",
       "\n",
       "mpl.figure.prototype._key_event_extra = function(event, name) {\n",
       "    var manager = IPython.notebook.keyboard_manager;\n",
       "    if (!manager)\n",
       "        manager = IPython.keyboard_manager;\n",
       "\n",
       "    // Check for shift+enter\n",
       "    if (event.shiftKey && event.which == 13) {\n",
       "        this.canvas_div.blur();\n",
       "        event.shiftKey = false;\n",
       "        // Send a \"J\" for go to next cell\n",
       "        event.which = 74;\n",
       "        event.keyCode = 74;\n",
       "        manager.command_mode();\n",
       "        manager.handle_keydown(event);\n",
       "    }\n",
       "}\n",
       "\n",
       "mpl.figure.prototype.handle_save = function(fig, msg) {\n",
       "    fig.ondownload(fig, null);\n",
       "}\n",
       "\n",
       "\n",
       "mpl.find_output_cell = function(html_output) {\n",
       "    // Return the cell and output element which can be found *uniquely* in the notebook.\n",
       "    // Note - this is a bit hacky, but it is done because the \"notebook_saving.Notebook\"\n",
       "    // IPython event is triggered only after the cells have been serialised, which for\n",
       "    // our purposes (turning an active figure into a static one), is too late.\n",
       "    var cells = IPython.notebook.get_cells();\n",
       "    var ncells = cells.length;\n",
       "    for (var i=0; i<ncells; i++) {\n",
       "        var cell = cells[i];\n",
       "        if (cell.cell_type === 'code'){\n",
       "            for (var j=0; j<cell.output_area.outputs.length; j++) {\n",
       "                var data = cell.output_area.outputs[j];\n",
       "                if (data.data) {\n",
       "                    // IPython >= 3 moved mimebundle to data attribute of output\n",
       "                    data = data.data;\n",
       "                }\n",
       "                if (data['text/html'] == html_output) {\n",
       "                    return [cell, data, j];\n",
       "                }\n",
       "            }\n",
       "        }\n",
       "    }\n",
       "}\n",
       "\n",
       "// Register the function which deals with the matplotlib target/channel.\n",
       "// The kernel may be null if the page has been refreshed.\n",
       "if (IPython.notebook.kernel != null) {\n",
       "    IPython.notebook.kernel.comm_manager.register_target('matplotlib', mpl.mpl_figure_comm);\n",
       "}\n"
      ],
      "text/plain": [
       "<IPython.core.display.Javascript object>"
      ]
     },
     "metadata": {},
     "output_type": "display_data"
    },
    {
     "data": {
      "text/html": [
       "<img src=\"data:image/png;base64,iVBORw0KGgoAAAANSUhEUgAAA2AAAAJACAYAAADrSQUmAAAgAElEQVR4nOy9aVvUZ5qHnU9T+gGIX4D4bkwsEttOMumAPd2d7mk07a4RNasJLjFmM6AmZhOIaVktwAW3QlFckAIVEbHYqtxLn5nnmHl6cj0vjAStgrqBuv/X/646z+M4X0wkcpPj+FF9TlXd9YwAAAAAAACAJzyjfQAAAAAAAIBcgQADAAAAAADwCAIMAAAAAADAIwgwAAAAAAAAjyDAAAAAAAAAPIIAAwAAAAAA8AgCDAAAAAAAwCMIMAAAAAAAAI8gwAAAAAAAADyCAAMAAAAAAPAIAgwAAAAAAMAjCDAAAAAAAACPIMAAAAAAAAA8ggADAAAAAADwCAIMAAAAAADAIwgwAAAAAAAAjyDAAAAAAAAAPIIAAwAAAAAA8AgCDAAAAAAAwCMIMAAAAAAAAI8gwAAAAAAAADyCAAMAAAAAAPAIAgwAAAAAAMAjCDAAAAAAAACPIMAAAAAAAAA8ggADAAAAAADwCAIMAAAAAADAIwgwAAAAAAAAjyDAAAAAAAAAPIIAAwAAAAAA8AgCDAAAAAAAwCMIMAAAAAAAAI8gwAAAAAAAADyCAAMAAAAAAPAIAgwAAAAAAMAjCDAAAAAAAACPIMAAAAAAAAA8ggADAAAAAADwCAIMAAAAAADAIwgwAAAAAAAAjyDAAAAAAAAAPIIAAwAAAAAA8AgCDAAAAAAAwCMIMAAAAAAAAI8gwAAAAAAAADyCAAMAAAAAAPAIAgwAAAAAAMAjCDAAAAAAAACPIMAAAAAAAAA8ggADAAAAAADwCAIMAAAAAADAIwgwAAAAAAAAjyDAAAAAAAAAPIIAAwAAAAAA8AgCDAAAAAAAwCMIMAAAAAAAAI8gwAAAAAAAADyCAAMAAAAAAPAIAgwAAAAAAMAjCDAAAAAAAACPIMAAAAAAAAA8ggADAAAAAADwCAIMAAAAAADAIwgwAAAAAAAAjyDAAAAAAAAAPIIAAwAAAAAA8AgCDAAAAAAAwCMIsDQkEgkpLCyUiooK7aMAAAAAAIDjEGApSCQSEolEpLS0VPLy8iQQCEhZWZn2sQAAAAAAwHEIsKcIBAKSl5cnxcXFEgqFJD8/33cB9ssvv8i//vV/njkWL78vomuyFUQz2QqimVpb+eWXX+z8j1gQEQIsLcFg0HcB9q9//Z/cvPnAM8fi5fdFdE22gmgmW0E0U2srT8cfZBYCLA0EGA+UiKayFUQz2QqimVpbIcDsQoClgQDjgRLRVLaCaCZbQTRTaysEmF0IsDQQYDxQIprKVhDNZCuIZmpthQCzCwGWBgKMB0pEU9kKoplsBdFMra0QYHYhwNJAgPFAiWgqW0E0k60gmqm1FQLMLgRYGggwHigRTWUriGayFUQztbZCgNmFAEuDHwMMAAAAAADchABLAwEGAAAAAACZggBLAwEGAAAAAACZggBLgx8DjPeAIfpTtoJoJltBNFNrK7wHzC4EWBoIMB4oEU1lK4hmshVEM7W2QoDZhQBLAwHGAyWiqWwF0Uy2gmim1lYIMLsQYGkgwHigRDSVrSCayVYQzdTaCgFmFwIsDQQYD5SIprIVRDPZCqKZWlshwOxCgKWBAOOBEtFUtoJoJltBTG9v/205fyUuXX235X/+91+efm8CzC4EWBry8/MJsDFo/zJC9LNsBdFMtoL4pL39t+XQqeuys/qirN0elj+sD8m/La4edcVnx2Vg6J5n5yHA7EKATUAkEpFAICCBQEAKCwslkUhoH0lECDBEv8pWEM1kK5jL9t24I4fbrsuuX2Pr9adiazxbTvd7dkYCzC4E2FM8fslhOjWfESPAEP0pW0E0k61grtgfvStHT/fL7tpOWf9VWArfbjSKrVSGz0U9OzcBZhcCzEEIMER/ylYQzWQrmI0ODN2T8LmofN/QJe/tOCl/fK95yrE11ueXVEvZvosSjyc8+1kIMLsQYA5CgCH6U7aCaCZbQdcdid2X9s4hqWq+JKW72+SvHx6U55fUZCS4XlnTIKs+Oy7b916Q1ovDcvv+f3u+FQLMLgSYgxBgiP6UrSCayVbQJePxhER64lJ35Kps23NW3tzSIgXLazMSWy//Gltf7b0gTSeuyeXem08806W1FQLMLgSYgxBgiP6UrSCayVbQz/bduCOHTl2X8n92yOrPj8vv32rISGzNX10vKz49Jl/+dF5Cx5NjK5VaWyHA7EKAOQgBhuhP2QqimWwF/eLwyH1p6xiUPaFueX/nSfnju00Zia0XV9bJko+PyGcV56T+6FWJ9MSn9B4ura0QYHYhwByEAEP0p2wF0Uy2ghrG4wm5dPWm1B999FLCRZsPy9xl038p4dxlNVK88bBs+f6M7Dt0Rc53j0gslpkLM7S2QoDZhQBzEAIM0Z+yFUQz2Qp64cDQPTlxNiq76zpl7fawvLp2/7Rja87iavnzBwdkw9enpLKxW05fHJThkfvWfgatrRBgdiHAHIQAQ/SnbAXRTLaCmTYeT0j31bjUHumRj39ol7+XHpIXlk7/VsJX1+6Xki9PyNc1F+XomRtyY+Cupz+X1lYIMLsQYA5CgCH6U7aCaCZbwek6NHxfTp4fkO/qI7Luq8w8u1WwolYWf3xEPqs8J/uP9crl3pvqP6fWVggwuxBgDkKAIfpTtoJoJlvBydp7/bY0nrgmn1Wekze3tGTkvVt/er9ZPvy6TaqaLkl755CMxOy9lHCqam2FALMLAeYgBBiiP2UriGayFZzIWDwh57tH5KfmS7Jh1ylZkIGbCeevrpdVnx2XHf/skMNt16U/ekf95zRRaysEmF0IMAchwBD9KVtBNJOt4FiHhh9dlvFNbae89flxmb+6ftoXZbyx4YBs/Pa0/PPgFem4NCKxKVwB7we1tkKA2YUAcxACDNGfshVEM9lKbns9ekeaW/vk86rHLyec3mUZ81bVy8pPj8mOf3ZIS1u/9Ee9vSjDplpbIcDsQoA5CAGG6E/ZCqKZbCW3vNx7U2qP9Mjm787IGxsOyJxpvpzwj+81y4avT8lPzZfkfNews89umai1FQLMLgSYgxBgiP6UrSCayVay13g8IRcvx2Tvgcvywa5TUvh247Ria+6yWnlzS4t8XnlOmsLX5Fr/bfWf0Uu1tkKA2YUAcxACDNGfshVEM9lK9hiLJ+RsZFj2hLplfVmrvFIyvevgf/9Wg5R8eUJ213VK67kBGRr2382EXqq1FQLMLgSYgxBgiP6UrSCayVbcdSR2X05fHJTv6iOy5osT074wY8G7TbLh61Oy98Bl6bg0IvEsfjnhVNTaCgFmFwLMQQgwRH/KVhDNZCvuOBK7L20dg7K7rlNWf35c5q2qm/rthEuq5W8fHZSPf2iXhmO90tN3S/3n87taWyHA7EKAOQgBhuhP2QqimWzFvz4dXC+tnHpwzV1WI//Y0iJf/nReDp26nlW3E3ql1lYIMLsQYA5CgCH6U7aCaCZb8Y+xWEJOXxyUb+si036G68UVdbJi21HZua9DjrffkKHhe+o/n+tqbYUAswsB5iAEGKI/ZSuIZrIVPWPxhJyLDMsPDV2y5osT8rtVU38P17xVdbL68+Oyu65TTl0YlOGR3L4ww4ZaWyHA7EKAOQgBhuhP2QqimWzFOx9fC1/ZdEneLmuVl9c0TDm45q+ul5IvT8j39RE5c3FIYjEuzLCt1lYIMLsQYA5CgCH6U7aCaCZbseuVa7ek+vAV2bDrlLy2LjSt4Fq7PSw/NHRJe+dQVn/gsV/V2goBZhcCzEEIMER/ylYQzWQrmbU/ekcaT1yTLd+fkT+93zzl4Prdql+f4SK4fKPWVggwuxBgDkKAIfpTtoJoJluZnkPD9+XYmRuyfe95WbjpsMxZMrXgemnlo/dwfVvHSwr9qtZWCDC7EGAOQoAh+lO2gmgmW5mc8XhCzkaG5du6iKz89JgULK+dUnAVLK+V5duOytc1F+XkhQEZiXFpht/V2goBZhcCzEEIMER/ylYQzWQr6e3puyX7Dl2R93aelFdK9k8puF5YWiNvbm6Rr/Ze+PVaeILLNbW2QoDZhQBzEAIM0Z+yFUQz2Uqyg0P35HDbdfm04qy8seHAlN/H9caGg7Jtz1k50NonNwb44GPX1doKAWYXAsxBCDBEf8pWEM1kK49eVni+a1i+q4/Iik+PSXCKLyt8fX1IPvqmTeqOXJXe67fVfy7MrFpbIcDsQoA5CAGG6E/ZCqKZubqV69E70nCsVz76pm3K18PPW/XoavjKxm7pvBKTODcVZrVaWyHA7EKAOQgBhuhP2QqimbmylVg8IW0dg7JzX4e8ubllSrcVvrC0RhZvaZEd+zrk5Hkuzsg1tbZCgNmFAHMQAgzRn7IVRDOzeSt9N+5IbUuPvL/zpLy8pmFKz3L98b1m+fj7dmkO8z6uXFdrKwSYXQgwByHAEP0pW0E0M5u2Eosn5PTFQdmxr0MWbTosc6b4ssJ128NS1XxJunvi6j8T+ketrRBgdiHAHIQAQ/SnbAXRTNe30h+9Kw3HemXD16emdEX8nMXVUrzxkHy194KEz0V5WSGOq9ZWCDC7EGAOQoAh+lO2gmima1uJxxNyoXtEvq2LyNKtR+SFpTWTjq5X1jTIB7tOSe2RHrnWz22FaKbWVggwuxBgDkKAIfpTtoJopgtbGRq+L4fbrsvH37dL4duNkw6u55fUyD+2tMiu6oty5uKQxLitEKeg1lYIMLsQYA5CgCH6U7aCaKZft3L1+m35+cBlWbs9LC+uqJv8s1wl+2XD16ek4VivXI/eUf950H21tkKA2YUAcxACDNGfshVEM/2ylXg8Ieciw7Kz+qIUbzw8pfdyLdp0WHbu6+BZLrSi1lYIMLsQYA5CgCH6U7aCaKbmVoZH7kvL6X75+Id2eX395F9a+LtV9fJOeavUHOa9XGhfra0QYHYhwByEAEP0p2wF0Uyvt9IfvSu1R3rknfJWmbdq8i8t/MsHB+TzqnNy4iw3FqK3aj2uEGB2IcAchABD9KdsBdFML7Zyufem7Al1y4ptRyd9a+HcZTWy4tNj8uP+Lunic7lQUa3HFQLMLgSYgxBgiP6UrSCaaWMr8XhCzncNy859HfKfpYcm/SzXy2saZMPXpyR0vFduDNxV/2+EePMmAZatEGAOQoAh+lO2gmhmprYSiyek9dyAfFZ5Tha82zTp6Przry8tbD03ILEYF2ig/9R6XCHA7EKAOQgBhuhP2QqimdPZyuNLNDZ/d0ZeLdk/uVsLl1TLko+PyHf1Eem8ElP/74CYTq3HFQLMLgSYgxBgiP6UrSCaOdmtDA7dk6bwNdmw65TMX10/qeh6cUWdrNseln2HrkjfDT6bC91S63GFALMLAeYgBBiiP2UriGaabCU6eFcajvXK22Wtk/5Q5JfXNMhH37RJc2ufDA3fU/95Eaeq1uMKAWYXAsxBCDBEf8pWEM0cbys3Bu5KTUuPrN0eluDy2klFV+HbjbJtz1k5cTbK+7kwa9R6XCHA7EKAOQgBhuhP2QqimWPpj96R6sNXZM0XJ2TussldF//GhgNS9vMFae8cknic6MLsU+txhQCzCwHmIAQYoj9lK4hmPvzv/5WDp2/I+vKTk/6MrkWbDsvuuk4u0cCcUOtxhQCzCwHmIAQYoj9lK4jje2PgrtQc7pG3Pj8+qWe6Ht9c+OP+Lrnce1P950D0Uq3HFQLMLgSYgxBgiP6UrSA+aXTwrtQe6ZGSL0/I3GXm7+l6fkmNrNh2VKqaLsnV67fVfw5ELbUeVwgwuxBgExAKhaSwsPAJKyoqtI9FgCH6VLaC+OjK+NDxXllf1ioFk7hI44WlNbLys2Py84HLXBeP+KtajysEmF0IsBQkEgkpLCyUYDAoiUQi7T/3GgIM0Z+yFcxVh0fuy8GT1+WDXafkpZXmV8a/sLRGVn12XH4+SHQhplLrcYUAswsBloLi4mLJy8sbN7Ly8/OlsLDQ41P9BgGG6E/ZCuaSsXhCjrffkE3fnZHfv9UwqZcXrv2qVZpP9cuD//of9Z8D0c9qPa4QYHYhwJ4iHA5LIBCQsrKycb+mrKxMAoGA2ssRCTBEf8pWMNuNxxPS3jkkn1Wek9fWhSZ1kcbybUflp+ZLcq3/NltBNFRrKwSYXQiwpyguLpZAICDhcHjcr4lGoxIIBCQYDHp4st8gwBD9KVvBbLWrJy4793XIn95vNo+uxdWy+OMjUtHYLb1PXaTBVhDN1NoKAWYXAuwpAoGABAKBtO/xevx10WjUo5P9BgGG6E/ZCmaT1/pvS2Vjt7y5uWVSn9NVvPGwfF8fmfDKeLaCaKbWVggwuxBgY3j88sNAIJD2a/Py8iQQCEgoFPLgZE9CgCH6U7aCrjs4dE/qj16VNV+cmNQHJP/5gwOys/qiRAw/HJmtIJqptRUCzC4E2BgqKiokEAhIXl5e2q/Nz8+XQCAgpaWlHpzsSQgwRH/KVtBFH1+m8dE3bTJvlfkNhq+vD8kXVeflbGRY4vHEpL4nW0E0U2srBJhdCLAxPL5cYzIBVlJS4sHJnsTLAIvHE3L/TEiG97wrQ9+WSP/OVYg4jkPfloyqfRbEdPZsXyFnNv9DDr37n9K47q9GHnj7b9K28U259MUyuT6N781WEM0c+rZEhve8K4n20KT/Hx0EmH8hwMZQWloqgUBA8vPz035tMBiUQCAgxcXFHpxMj0R7SK69V4CIiIiIiibaG7X/ZyFkCAJsDCUlJQTYU8Srt6r/wkFERETMdePVW7X/ZyFkCAJsDI+voJ9MgGl+ILMX8AwYIiIior48A5Y9EGBjcOUZMK/fA5Zo5z1giCbyvhbU9lr5SrmwdbEcff/vxu/rOvjO3+T0pjfl8pfLPTsnW0E0k/eAZScE2BgevweMSziedCxefl9E12QrqGEsnpCW0/3y7o6TMndZrdENhsHltfJOeascOnVdRmL3PT8zW0E0U2srBJhdCLAxTOYWxMefA8Y19Ij4WLaCXnrp6k0p/2eHvL6+0fjq+De3tMhPzZekP3pH9exsBdFMra0QYHYhwMYQCoWMP4j58dfxQcyI+Fi2grYdGr4v9UevyopPj8kcw+h6bV1Itu89L52XzT4k2QvZCqKZWlshwOxCgI0hkUiMhlUikTD6umg06uEJH0GAIfpTtoK27Lg0Itv2nJXfv9VgFF1zl9XKuztOSktbv8Ri3r1vxFS2gmim1lYIMLsQYE/x+HKNcDg87tdEIhHjyzpsQIAh+lO2gpl0YOie7Dt0Rf6xpcX4JYbFGw9JZZP+SwzTyVYQzdTaCgFmFwLsKR6/DHGiyzUe35ZYUVHh4cl+gwBD9KdsBTPhua5h+fj7dpm3qt4ouuavrpetP7bLuciw+tlNZSuIZmpthQCzCwGWgsLCQsnLy0v5MsREIiF5eXkSDAYVTvYIAgzRn7IVnKqDvz7b9eZms2e75iyulhWfHpP6o1dlaNj7WwynK1tBNFNrKwSYXQiwFCQSCQkGgxIMBp+IsMf/PD8/f8L3iNmGAEP0p2wFJ+uF7hHZ+mO7zF9t9mzXa+tCUvbzBem+Glc/+3RkK4hmam2FALMLATYBFRUVUlhYKMXFxVJcXCyFhYVqLzscCwGG6E/ZCpo4PPLoJsMlHx8xiq7nl9RIyZcn5ODJPl9eqDEV2QqimVpbIcDsQoA5CAGG6E/ZCk5kd09cvvzpvLyyxuwmw8K3G2VX9UXp6bulfvZMy1YQzdTaCgFmFwLMQQgwRH/KVvBpY/GEHDp1Xd76/LjR53Y9v6RG1m4Py+FT1yUWz45nu1LJVhDN1NoKAWYXAsxBCDBEf8pW8LHXo3fku/qILHi3yejZrtfXh2Tnvg65ci37nu1KJVtBNFNrKwSYXQgwByHAEP0pW8H2ziH56Js2KVhea3ST4erPj0tza/a8t8tUtoJoptZWCDC7EGAOQoAh+lO2kps+vlTD9AOTX17TIF9UnZeuHrdvMpyObAXRTK2tEGB2IcAchABD9KdsJbfsvX5bdlZflNfWhYzC680tLVJ7pMfJz+3KtGwF0UytrRBgdiHAHIQAQ/SnbCU3PHNxSDbsOiVzl9Wkja6CFbVSuvu0tHcOqZ/bT7IVRDO1tkKA2YUAcxACDNGfspXsNRZLSOh4ryw2/OyuP77bJN83dEl/9I762f0oW0E0U2srBJhdCDAHIcAQ/SlbyT77o3fk27qIFL7daBReqz8/Loey/Ar5TMhWEM3U2goBZhcCzEEIMER/ylayx0hPXLb+0C4vrqhLG13zVtXJ1h/bpfNyTP3crshWEM3U2goBZhcCzEEIMER/ylbcNh5PSPhcVNZtDxt9aPJ/vNcse0LdcmPgrvrZXZOtIJqptRUCzC4EmIMQYIj+lK246Ujs0TXyxRsPG73McOWnx3iZ4TRlK4hmam2FALMLAeYgBBiiP2Urbnlj4K5839Alr69P//6ughW1sum7M3Khe0T93NkgW0E0U2srBJhdCDAHIcAQ/SlbccOevlvyRdV5+d2q+rTh9e9r98s3tZ3Sd4PbDDMpW0E0U2srBJhdCDAHIcAQ/Slb8bfnu0fkw6/b5IWl6T+/628fHZSalh4ZHuFDk23IVhDN1NoKAWYXAsxBCDBEf8pW/Gn4XFTWfHHC6P1da744Icfbb0ic93dZla0gmqm1FQLMLgSYgxBgiP6UrfjHWDwhzeE+eXNLS9romrusVjZ+e1o6LvH+Lq9kK4hmam2FALMLAeYgBBiiP2Ur+g6P3Jd9h67Inz84kDa85q+ul6/2XpDe67fVz51rshVEM7W2QoDZhQBzEAIM0Z+yFT0Hh+7JnlC30Y2GRe80yp5QtwwM3lM/d67KVhDN1NoKAWYXAsxBCDBEf8pWvLc/ele+rrkor6xpMLpYo/7oVRmJcbGGtmwF0UytrRBgdiHAHIQAQ/SnbMU7e/tvy5c/nZd5q+rShteyT45KS1s/F2v4SLaCaKbWVggwuxBgDkKAIfpTtmLfnr5bsm3PWSlYUTthdM1ZXC3rvgpLW8eg+pkxWbaCaKbWVggwuxBgDkKAIfpTtmLPS1dvypbvz8jcZROH1wtLa+TDr9u40dDnshVEM7W2QoDZhQBzEAIM0Z+ylcwb6YlL6e70H55csLxWtv7QLpeu3lQ/M6aXrSCaqbUVAswuBJiDEGCI/pStZM7IlZh8+HWbPL9k4vCat6pOvvzpvPT2c5W8S7IVRDO1tkKA2YUAcxACDNGfspXp23klJht2nUobXvNX18vOfR3SH72jfmacvGwF0UytrRBgdiHAHIQAQ/SnbGXqdl6JyQe7TsmcJRPfaPjKmgbZXdcp0cG76mfGqctWEM3U2goBZhcCzEEIMER/ylYmb6QnbvRSw39fu19+2N8lg0N8eHI2yFYQzdTaCgFmFwLMQQgwRH/KVsztvhqX0t2n016u8dq6kOwJdcvQMOGVTbIVRDO1tkKA2YUAcxACDNGfspX0Xu69KZu/O5M2vP6wPiSVjd0yNHxf/cyYedkKoplaWyHA7EKAOQgBhuhP2cr49l6/Ldv2nE37OV5/WB+SqqZLhFeWy1YQzdTaCgFmFwLMQQgwRH/KVpK9Hr0jX/50Xl5cUZf2PV4VPOOVM7IVRDO1tkKA2YUAcxACDNGfspXfjA7elZ3VF+V3q+onDK9XSx5drsF7vHJLtoJoptZWCDC7EGAOQoAh+lO28kCGR+7LnlC3vLKmYcLwenlNg3xbF5EBbjXMSdkKoplaWyHA7EKAOQgBhuhPc3krsVhCag73SOHbjROG17xV9bKz+iKf45Xj5vJWECej1lYIMLsQYA5CgCH601zcSjyekObWPnljw4EJw+vFFXWyfe95uR69o35m1DcXt4I4FbW2QoDZhQBzEAIM0Z/m2lZazw/IP7a0TBhec5fVyrY9Z6X3+m3186J/zLWtIE5Vra0QYHYhwByEAEP0p7mylY5LI7Jue3jC8JqzpFo++qZNLvfeVD8v+s9c2QridNXaCgFmFwLMQQgwRH+a7Vu52ndLNn13Rp5fMvGHKK/7Kiwdl0bUz4v+Ndu3gpgptbZCgNmFAHMQAgzRn2brVqKDd6Xs5wtpP8tr2SdHpa1jUP286H+zdSuImVZrKwSYXQgwByHAEP1ptm0lFkvI3gOX5dWS/ROG198+PCgtbf3q50V3zLatINpSaysEmF0IMAchwBD9aTZt5fCp6/KXNDcbvr6+UWpaeiQWT6ifF90ym7aCaFOtrRBgdiHAHIQAQ/Sn2bCVs5FhWfHpsQnDa/7qevmuPiJDw/fVz4tumg1bQfRCra0QYHYhwByEAEP0py5vpff6bdn47WmZs2TiK+U/qzwn/XyWF05Tl7eC6KVaWyHA7EKAOQgBhuhPXdzK0PB92V3XKS+tnPiCjXd3nJTunrj6eTE7dHEriBpqbYUAswsB5iAEGKI/dWkr8XhCQsevSdE7jROG1z+2tMipC9xsiJnVpa0gaqq1FQLMLgSYgxBgiP7Ula2cjQzL0q1HJgyvBe82Sej4NYlzwQZa0JWtIGqrtRUCzC4EmIMQYIj+1O9b6btxRzZ/d2bC93nNW/Xogo3hES7YQHv6fSuIflFrKwSYXQgwByHAEP2pX7cyErsve0LdMn91/bjhNWdJtWz+/oz09t9WPy9mv37dCqLf1NoKAWYXAsxBCDBEf+rHrRw7c0PeSPN5Xiu2HZVzXcPqZ8Xc0Y9bQfSjWlshwOxCgDkIAYboT/20lcu9N+Wd8ta07/Nqbu3jfV7ouX7aCqKf1doKAWYXAsxBCDBEf+qHrQyP3JfdtZ3y4orxr5V/cWWd7K7t5IOUUU0/bAXRBbW2QoDZhQBzEAIM0Z9qb6XldL/86f3mCZ/1+mDXKenpu6X+3wpzW+2tILqi1lYIMLsQYGlIJBJSWFgoFRUV2kcZhQBD9KdaW7nce1PWfxWeMLz+XnpITp4fUP9vhHjzJo8riKZqbYUAswsBloJEIiGRSERKS0slLy9PAoGAlJWVaR9rFAIM0aFTBF4AACAASURBVJ96vZXhkfvybV1kwpcb/v6tBvmp+ZLEeJ8X+kgeVxDN1NoKAWYXAuwpAoGA5OXlSXFxsYRCIcnPzyfAxqD9iwjRz3q5lfC56IS3G85ZXC2bvjsjfTfuqP93QXxaHlcQzdTaCgFmFwIsDcFgkAAbg/YvIkQ/68VWrvXflg+/aZvw5YYLNx2W0xcH1f97II4njyuIZmpthQCzCwGWBgKMB0pEU21uJR5PyM8HLk/4Ycq/f6tB9h64zMsN0ffyuIJoptZWCDC7EGBpIMB4oEQ01dZWOi6NyJKPj0z4rFfp7jZebojOyOMKoplaWyHA7EKApYEA44ES0dRMb2Vo+L6U/XxB5i6rGTe83thwUFrPcbshuiWPK4hmam2FALMLAZYGPwYYAGQ/F3tvyV82HBw3vOatqpN9R3p5kAQAAHAMAiwNBBgAeMnD//of+aTi3IQvN3z/6za5de+/tY8KAAAAU4AASwMBBgBecaJjSF5bFxo3vArfbpRTncPaxwQAAIBpQIClwY8BxnvAEP3pVLfS03dL1m4Pj/+ZXkuqZeuP7XJj4K76z4iYCXlcQTRTayu8vN0uBFgaCDAeKBFNnexW4vGE7D1wWeatGv9q+b99eFDaOvhML8wueVxBNFNrKwSYXQiwNBBgPFAimjqZrXT1xGXZJ0fHDa/g8lrZXdcpI7H76j8XYqblcQXRTK2tEGB2cSLAotGoBAKBjFlSUmL8vQkwHigRTTXZSiyekD2hbnlxRd248bV06xHpvBJT/3kQbcnjCqKZWlshwOziRICJiITD4YwZjUaNvy8BxgMloqnpttJ5JSaLJ/hA5Xmr6mXvgcsSjyfUfxZEm/K4gmim1lYIMLs4E2BaEGA8UCKaOt5WYrGEfF8fkYLltePG17rtYenpu6X+MyB6IY8riGZqbYUAswsBlgYCjAdKRFNTbeXi5Zi8ubll3PB6eU2D7D/Wq352RC/lcQXRTK2tEGB2IcDSQIDxQIlo6lhi8YT8uL9rwme93t1xUq7131Y/N6LX8riCaKbWVggwuxBgaSDAeKBENPUxsTv/JUu3jv9er1dK9kvjiWvq50XUkscVRDO1tkKA2YUAS0N+fj4BNgbtX0SIfvaXX36RxpP9Mm/V+Dccvr/zlPTduKN+VkRNeVxBNFNrKwSYXQiwCYhEIqNX1xcWFkoikdA+kogQYIh+9Mq1W7KurHXCZ72aw33q50T0gzyuIJqptRUCzC4E2FM8fslhOjWfESPAEP3l/mO9Mn91/bjx9U55K896IY6RxxVEM7W2QoDZhQBzEAIM0R/2R+/K+ztPjRtev3+rQeqPXlU/J6Lf5HEF0UytrRBgdiHAHIQAQ9T3ePsNeX19aNz4WvPFCbnK53ohppTHFUQztbZCgNmFAHMQAgxRz6Hh+/JZxTmZM054zVtVLwfabkg8nlA/K6Jf5XEF0UytrRBgdiHAHIQAQ9TxfPeI/PXDg+M+67Xis+MSu/NfbAUxjTyuIJqptRUCzC4EmIMQYIjeGo8npLKxW4LjfKjyC0trZHddp/zr/35hK4gG8riCaKbWVggwuxBgDkKAIXpnb/9tWfPFiXGf9frLhgPS3jkkN2+yFURT2QqimVpbIcDsQoA5CAGG6I0tbf3yasn+ceNr256zMjR8b/Tr2QqimWwF0UytrRBgdiHAHIQAQ7Tr8MijizbGC69X1+6Xlrb+pH+PrSCayVYQzdTaCgFmFwLMQQgwRHtGeuJSvPHQhNfL9/bfTvnvshVEM9kKoplaWyHA7EKAOQgBhmjH+qNXZd6qupThFVxeK5WN3RNeL89WEM1kK4hmam2FALMLAeYgBBhiZh0Yuielu9vGfdbrjQ0H5Xz3SNq/h60gmslWEM3U2goBZhcCzEEIMMTMea5rWP78wYFx4+vjH9qfuGhjItkKoplsBdFMra0QYHYhwByEAEPMjD8fvCwF43y21/zV9dJ04tqk/j62gmgmW0E0U2srBJhdjAPs4cOHMjAwIK2trdLU1CRVVVVSVVUlTU1N0tTUJN3d3fLw4UObZ4VfIcAQp+fA4D3ZsOvUuM96/WNLi1zuvTnpv5etIJrJVhDN1NoKAWaXcQPs4cOHUlVVJYsWLZLZs2fLzJkzR50xY0aSY/98wYIFsmPHDunu7vbyZ8kZCDDEqXu+e2TclxzOWVwtX+29ICOx+1P6u9kKoplsBdFMra0QYHZJCrCmpiZZsGDBaGgFg0FZuHChlJeXS2Njo7S2tkpXV5d0dXVJNBqVrq4uaW1tlcbGRqmsrJSSkhIpKiqSZ599VmbOnCmzZ8+WnTt38uxYBiHAEKdm9eErUrAi9UsOXy3ZL0dPJ3+212RkK4hmshVEM7W2QoDZZTTAmpqa5Nlnn5VZs2bJxo0bpbW1ddp/eSQSkfLycgkGgzJz5kzZvHnztP9OIMAQJ+vQ8MS3HC775KhcvZ76s70mI1tBNJOtIJqptRUCzC7PDAwMSDAYlIKCAmlsbLT2jSKRiCxcuFBmzZolzc3N1r5PLkCAIZrb1ROX//wo9Qcrz1lcLWU/X5BYbPzP9pqMbAXRTLaCaKbWVggwuzzz7LPPSlVVlWffMBKJyHPPPSebNm3y7HtmGwQYopkHT/bJ/NX1KePr5TUN0tI2vZccPi1bQTSTrSCaqbUVAswuzzx48CD9V1mgvLxcFi1apPK9XYcAQ5zYWCwhZT9fGPclh4s/PiJXrt3K+PdlK4hmshVEM7W2QoDZRfVzwMLhsKxdu1bzCE5CgCGOb9+NO7Ly02PjxtfnleemfMthOtkKoplsBdFMra0QYHZR/yDmaDSqfQTnIMAQU3vm4pC8vr4xZXi9tLJOQscn98HKk5WtIJrJVhDN1NoKAWYX9QCDyUOAISZbffiKBJenvmL+LxsOyMXLMetnYCuIZrIVRDO1tkKA2YUAcxACDPE3h0fuy9Yf28d9yeF7O0/KwOA9T87CVhDNZCuIZmpthQCzS8YCrLKyUpqamjL118EEEGCIj+y9fluWfHwkZXi9sLRG9oS6JR7PzBXzJrIVRDPZCqKZWlshwOySsQB78OCBlJeXS0FBgezYsSNTfy2kgABDfCBtHYPy2rpQyvh6tWS/hM9FPT8TW0E0k60gmqm1FQLMLlZeglhZWckV8xYhwDDXrT58ReYuS/1+r0WbDlu5Yt5EtoJoJltBNFNrKwSYXYwCrKmpSWbPni0zZ86UmTNnSkFBgWzatElaW1vH/XcikQhXzFuCAMNcNRZLyGeV58Z9v1fp7tMyNGzninkT2QqimWwF0UytrRBgdkkbYK2trTJjxowkH8fYrFmzZN26ddLd3Z307y5YsMDKoXMdAgxz0f7oXVn9+fFx3+9V1XxJ/YxsBdFMtoJoptZWCDC7pA2wYDAoJSUlEo1GJRqNSmtrq5SXl0tRUVFSjM2ePVs2bdokTU1N0traKgUFBV78DDkHAYa5ZuflmPzp/eZx3+/Ven5A/Yw3b7IVRFPZCqKZWlshwOxiFGATEQqFpLCwMCnGZs6cKZs2bcrYQeE3CDDMJVva+uV3q+pTxtffSw+pvd8rlWwF0Uy2gmim1lYIMLukDTDTlxE+ePBAGhsbpaSkRIqKiqSysnLah4PUEGCYK+4JdcvzS2pSf77XjpMyOOTN53uZylYQzWQriGZqbYUAs0vaACsqKvLiHDAJCDDMdkdi92XL92dShtecxdXyTW2np5/vZSpbQTSTrSCaqbUVAswuaQOssbFRqqqqvDgLGEKAYTbbH70rKz89ljK+XlpZJ82tfepnHE+2gmgmW0E0U2srBJhdjK6hLyoqkkuXLtk+CxhCgGG22tUTlz9/cCBlfBW90yjnu4bVzziRbAXRTLaCaKbWVggwuxgFWCKRkGAwSIT5BAIMs9HWcwPy8pqGlPG1eEuLXOu/rX7GdLIVRDPZCqKZWlshwOxiFGAiItFodPQzvx4+fGjzTJAGAgyzzdojPTJ3WW3K+Nqw65TqhytPRraCaCZbQTRTaysEmF2MAmzt2rVPXC//+DO/1q5dK62trQSZxxBgmC3G4wnZVX0xZXj92+Jq+brmoi8v2xhPtoJoJltBNFNrKwSYXdIGWHl5ucyYMUOeffZZefbZZ0c/7+vpz/wqKCiQTZs2SWtrqxfnzmkIMMwGh0fuS+nutpThVbC8VvYf61U/42RlK4hmshVEM7W2QoDZxeiDmBsbG5/4Z11dXVJeXi5FRUVPRNnYIFuwYIE0NzdbO3guQ4Ch694YGP+mw1dL9ktbx6D6GaciW0E0k60gmqm1FQLMLhn5HLDxgmzWrFkZOSQ8CQGGLnvl2i3564cHU8bXXz44IJeu3lQ/41RlK4hmshVEM7W2QoDZJW2ALViwYNJ/aVdXl1RWViY9cwaZgQBDVz0bGZbX1oVSxteyT45Kf/Su+hmnI1tBNJOtIJqptRUCzC5pA2zhwoVcsuEzCDB00aNnbsi8VXWpbzr8+pQMj7hx0+FEshVEM9kKoplaWyHA7JI2wLq6umTt2rVenAUMIcDQNeuPXpW5y2pSxteOf3Y4ddPhRLIVRDPZCqKZWlshwOxidA39woULpaqqyvZZwBACDF3yh4YumZMivF5YWiP7Dl1RP18mZSuIZrIVRDO1tkKA2cX4g5gXLlwomzdvtnkWMIQAQxeMxRPyeeW5lM96vbSyTo6c7lc/Y6ZlK4hmshVEM7W2QoDZxSjAWltbZeHChTJz5kx58cUXpbm5mfeFKUKAod8dHrkv7+88Oe418+2dQ+pntCFbQTSTrSCaqbUVAswuaQOssbHxiQ9fHvt5X2M/fJkg8w4CDP3swOC9cT/j64/vNUtXT1z9jLZkK4hmshVEM7W2QoDZxeiDmDdu3CiVlZWycePGCT98eWyQgT0IMPSrfTfuyKJNh1PG18JNh+Va/231M9qUrSCayVYQzdTaCgFmlyl/EHM0Gh398OVUz47NnDmT94xZggBDP3rl2i35ywcHUsbX6s+Py8DgPfUz2patIJrJVhDN1NoKAWaXtAFWUlJi9IxWV1fXaJA9foZs1qxZGTkkPAkBhn6z83JMCt9uTBlfH37TJiMx9z/jy0S2gmgmW0E0U2srBJhdjC7hKCkpkQULFkhTU5PxXxyNRiUajU75YJokEgkpLS2V/Px8CQQCkp+fL8XFxVJRUaF9NBEhwNBftncOyStrGlLG1+eV57LmM75MZCuIZrIVRDO1tkKA2cX4GvpoNCobN26UgoIC2bFjh80zqRIOhyU/P18qKiokkUiM/rPCwkIJBAISDAbVw5IAQ7944mxU5q2qSxlfu2s71c/ntWwF0Uy2gmim1lYIMLsYB1gukEgkJD8/f9zAKi4ulkAgIHl5eaoRRoChHzx48roEl9cmhdecJdWy98Bl9fNpyFYQzWQriGZqbYUAswsBNobi4mIJh8Pj/nkikZBAICCBQEAKCws9PNmTEGCobeh4r7ywtCYpvuYuq5HQ8V7182nJVhDNZCuIZmpthQCzCwE2hry8vLRfU1JSMhphj1+i6DUEGGpac7hHnl+SHF8vrqiTI6f71c+nKVtBNJOtIJqptRUCzC6qAfbw4UPZtGmT5hFGiUQioy8vnOhZsIqKitEAC4VCHp7wNwgw1LKq6ZLMSfF+r/mr6+XUhUH182nLVhDNZCuIZmpthQCzi1qADQwMyIIFC2RgYEDrCE8QCoVGw6qkpGTcrwuHw6Nfp3UrIgGGGn5XH0l52cYraxrkbGRY/Xx+kK0gmslWEM3U2goBZpdnFi1aJA8fPvT0m5aXl8vs2bN9E18ij97fFQwGJT8/3/gZsIm+DiBb+OWXX+THpssp46vw7UYZvOnt7w8AAAAAl3mmrKxMZs2aJVVVVda/WWtrqzz33HOyYMECefDgQfp/wYeUlpaqvwcMwCt++eUX2d3QlTK+/uP9Zond+S/tIwIAAAA4xTMijz7jq6ioSGbNmiWbN2+WwcHBjH2Dhw8fSlVVlTz33HMye/ZsaWxszNjfrUFeXp4EAgEpLi7WPgqAVX755RfZVZv6ZYd//eig3L7/39pHBAAAAHCOJ94DFg6HpaioSGbMmCGzZs2SRYsWSVVVlbS2thq/TLG7u1uamppk06ZNMnv2bJk5c6bMnj1bKisrrfwAXjL2fWJ8Dhhms/F4Qj758WzK+PrbRwelt/+2+hn9KFtBNJOtIJqptRXeA2aXlJdwJBIJKSsrk2AwKDNmzJCZM2eOOmvWLJk9e/YTzpo164mvmTFjhjz33HNSUlIiXV1dXv9MVkgkEqPPfmm/94sAQ5vG4wn5+Pv2lPFVvPGw9EfvqJ/Rr7IVRDPZCqKZWlshwOxidAtia2urVFZWysaNG2XhwoVSVFQkwWBQgsGgFBUVSVFRkZSUlEh5ebm0trY6+/6uiSguLla9en4sBBjaMhZPyKbvzqSMr0WbD0t/9K76Gf0sW0E0k60gmqm1FQLMLk58EHM0Gh196V8mnOia+VSUlZWpXjv/NAQY2jAWT0jp7raU8fWPLS1yY4D4SidbQTSTrSCaqbUVAswuTgSYyKP3p2XKybx/6/H7vvzwzNdjCDDMtLF4Qj76JnV8Lfn4iEQHiS8T2QqimWwF0UytrRBgdnEmwDQIh8OSl5en/p6vpyHAMJPG4gnZ+O3plPG17JOjMjB4T/2MrshWEM1kK4hmam2FALMLATYOkUhE8vLyJBKJpPzzaDQ67p/ZhgDDTBmPJ2TzOO/5WvHpMRkcIr4mI1tBNJOtIJqptRUCzC7PdHd3y44dO2THjh3aZ/EN0WhU8vPzJwyssrIytWfGCDDMhPF4Qj7+IfVthys+PSZDw8TXZGUriGayFUQztbZCgNnlmWeffXb0+vh169Zpn0edRCIhwWAw7fvECgsL1T4LjADD6TrR53wt33aUZ76mKFtBNJOtIJqptRUCzC7PRKNRKSwslBkzZkhBQYH2edQJBoNSVlYmoVBoXEtLSyUQCKidkQDD6RiPJ+SzinMp42vp1iMyQHxNWbaCaCZbQTRTaysEmF1G3wPW2NiY8hmd2bNne3ogTQoLC42vss/Pz1c7JwGG0/HLn86Pe9shF25MT7aCaCZbQTRTaysEmF2eqaqqmvALZsyY4dFRdHl83bypxcXFamclwHCq7qq+OO7nfHHV/PRlK4hmshVEM7W2QoDZ5ZkZM2bI7NmzZfPmzdLa2pr0BTNnzlQ4FkwEAYZT8YeGrpTxtWjzYT5kOUOyFUQz2QqimVpbIcDs8kwkEpH8/HyZMWPG6GUcBQUFo0FGgPkPAgwn694Dl1PGV/HGQ8RXBmUriGayFUQztbZCgNll9D1gFRUVoyE2NsZmzpwps2fPlkWLFsmOHTuktbVVHj58qHnmnIcAw8lY29Ijc1LE1xsbDkrfjTvq58sm2QqimWwF0UytrRBgdkn6IOauri4pLy+XoqKi0RAjyvwFAYamho5fk+eX1CTF13+81yy912+rny/bZCuIZrIVRDO1tkKA2SUpwJ5mxowZUl5eLiUlJRIMBkdjLFWUzZo164koAzsQYGji4VPX5YWlyfFV+HajXLl2S/182ShbQTSTrSCaqbUVAswuaQMs1XvAurq6pLKy0ijKXnzxRamqquIZsgxCgGE6W88NSMHy2qT4em1dSLp64urny1bZCqKZbAXRTK2tEGB2MXoGzIRoNDpulD2OsTfffFMGBwenfehchwDDiTwXGZbfrapPiq+X1zRIx6UR9fNls2wF0Uy2gmim1lYIMLukDbDKysop/+Vjo+y5554bjbF0nz0GE0OA4XhGeuLyasn+pPj63ap6ORsZVj9ftstWEM1kK4hmam2FALNL2gDLJA8ePJCKigp59tlnpbm52ctvnVUQYJjKq323pOidxqT4KlhRK63nB9TPlwuyFUQz2QqimVpbIcDs4mmAjWXBggVa39p5CDB82v7oHXljw8Gk+HphaY0cPnVd/Xy5IltBNJOtIJqptRUCzC6eBVhTU5MsWLBATp48KSIE2HQgwHCsA0P35M0tLUnxNWdxtdQfvap+vlySrSCayVYQzdTaCgFmF88CLBgMjl5V39TUJEVFRV5966yDAMPHDo/cl9WfH0+Kr39bXC2VTZfUz5drshVEM9kKoplaWyHA7OJZgIVCodFbEQsKCuTBgwfp/yVICQGGN28+kHg8IR9+05YyvnZWX1Q/Xy7KVhDNZCuIZmpthQCzi+fvASO8pg8BhjdvPpDtey+kjK9te85KPJ5QP18uylYQzWQriGZqbYUAs4vaJRwwdQgwrGy6lDK+3t95SmLEl5psBdFMtoJoptZWCDC7EGAOQoDlto0nrsmcJcnxtfLTYzI8cl/9fLksW0E0k60gmqm1FQLMLgSYgxBguWv4XFSCy2uT4us/Sw9JdPCu+vlyXbaCaCZbQTRTaysEmF0IMAchwHLTC90jMn91fVJ8Fb3TKFev31Y/H7IVRFPZCqKZWlshwOxCgDkIAZZ79vTdktfXh5Li6/dvNUjn5Zj6+fCRbAXRTLaCaKbWVggwuxBgDkKA5ZYDg/fkP0sPJcVXwYpaOXVhUP18+JtsBdFMtoJoptZWCDC7EGAOQoDljrFYQtZ8cSIpvp5fUiMHT/apnw+flK0gmslWEM3U2goBZhcCzEEIsNxx6w/tKa+b33vgsvrZMFm2gmgmW0E0U2srBJhdCDAHIcBywx8aulLG15c/nVc/G6aWrSCayVYQzdTaCgFmFwLMQQiw7LfpxDWZkyK+3ilv5YOWfSxbQTSTrSCaqbUVAswuBJiDEGDZbVvHoBSsSP6sr39saZGh4Xvq58PxZSuIZrIVRDO1tkKA2YUAcxACLHu9dPWmvFqyPym+/vhuk/TduKN+PpxYtoJoJltBNFNrKwSYXQgwByHAstPo4F15Y8PB1J/1dYXP+nJBtoJoJltBNFNrKwSYXQgwByHAss9YPCElXyZfNz93Wa2Ez0XVz4dmshVEM9kKoplaWyHA7EKAOQgBln1+UXU+5Y2HdUeuqp8NzWUriGayFUQztbZCgNmFAHMQAiy73HfoSsr4Kvv5gvrZcHKyFUQz2QqimVpbIcDsQoA5CAGWPbaeG5C5y2qS4uvtMq6bd1G2gmgmW0E0U2srBJhdCDAHIcCyw+6rcXl5TUNSfP299JAMDHHdvIuyFUQz2QqimVpbIcDsQoA5CAHmvjcG7sobGw4kxde/r90vV67dUj8fTk22gmgmW0E0U2srBJhdCDAHIcDcdrwbDwuW10pbx6D6+XDqshVEM9kKoplaWyHA7EKAOQgB5rY7/tmR8tKNhmO96mfD6clWEM1kK4hmam2FALMLAeYgBJi7NoWvpYyvHf/sUD8bTl+2gmgmW0E0U2srBJhdCDAHIcDc9EL3iLy0si4pvtZ9FZY4Nx5mhWwF0Uy2gmim1lYIMLsQYA5CgLlnf/SO/PHdpqT4+suGAxIdvKt+PsyMbAXRTLaCaKbWVggwuxBgDkKAuWUslpBVnx1Piq/5q+slciWmfj7MnGwF0Uy2gmim1lYIMLsQYA5CgLnllz+dT4qvOUuq5XDbdfWzYWZlK4hmshVEM7W2QoDZhQBzEALMHRuO9aa8dOPbuoj62TDzshVEM9kKoplaWyHA7EKAOQgB5obnu0fkxRXJl268t+Mkl25kqWwF0Uy2gmim1lYIMLsQYA5CgPnfGwN35U/vNyfF198+OigDQ/fUz4d2ZCuIZrIVRDO1tkKA2YUAcxACzN/G4wlZ/1U4Kb5+/1aDdF+Nq58P7clWEM1kK4hmam2FALMLAeYgBJi//a4+knzpxmIu3cgF2QqimWwF0UytrRBgdiHAHIQA86/H22/I80tqkgJsZ/VF9bOhfdkKoplsBdFMra0QYHYhwByEAPOnPX235NWS/UnxteaLExLj0o2ckK0gmslWEM3U2goBZhcCzEEIMP85PHJf/rGlJSm+it5plP7oHfXzoTeyFUQz2QqimVpbIcDsQoA5CAHmP7ftOZsUX8HltdLeOaR+NvROtoJoJltBNFNrKwSYXQgwByHA/GXTiWspP2x536Er6mdDb2UriGayFUQztbZCgNmFAHMQAsw/dvfE5Xer6pPia9N3Z9TPht7LVhDNZCuIZmpthQCzCwGWgkQiIaWlpRIMBp+wtLRUEomE9vEIMJ84PHJfijceToqvv5cekqHh++rnQ+9lK4hmshVEM7W2QoDZhQB7inA4LMFgUMLhcNI/DwQCEggEkv7Mawgwf5jqfV/zVtVLpIcPW85V2QqimWwF0UytrRBgdiHAxhCNRiUYDI775xUVFaMRFo1GPTzZkxBg+jaO876v0PFe9bOhnmwF0Uy2gmim1lYIMLsQYGMoLS2VQCAgxcXFKf88kUiMBlhpaanHp/sNAkzXrnHe97X1h3b1s6GubAXRTLaCaKbWVggwuxBgYygsLEz7DNfjP5/omTLbEGB6Pnrf1yHe94UpZSuIZrIVRDO1tkKA2YUAG0MoFJK8vLxxnwET+S3AJvoa2xBgen7yI+/7wvFlK4hmshVEM7W2QoDZhQCbBJFIZDTAKioqtI8DHnO6ayTl+77CHUPaRwMAAAAARyDAJsHj94jl5+drHwU85k7i/5VXSvYnxddX+y5qHw0AAAAAHIIAMyQajUogEJC8vDyJRCLaxwEP+b//+0XWfBlOiq9FW1rkf/+/f2kfDwAAAAAcggBLQyKRkHA4LPn5+VJYWKh6/fxjeA+Yt+6u7UyKrxdX1Enn5Zj62dBf5vpWEE1lK4hmam2F94DZhQAbh1AoJIWFhRIMBiUQCEhhYaFvnvkiwLyzrWNQXlhakxRg/zx4Rf1s6D9zeSuIk5GtIJqptRUCzC4EmCHhcFjy8vIkPz9fPcQIMG+8MXBXFrzTlBRf75S3SjyeUD8f+s9c3QriZGUriGZqbYUAswsBNgkevw8sEAhIKBRSOwcB5o0f7DqVFF+FbzdKf/SuV2TQKQAAGoZJREFU+tnQn+bqVhAnK1tBNFNrKwSYXZwIsLHhkwlLSkqmfJbHH9acl5cniUQigz+lOQSYfWtbepLi6/klNXLy/ID62dC/5uJWEKciW0E0U2srBJhdnAgwkUcvAcyU07lIo6ysbDTkysrKMvgTmkOA2bW7Jy4vraxLCrCd1RfVz4b+Nte2gjhV2QqimVpbIcDs4kyA2SYSiUh+fr4Eg8EJAy0UCo0GWHFxsYcn/A0CzJ6xWEIWb2lJiq+lW49ILMb7vnBic2kriNORrSCaqbUVAswuBNivlJSUjIZVaWnpuF839hkwAiz7THXl/PzV9XK596b62dD/5tJWEKcjW0E0U2srBJhdCLBfKS0tHQ2rcDg87teNDbWKigoPT/gbBJgd2zuHUl45v/9Yr/rZ0A1zZSuI05WtIJqptRUCzC4E2K9EIhHJy8tL+/6wx58Llp+f79HJkiHAMu/Q8D35y4YDSfH1wa5T6mdDd8yFrSBmQraCaKbWVggwuxBgYygtLZ3whsSx7//S/CwwAizzbttzNim+Xl8f4sp5nJS5sBXETMhWEM3U2goBZhcC7ClKS0slGAwmfc5XRUXF6PXzE71E0QsIsMx69HR/UnzNWVwtx9tvqJ8N3TLbt4KYKdkKoplaWyHA7EKApSAajUpJSYkEg0HJz8+XvLw8CQaDE17O4SUEWObsj96RP6wPJQXYZxXn1M+G7pnNW0HMpGwF0UytrRBgdiHAHIQAy5zv7zyZFF9vbDggQ8P31c+G7pnNW0HMpGwF0UytrRBgdiHAHIQAy4z7j/UmxdfcZTVyNjKsfjZ002zdCmKmZSuIZmpthQCzCwHmIATY9O29flt+/1ZDUoB9WxdRPxu6azZuBdGGbAXRTK2tEGB2IcAchACbvuu/CifF1+KPj0gsllA/G7prNm4F0YZsBdFMra0QYHYhwByEAJue9UevJsXXiyvqJNITVz8bum22bQXRlmwF0UytrRBgdiHAHIQAm7pXx3npYWVjt/rZ0H2zaSuINmUriGZqbYUAswsB5iAE2NSMxxOydnvySw+XfXJUYnFeeojTN1u2gmhbtoJoptZWCDC7EGAOQoBNzdojPckvPVxZJ9289BAzZLZsBdG2bAXRTK2tEGB2IcAchACbvD19t2T+6vqkAKtqvqR+Nswes2EriF7IVhDN1NoKAWYXAsxBCLDJGY8nZM0XJ5Lia8W2oxLnpYeYQV3fCqJXshVEM7W2QoDZhQBzEAJscta0JL/08KWVdXLp6k31s2F26fpWEL2SrSCaqbUVAswuBJiDEGDm9vanvvVw74HL6mfD7NPlrSB6KVtBNFNrKwSYXQgwByHAzH13x8mk+Fr56TFeeohWdHkriF7KVhDN1NoKAWYXAsxBCDAzD7T2pbz1kJceoi1d3Qqi17IVRDO1tkKA2YUAcxACLL03Bu7Ka+tCSQG2J8QHLqM9XdwKooZsBdFMra0QYHYhwByEAEvv5u/PJMXXm5tb+MBltKqLW0HUkK0gmqm1FQLMLgSYgxBgE3vibDQpvuYuq5EL3SPqZ8Ps1rWtIGrJVhDN1NoKAWYXAsxBCLDxHRq+J//xXnNSgO3Y16F+Nsx+XdoKoqZsBdFMra0QYHYhwByEABvf7XvPJ8XXXzYckOGR++pnw+zXpa0gaspWEM3U2goBZhcCzEEIsNS2dw7JC0trnoivOUuq5dSFQfWzYW7oylYQtWUriGZqbYUAswsB5iAEWLKxWEKKNx5OevZr256z6mfD3NGFrSD6QbaCaKbWVggwuxBgDkKAJVvZ2J0UX4VvN8rA4D31s2Hu6MJWEP0gW0E0U2srBJhdCDAHIcCe9GrfLZm3qj4pwFra+tXPhrml37eC6BfZCqKZWlshwOxCgDkIAfak7+44mRRf7+44qX4uzD39vhVEv8hWEM3U2goBZhcCzEEIsN883HY9Kb7mraqXq3231M+Guaeft4LoJ9kKoplaWyHA7EKAOQgB9sjBoXuy4J2mpACrbOxWPxvmpn7dCqLfZCuIZmpthQCzCwHmIATYI7/aeyEpvhZuOiyxeEL9bJib+nUriH6TrSCaqbUVAswuBJiDEGAPpOPSSNJnfj2/pEbaO4fUz4a5qx+3guhH2QqimVpbIcDsQoA5SK4HWDyekKVbj/CZX+g7/bYVRL/KVhDN1NoKAWYXAsxBcj3Aqg9fSYqv19aFJDp4V/1smNv6bSuIfpWtIJqptRUCzC4EmIPkcoD1R+/IK2sakgKs8cQ19bMh+mkriH6WrSCaqbUVAswuBJiD5HKAbf2xPSm+1nxxQv1ciDdv+msriH6WrSCaqbUVAswuBJiD5GqAnYsMy/NLnrx4o2B5rXRfjav/gkS8edM/W0H0u2wF0UytrRBgdiHAHCQXAyweT8jij5Mv3ti5r0P9lyPiY/2wFUQXZCuIZmpthQCzCwHmILkYYLVHepLiq+idRhkavqf+yxHxsX7YCqILshVEM7W2QoDZhQBzkFwLsBsDd+Xf1+5PCrDm1j71X4yIY9XeCqIrshVEM7W2QoDZhQBzkFwLsM8qzyXF11ufH1f/pYj4tNpbQXRFtoJoptZWCDC7EGAOkksB1nFpRF5Y+uTFG3OX1UjkSkz9lyLi02puBdEl2QqimVpbIcDsQoA5SK4EWDyekOXbjiY9+7V97wX1X4iIqdTaCqJrshVEM7W2QoDZhQBzkFwJsP3HepPi6/X1IRkY4uIN9KdaW0F0TbaCaKbWVggwuxBgDpILATY4dE9eXx9KCrDQ8V71X4aI46mxFUQXZSuIZmpthQCzCwHmILkQYDv3dSTF14ptRyUeT6j/MkQcT42tILooW0E0U2srBJhdCDAHyfYAu3LtlhSsqH0ivl5YWiMdl0bUfxEiTqTXW0F0VbaCaKbWVggwuxBgDpLtAbZh16mkZ78++fGs+i9BxHR6vRVEV2UriGZqbYUAswsB5iDZHGBtHYNJ8TV/db1cj95R/yWImE4vt4LosmwF0UytrRBgdiHAHCRbAyweT8ibW1qSAmxPqFv9FyCiiV5tBdF12QqimVpbIcDsQoA5SLYGWP3Rq0nx9ecPDshI7L76L0BEE73aCqLrshVEM7W2QoDZhQBzkGwMsEfXzjcmBdjhU9fVf/khmurFVhCzQbaCaKbWVggwuxBgDpKNAbar+mJSfK3+/Lj6Lz7EyejFVhCzQbaCaKbWVggwuxBgDpJtAdbTd0teXFHHtfPovLa3gpgtshVEM7W2QoDZhQCbBOFwWILBoPYxsi7ANnydfO381h/b1X/pIU5W21tBzBbZCqKZWlshwOxCgE2C/Px8yc/P1z5GVgXYmYtDMifFtfN9N7h2Ht3T5lYQs0m2gmim1lYIMLsQYIaUlpZKIBAgwDL8d6/YdpRr5zFrtLkVxGySrSCaqbUVAswuBJgBkUhE8vPzCTDJ7PgPt11Piq//eK9Zhke4dh7d1NZWELNNtoJoptZWCDC7EGAGFBYWSkVFBQEmmRt/LJaQv354MCnAmk5cU/9lhzhVbWwFMRtlK4hmam2FALMLAZaGsrIyCYVCEg6HCTDJ3Pj3HbqSFF//2NIi8XhC/Zcd4lS1sRXEbJStIJqptRUCzC4E2AREo1EpLi4WESHAfiUTf9/g0D35w/pQUoCdPD+g/osOcTpmeiuI2SpbQTRTaysEmF0IsAkoLi6WaDQqIv4KMNfZe6gnKb42fHNa+1gAAAAAANYhwMYhFApJWVnZ6P9NgGWGxP/zPzJ/dX3Shy4P3XyofTQAAAAAAOsQYClIJBJSWFj4xD8jwDJDeXVn0rNf23/u0D4WAAAAAIAnEGApKCkpkUgk8sQ/81OAufoesK6euLywtOaJ+HppZZ30Xr+t/hprxEyYqa0gZrtsBdFMra3wHjC7EGBPEQ6HpbS0NOU/J8CmN/53d5xMevZrZ/VF9V9uiJkyU1tBzHbZCqKZWlshwOxCgD3F0y89fAwB9oip/h1nLg4lxde/r90vA0P31H+5IWbKTGwFMRdkK4hmam2FALOLEwEWjUYlEAhkzJKSkpTfp7S0VMLhcMo/I8AeMdW/Y+Vnx5ICbO+By+q/2BAzaSa2gpgLshVEM7W2QoDZxYkAE3kUQJny8dXyY4lEIqOf+TXe9yfApjb+4+03kuLrzx8ckJHYffVfbIiZdLpbQcwV2QqimVpbIcDs4kyA2aawsFASicS4f06APWKy/248npA3t7QkBVjo+DX1X2qImXY6W0HMJdkKoplaWyHA7EKAyaNr56f6csZUz6bZxqUAO3iyLym+/l56SOLxhPovNcRMO52tIOaSbAXRTK2tEGB2IcAMKSsr4xkwmdz4Y/GE/O3Dg0kB1tLWr/4LDdGGU90KYq7JVhDN1NoKAWYXAswQAuwRk/n36o9eTYqvpVuP8OwXZq1T3QpirslWEM3U2goBZhcCzBAC7BGm/85I7L788b3mpABrPT+g/ssM0ZZT2QpiLspWEM3U2goBZhcCzIBoNCrFxcWj7/uKRCITXthhGxcC7OcDl5Pia80XJ9R/kSHadCpbQcxF2QqimVpbIcDsQoBNQElJSdpLODTwe4ANDd+TP6wPJQXY2ciw+i8yRJtOdiuIuSpbQTRTaysEmF0IMAfxe4D90NCVFF/v7jip/ksM0baT3QpirspWEM3U2goBZhcCzEH8HGDRwbvy8pqGJ+Lr+SU10nk5pv5LDNG2k9kKYi7LVhDN1NoKAWYXAsxB/BxgX9dcTHr2q3T3afVfYIheOJmtIOaybAXRTK2tEGB2IcAcxK8BdmPgrsxfXf9EfM1dViuXe2+q/wJD9ELTrSDmumwF0UytrRBgdiHAHOT/b+9eWiS7CjiAf5v6BPcb3L1YunHholyKXBBFDUgrCII24nshDVEQiYUr3xWFEIkpHyGDIOWbGKkkhkFBaz/p42K47a2u1+muufecM/f3g/9mpodUoP916l+3HrkOsH1Xv7783KvJ77xEhkpsV0TGHl0RiUuqrhhg/TLACpTjANt39Wv68R+Gv/79X8nvvESGSkxXRERXRGKTqisGWL8MsALlOMC++f3dq19fee5B8jsukSET0xUR0RWR2KTqigHWLwOsQLkNMFe/RB7nVFdE5HF0RSQuqbpigPXLACtQbgNs39Wvr37X1S8ZX051RUQeR1dE4pKqKwZYvwywAuU0wA5d/fqbq18ywhzrioj8P7oiEpdUXTHA+mWAFSinAfasq18iNznWFRH5f3RFJC6pumKA9csAK1AuA2zf1a/3uPolI86hrojIdnRFJC6pumKA9csAK1AuA8zVL5HtHOqKiGxHV0TikqorBli/DLAC5TDAXP0S2c2+rojIbnRFJC6pumKA9csAK1AOA8zVL5Hd7OuKiOxGV0TikqorBli/DLACpR5gb7z5n/C+T/5k9+rX6/9OfkclkjK3uyIi+6MrInFJ1RUDrF8GWIFSD7Dv/Hjl6pfIntzuiojsj66IxCVVVwywfhlgBUo5wN7653/D+z/1063x9e6P/SD85TXv/RLpSn1bRHKOrojEJVVXDLB+GWAFSjnAvvfzP+1c/frCt19JfgclkkO6Ut8WkZyjKyJxSdUVA6xfBliBUg2wR4/eCR/4zPNb4+tdH/1B+MNfHya/gxLJIV2pb4tIztEVkbik6ooB1i8DrECpBtiLr653rn599tnfJL9zEsklXalvi0jO0RWRuKTqigHWLwOsQCkG2DvvXIcPfv6FnQH2uz++nfzOSSSXdKW+LSI5R1dE4pKqKwZYvwywAqUYYL/6/Vs74+vT31gmv2MSySldqW+LSM7RFZG4pOqKAdYvA6xAQw+w6+vr8OEv/WJngL3y+zeT3zGJ5JSu1LdFJOfoikhcUnXFAOuXAVagoQfYgz8/3Blfz3ztpeR3SiK5pSv1bRHJOboiEpdUXTHA+mWAFWjoAfaJr/9yZ4C9/GCd/E5JJLd0pb4tIjlHV0TikqorBli/DLACDTnAXn6w+8mHH/nii8nvkERyTFfq2yKSc3RFJC6pumKA9csAK9CQA+xz3/rtzgB74TevJ79DEskxXalvi0jO0RWRuKTqigHWLwOsQEMOsGe+9tLW+PrQ5Qvh4cNN8jskkRzTlfq2iOQcXRGJS6quGGD9MsAKNOQA+9nLr92Mr/c+86Pw69+9kfzOSCTXdKW+LSI5R1dE4pKqKwZYvwywAg39IRz/eHsTnv/16+GNh+nviERyTlfq2yKSc3RFJC6pumKA9csAK1CKL2Jupb4jEsk5uiISF10RiUuqrhhg/TLACmSAieQZXRGJi66IxCVVVwywfhlgBTLARPKMrojERVdE4pKqKwZYvwywAhlgInlGV0TioisicUnVFQOsXwZYgQwwkTyjKyJx0RWRuKTqigHWLwOsQAaYSJ7RFZG46IpIXFJ1xQDrlwFWIANMJM/oikhcdEUkLqm6YoD1ywArkAEmkmd0RSQuuiISl1RdMcD6ZYAVyAATyTO6IhIXXRGJS6quGGD9MsAKZICJ5BldEYmLrojEJVVXDLB+GWAFMsBE8oyuiMRFV0TikqorBli/DLACGWAieUZXROKiKyJxSdUVA6xfBliBDDCRPKMrInHRFZG4pOqKAdYvA6xABphIntEVkbjoikhcUnXFAOuXAVYgA0wkz+iKSFx0RSQuqbpigPXLACvQ9fV1ePToncHSNeR/V6S06IpIXHRFJC6punJ9fd3Pg1hCCAYYAADAYAwwAACAgRhgAAAAAzHAAAAABmKAAQAADMQAAwAAGIgBBgAAMBADDAAAYCAGGAAAwEAMMAAAgIEYYAAAAAMxwAAAAAZigAEAAAzEAAMAABiIAQYAADAQAwwAAGAgBhgAAMBADDAAAICBGGAAAAADMcAAAAAGYoABAAAMxAADAAAYiAEGAAAwEAMMAABgIAYYAADAQAwwAACAgRhgAAAAAzHARubi4iI0TRMWi0VYrVZhs9mEEELYbDZhuVyGi4uLUNf1zZ8fslgswmw228p8Ph/ifwGeuM1mc6/f4XN7oEeU5q5dceYwNpvNJlxeXoa6rsNkMgl1XYemaQY9G/QlfwbYyDRNEyaTydEsl8uD/749fKfT6daBeejPIVebzSasVqtweXkZqqoKk8kkXF1dRf/bc3qgR5TknK44cxiT5XIZ6roO8/n85vdyuVyG2WwWJpNJmE6nYb1eH/z3zpbxMMBG5thheHFxcbKYTdOEqqoO/lxd12E2m/Vx0+GJmUwmoaqqm2fm22cq7/Kg8pwe6BGleBJdceYwBpvNJtR1fXBgtV2oqurozzhbxsEAG5mmacJyuQzL5TLM5/Mwn8+3XhZyzHK5PHnwXl1dhclk4lI3RZlOp9EPKs/tgR5Rsrt0JQRnDuPR/q4fstlsbp582DeCnC3jYoCNTNM0YbVa3fvfnnq5yHq9vrnMDqW4y4PKc3ugR5TsPgPMmcMYVFV18mcuLi5uRtjtJyGcLeNigI3MOYfhoTuNQz937HXOkJO7PKg8twd6RMmGHGC6QilWq9XNywuPDaD5fH7z+7pYLLb+ztkyLgbYyNz3MGwvbU8mk5M/275J+/adC+Qq9kHluT3QI0o31ADTFUqyWCy23tt4SPf3uvsyQGfL+BhgI3Pfw7B91ibmEnv7Ju3Ly8v73EQYXOyDynN7oEeUbqgBpiuUZLPZhOl0Guq6jr4C1v05Z8v4GGAj0x6Gq9UqNE0Tmqa5+WjSY2Vs37h5l3IfexYIchL7oPLcHugRpbvvAHPmQAiXl5d7XyrobBkfA2xkmqYJFxcXOx//2z57c+jjUds7jbquT/432gO6aZonetuhL7EPKs/tgR5RuvsMMGcOPNa+/O/276qzZXwMsJFpmubgs47tR6TuK3D7yT3KzdMo9kHluT3QI0p3nwHmzIHt94ndftLB2TI+BtjIxHzp5b7Dtf3zu5Tbl/1RitgHlef2QI8o3V0HmDMHHvegvfq17z1izpbxMcDYcuiNnJ5d4WnmChjEuesAO8WZwxi0A+nQJw86W8bHAGNL96NMu5fI29cXe4MnT6O7vgfsvj3QI0r3pAeYM4enXfsBGd2Pnb/N2TI+Bhhb2i8TvP1MzV0+Yae9zO4jTilFH5+CuK8HekTpnvQAc+bwNGvf93XqO7ecLeNjgI3EZrMJdV2Huq6Pfvt59zDsPlvTffPoKfsOU8hZ7IPKc3ugR5QutivOHMZuuVyGqqqOfi9Yy9kyPgbYSHTLeewyePflIN1ytp9WNZlMjr6puvtzxw5dyMldHlSe0wM9onT3ebLCmcPYrFarUFXVwS8hX6/XW3/nbBkfA2wk2mcZp9Pp0dJ1v6X9donbg/fYszntfyfmjaCQi7u8rOrcHugRJYvtijOHsVqv16Gu64PjK4THLxm8/XvtbBkXA2xEptPpyZ9pP6ln35sz22c0j71xs/0knmPPeEJu7jLAzu2BHlGyuz5ZcYozh6dJ+wXjp64uzWaznZ9xtoyLATYii8XiaDHbl4LUdX3wEvZsNgtVVe39+/Z7LmIOXchJ+6lQsR8scG4P9IhS3aUrzhzGZjqdhqurq7BYLA6m/cTCfZwt42GAjczV1VWYzWZbl6jX6/XNJ+g0TXPy9cPT6TRMp9Otn2v//NhBCjnqfgjAbDaL+v09twd6RInu0xVnDmMxm81u+nEqh14C6GwZDwNshNbrdWiaJlRVFaqqCnVdh6Zpoj6ppzWfz8NsNgtN04SmacJsNnNJm2K0L6M6lVPP8p/bAz0id0+iK84cnnbdD52JyakvQXa2PP0MMAAAgIEYYAAAAAMxwAAAAAZigAEAAAzEAAMAABiIAQYAADAQAwwAAGAgBhgAAMBADDAAAICBGGAAAAADMcAAAAAGYoABAAAMxAADAAAYiAEGAAAwEAMMgOI1TRMmk8lOcrFcLvfevvl8nvqmATAwAwyA4hlgAJTCAAOgeN0Btl6vb9LVHUGLxWLw29jepsViYYABjJgBBkDx2gFWVdXBn0k9wFqr1coAAxgxAwyA4hlgAJTCAAOgeAYYAKUwwAAongEGQCkMMACKZ4ABUAoDDIDiGWAAlMIAA6B4BhgApfgfCEHUq4SEIloAAAAASUVORK5CYII=\" width=\"432\">"
      ],
      "text/plain": [
       "<IPython.core.display.HTML object>"
      ]
     },
     "metadata": {},
     "output_type": "display_data"
    }
   ],
   "source": [
    "%matplotlib notebook\n",
    "import numpy as np\n",
    "import matplotlib.pyplot as plt\n",
    "import seaborn as sns # this improves the figures aesthetics\n",
    "\n",
    "from matplotlib import rc\n",
    "rc('text', usetex=True) # use latex rendering\n",
    "\n",
    "sns.set() # activate seaborn\n",
    "sns.set_context(\"talk\") # increase fonts and imporove look for a talk\n",
    "\n",
    "cd = 0.25\n",
    "g = 9.81\n",
    "v = 36\n",
    "t = 4\n",
    "\n",
    "m = np.linspace(50, 200, 100) # 100 points between 50 an 200\n",
    "fm = np.sqrt(g*m/cd)*np.tanh(np.sqrt(g*cd/m)*t) - v\n",
    "\n",
    "fig, ax = plt.subplots()\n",
    "ax.plot(m, fm)\n",
    "ax.plot(m, np.zeros_like(m))\n",
    "ax.set_xlabel(r\"$m$[kg]\")\n",
    "ax.set_ylabel(r\"$f(m)$\")\n",
    "fig.savefig(\"images/fm.png\", dpi=300, bbox_inches='tight')\n",
    "   #+END_SRC"
   ]
  },
  {
   "cell_type": "markdown",
   "metadata": {
    "slideshow": {
     "slide_type": "subslide"
    }
   },
   "source": [
    "### Exercise \n",
    "    Plot the function on your computer and find the value for the mass. How much is $f(m)$ for that value? Do you think this graphical approach is useful?\n"
   ]
  },
  {
   "cell_type": "markdown",
   "metadata": {
    "slideshow": {
     "slide_type": "slide"
    }
   },
   "source": [
    "# Bracketing methods\n",
    "\n",
    "  - This methods require that you define an interval where to find the\n",
    "    root.\n",
    "  - There could be single or multiple roots, or no root at all. \n",
    "  - The initial guess for the interval limits are such the root is\n",
    "    included. \n",
    "  - The convergence is slow but sometimes guaranteed. \n",
    "![](images/roots-brackets.png)"
   ]
  },
  {
   "cell_type": "markdown",
   "metadata": {
    "slideshow": {
     "slide_type": "subslide"
    }
   },
   "source": [
    "| Bisection | False position |\n",
    "|:---------:|:--------------:|\n",
    "| <img src=\"images/bisect-example.png\" width=\"60%\"> | <img src=\"images/false-position-basic.png\" width=\"30%\"> |"
   ]
  },
  {
   "cell_type": "markdown",
   "metadata": {
    "slideshow": {
     "slide_type": "slide"
    }
   },
   "source": [
    "# Open methods\n",
    "- These methods require only a single starting point or two starting points that do not necessarily include the root. \n",
    "- Generally, when an open method converges, it is usually much faster than a bracketing method. \n",
    "- Examples: \n",
    "  - Fixed point : $f(x) =0 \\to g(x) = x$. You need an initial guess.\n",
    "  - Newton-Raphson : N-dimensions, $f'(x_i)= \\frac{f(x_i) -0}{x_i - x_{i+1}} \\to    x_{i+1} = x_i - \\frac{f(x_i)}{f'(x_i)}. $\n",
    "  <img src=\"images/nr-basic.png\" width=40%>\n",
    "  - Other methods: Secant method, Brent's method, Higher order Newton-Raphson formulas, etc. **Use a library!** "
   ]
  },
  {
   "cell_type": "markdown",
   "metadata": {
    "slideshow": {
     "slide_type": "slide"
    }
   },
   "source": [
    "# Using `Scipy root` for one- and multi-dimensional equations\n",
    "`Scipy` offers you the `root` method to compute the root for a (system of) equations very efficiently. Please go and red the doc at\n",
    "  https://docs.scipy.org/doc/scipy/reference/generated/scipy.optimize.root.html . This works both for a single or a system of\n",
    "  equations. Actually the root method belongs to a more general optimization module (see https://docs.scipy.org/doc/scipy/reference/optimize.html). \n"
   ]
  },
  {
   "cell_type": "markdown",
   "metadata": {
    "slideshow": {
     "slide_type": "subslide"
    }
   },
   "source": [
    "## Scalar equation\n",
    "The following snippet uses the `root` method, to find the root of the equation $$e^{-x} -x = 0 $$ "
   ]
  },
  {
   "cell_type": "code",
   "execution_count": 10,
   "metadata": {
    "slideshow": {
     "slide_type": "fragment"
    }
   },
   "outputs": [
    {
     "name": "stdout",
     "output_type": "stream",
     "text": [
      "0.0\n"
     ]
    }
   ],
   "source": [
    "from scipy import optimize\n",
    "import numpy as np\n",
    "\n",
    "def fun(x):\n",
    "    return np.exp(-x) -x\n",
    "\n",
    "sol = optimize.root(fun, [0],  method='hybr')\n",
    "#print(\"Solution: \", sol.x)\n",
    "#print(\"f(x): \", fun(sol.x[0]))\n",
    "print(fun(sol.x[0]))"
   ]
  },
  {
   "cell_type": "markdown",
   "metadata": {
    "slideshow": {
     "slide_type": "subslide"
    }
   },
   "source": [
    "## Multidimensional equation (you can also use `fsolve`)\n",
    "In this case you have multiple variables functions so the method is a bit more complex. Let's solve the following expression:\n",
    "$$\\vec f(x,y) = (x + 0.5(x-y)^3 -1, 0.5(y-x)^3 + y)$$"
   ]
  },
  {
   "cell_type": "code",
   "execution_count": 14,
   "metadata": {
    "slideshow": {
     "slide_type": "fragment"
    }
   },
   "outputs": [
    {
     "name": "stdout",
     "output_type": "stream",
     "text": [
      "[-1.1102230246251565e-16, 0.0]\n"
     ]
    }
   ],
   "source": [
    "from scipy import optimize\n",
    "import numpy as np\n",
    "\n",
    "# x is a list (x[0] = x, x[1] = y)\n",
    "def fun(x):\n",
    "    return [x[0]  + 0.5 * (x[0] - x[1])**3 - 1.0, 0.5 * (x[1] - x[0])**3 + x[1]]\n",
    "\n",
    "sol = optimize.root(fun, [0, 0],  method='hybr')\n",
    "#print(\"Solution: \", sol.x)\n",
    "#print(\"f(x): \", fun(sol.x))\n",
    "print(fun(sol.x))"
   ]
  },
  {
   "cell_type": "markdown",
   "metadata": {
    "slideshow": {
     "slide_type": "slide"
    }
   },
   "source": [
    "# Using `Sympy` to find all roots\n",
    "  [Sympy](http://docs.sympy.org/latest/index.html) is a Python library for symbolic mathematics. Besides this, it\n",
    "  includes solvers to solve systems of equations finding *all roots*. For modern versions, use the function `solveset`.  \n",
    "    \n",
    "    "
   ]
  },
  {
   "cell_type": "code",
   "execution_count": 17,
   "metadata": {
    "slideshow": {
     "slide_type": "fragment"
    }
   },
   "outputs": [
    {
     "name": "stdout",
     "output_type": "stream",
     "text": [
      "{-sqrt(2), sqrt(2)}\n"
     ]
    }
   ],
   "source": [
    "# check http://scipy-lectures.org/packages/sympy.html#equation-solving\n",
    "import sympy as sym\n",
    "x, y, z = sym.symbols('x y z')\n",
    "res = sym.solveset(x**2-2 , x)\n",
    "print(res)"
   ]
  },
  {
   "cell_type": "code",
   "execution_count": 18,
   "metadata": {
    "slideshow": {
     "slide_type": "subslide"
    }
   },
   "outputs": [
    {
     "name": "stdout",
     "output_type": "stream",
     "text": [
      "{-2, 1, 2}\n"
     ]
    }
   ],
   "source": [
    "import sympy as sym\n",
    "x= sym.symbols('x')\n",
    "res = sym.solveset((x+2)*(x-1)*(x-2), x)\n",
    "print(res)\n"
   ]
  },
  {
   "cell_type": "markdown",
   "metadata": {
    "slideshow": {
     "slide_type": "slide"
    }
   },
   "source": [
    "# Exercises "
   ]
  },
  {
   "cell_type": "markdown",
   "metadata": {
    "slideshow": {
     "slide_type": "subslide"
    }
   },
   "source": [
    "## Scalar functions\n",
    "   Compute the root for the following scalar functions:\n",
    "   - $f(x) = \\sin(\\sqrt{x}) - x$, $x_0 = 0.5$   \n",
    "   - $f(x) = x^3 -6x^2 +11x - 6.1$, $x_0 = 3.5$"
   ]
  },
  {
   "cell_type": "code",
   "execution_count": null,
   "metadata": {},
   "outputs": [],
   "source": [
    "from scipy import optimize\n",
    "import numpy as np\n",
    "\n",
    "def fun(x):\n",
    "    return np.exp(-x) -x\n",
    "\n",
    "sol = optimize.root(fun, [0],  method='hybr')\n",
    "#print(\"Solution: \", sol.x)\n",
    "#print(\"f(x): \", fun(sol.x[0]))\n",
    "print(fun(sol.x[0]))"
   ]
  },
  {
   "cell_type": "markdown",
   "metadata": {
    "slideshow": {
     "slide_type": "subslide"
    }
   },
   "source": [
    "## The bungee jumping again\n",
    "   Plot the critical mass as a function of the coefficient $c_d \\in\n",
    "   {0.1, 0.15, 0.2, 0.25, 0.3, \\ldots, 0.9}$, such us the speed is $v\n",
    "   = 36$ m/s after $t = 4$ s.\n",
    "   \n",
    "   Remember that \n",
    "   $$\n",
    "   f(m) = \\sqrt{\\frac{gm}{c_d}} \\tanh \\left( {\\sqrt{\\frac{gc_d}{m}}t}\n",
    "   \\right) - v(t).\n",
    "   $$"
   ]
  },
  {
   "cell_type": "markdown",
   "metadata": {
    "slideshow": {
     "slide_type": "subslide"
    }
   },
   "source": [
    "## Intersection on 3D objects (System of equations)\n",
    "   /Ref: Kiusalaas, Numerical Methods in Engineering with Python 3,\n",
    "   Example 4.8/\n",
    "   Determine the points of intersection between the circle $x^2 + y^2\n",
    "   = 3$ and the hyperbola $xy = 1$. Start from  $x = 0.5, y = 1.5$.\n",
    "\n",
    "   The solutions are $\\pm(0.618, 1.618)$ and $\\pm(1.618,\n",
    "   0.618)$. \n",
    "   "
   ]
  },
  {
   "cell_type": "code",
   "execution_count": 20,
   "metadata": {},
   "outputs": [
    {
     "name": "stdout",
     "output_type": "stream",
     "text": [
      "[-0.61803399 -1.61803399]\n"
     ]
    }
   ],
   "source": [
    "from scipy import optimize\n",
    "import numpy as np\n",
    "\n",
    "# x is a list (x[0] = x, x[1] = y)\n",
    "def fun(x):\n",
    "    return [x[0]**2 + x[1]**2 - 3, x[0]*x[1] - 1]\n",
    "\n",
    "sol = optimize.root(fun, [-0.5, -1.5],  method='hybr')\n",
    "#print(\"Solution: \", sol.x)\n",
    "#print(\"f(x): \", fun(sol.x))\n",
    "print(sol.x)"
   ]
  },
  {
   "cell_type": "markdown",
   "metadata": {
    "slideshow": {
     "slide_type": "subslide"
    }
   },
   "source": [
    "## System of non-linear equations \n",
    "   /Ref: Kiusalaas, Numerical Methods in Engineering with Python 3,\n",
    "   Example 4.9/\n",
    "\n",
    "   Solve the following non-linear system:\n",
    "   $$ \\sin x + y^2 + \\ln z − 7 = 0 $$\n",
    "   $$3x + 2^y − z^3 + 1 = 0$$ \n",
    "   $$x+y+z−5=0$$\n",
    "   Starting from   $(1, 1, 1)$. \n",
    "\n",
    "   The solution is  $[0.59905376 , 2.3959314 , 2.00501484]$\n",
    "\n",
    "   *Note:* If you solve this using =sympy=, you will find that there\n",
    "    are infinite solutions. "
   ]
  },
  {
   "cell_type": "markdown",
   "metadata": {
    "slideshow": {
     "slide_type": "subslide"
    }
   },
   "source": [
    "## Circle from points\n",
    "   /Ref: Kiusalaas, Numerical Methods in Engineering with Python 3,\n",
    "   Exercise 4-26/ \n",
    "   The equation of a circle is $(x−a)^2+(y−b)^2 =R^2$ where $R$ is\n",
    "   the radius and $(a,b)$ are the coordinates of the center. If the\n",
    "   coordinates of three points on the circle are \n",
    "   \n",
    "   | x | 8.21 | 0.34 |  5.96 |\n",
    "   |---|---|---|---|\n",
    "   | y | 0.00 | 6.62 | −1.12 |\n",
    "   \n",
    "   determine $R, a, b$"
   ]
  },
  {
   "cell_type": "markdown",
   "metadata": {
    "slideshow": {
     "slide_type": "subslide"
    }
   },
   "source": [
    "## Multi-function, plot\n",
    "   Solve the system \n",
    "   $$y-x^3 -2x^{22} +1=0$$ \n",
    "   $$y+x^2-1=0$$\n",
    "   Plot both functions to verify graphically that you have found the\n",
    "   roots. \n",
    "   "
   ]
  },
  {
   "cell_type": "markdown",
   "metadata": {
    "slideshow": {
     "slide_type": "subslide"
    }
   },
   "source": [
    "## Multi-dimensional system\n",
    "   /E. Ward, Numerical Methods, Exercise 3-21/\n",
    "   Consider the nonlinear system\n",
    "   $$ f (x, y) = x^2 + y^2 − 25 = 0, $$\n",
    "   $$ g(x, y) = x^2 − y − 2 = 0. $$\n",
    "\n",
    "   Plot both functions. Compute the solution of the system and\n",
    "   identify graphically the solution points. \n",
    "   "
   ]
  },
  {
   "cell_type": "markdown",
   "metadata": {
    "slideshow": {
     "slide_type": "subslide"
    }
   },
   "source": [
    "## Rocket\n",
    "   The upward velocity of a rocket can be computed by the following\n",
    "   formula: $$v = u \\ln m_0 − gt m_0 −qt$$ where $v =$ upward velocity,\n",
    "   $u =$ the velocity at which fuel is expelled relative to the\n",
    "   rocket, $m_0 =$ the initial mass of the rocket at time $t = 0, q =$\n",
    "   the fuel consumption rate, and $g =$ the downward acceleration of\n",
    "   gravity (assumed constant $= 9.81$ m/s$^2$). If $u = 1800$ m/s,\n",
    "   $m_0 = 160,000$ kg, and $q = 2600$ kg/s, compute the time at which\n",
    "   $v = 750$ m/s. (Hint: $t$ is somewhere between $10$ and $50$ s.)"
   ]
  },
  {
   "cell_type": "markdown",
   "metadata": {
    "slideshow": {
     "slide_type": "subslide"
    }
   },
   "source": [
    "## Cylinder (6.16)                                                 \n",
    "   The volume of liquid V in a hollow horizontal cylinder of radius r\n",
    "   and length L is related to the depth of the liquid h by \n",
    "   V= r2cos−1 r−h −(r−h) 2rh−h2 L\n",
    "   Determine h given r = 2 m, L = 5 m3, and V = 8 m3\n",
    "   \n",
    "   Plot h as function of $r \\in [0.1, 5.6]$. \n",
    "   "
   ]
  },
  {
   "cell_type": "markdown",
   "metadata": {
    "slideshow": {
     "slide_type": "subslide"
    }
   },
   "source": [
    "## GPS - GLobal Positioning System                                 \n",
    "   E. Ward, Exercise 3-41\n",
    "   (Global positioning system project) Each time a GPS is used, a\n",
    "   system of nonlinear equations of the form $$(x−a_1)^2 +(y−b_1)^2\n",
    "   +(z−c_i)^2 =[(C(t_1 −D)]^2$$ $$(x−a_2)^2 +(y−b_2)^2 +(z−c_i)^2\n",
    "   =[(C(t_2 −D)]^2$$ $$(x−a_3)^2 +(y−b_3)^2 +(z−c_i)^2 =[(C(t_3\n",
    "   −D)]^2$$ $$(x−a_4)^2 +(y−b_4)^2 +(z−c_i)^2 =[(C(t_4 −D)]^2$$ is\n",
    "   solved for the $(x, y, z)$ coordinates of the receiver. For each\n",
    "   satellite $i$, the locations are $(a_i,b_i,c_i)$, and $t_i$ is the\n",
    "   synchronized transmission time from the satellite. Further, $C$ is\n",
    "   the speed of light, and $D$ is the difference between the\n",
    "   synchronized time of the satellite clocks and the earth-bound\n",
    "   receiver clock. While there are only two points on the intersection\n",
    "   of three spheres (one of which can be determined to be the desired\n",
    "   location), a fourth sphere (satellite) must be used to resolve the\n",
    "   inaccuracy in the clock contained in the low-cost receiver on\n",
    "   earth. Explore various ways for solving such a nonlinear\n",
    "   system. See Hofmann-Wellenhof, Lichtenegger, and Collins [2001],\n",
    "   Sauer [2006], and Strang and Borre [1997].\n",
    "   \n",
    "   "
   ]
  },
  {
   "cell_type": "code",
   "execution_count": null,
   "metadata": {},
   "outputs": [],
   "source": []
  }
 ],
 "metadata": {
  "celltoolbar": "Slideshow",
  "kernelspec": {
   "display_name": "Python 3",
   "language": "python",
   "name": "python3"
  },
  "language_info": {
   "codemirror_mode": {
    "name": "ipython",
    "version": 3
   },
   "file_extension": ".py",
   "mimetype": "text/x-python",
   "name": "python",
   "nbconvert_exporter": "python",
   "pygments_lexer": "ipython3",
   "version": "3.8.5"
  },
  "toc": {
   "base_numbering": 1,
   "nav_menu": {},
   "number_sections": true,
   "sideBar": true,
   "skip_h1_title": false,
   "title_cell": "Table of Contents",
   "title_sidebar": "Contents",
   "toc_cell": false,
   "toc_position": {},
   "toc_section_display": true,
   "toc_window_display": false
  }
 },
 "nbformat": 4,
 "nbformat_minor": 2
}
