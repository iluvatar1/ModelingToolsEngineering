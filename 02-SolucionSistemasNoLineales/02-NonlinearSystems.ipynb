{
 "cells": [
  {
   "cell_type": "markdown",
   "metadata": {
    "slideshow": {
     "slide_type": "slide"
    }
   },
   "source": [
    "# Solutions of non linear equations\n",
    "\n",
    "In this section we will learn how to solve equations of the following type\n",
    "$$x = \\sin x^2$$\n",
    "or $$x+y-\\sin(xy) = 0$$\n",
    "\n",
    "This equations are typical on real applications so efficient ways to solve and find the solutions are needed.\n",
    "\n",
    "In the following we will learn some basic methods and then jump directly to the tools given by python. \n",
    "\n",
    "- Bracketing methods\n",
    "- Open methods"
   ]
  },
  {
   "cell_type": "markdown",
   "metadata": {
    "slideshow": {
     "slide_type": "slide"
    }
   },
   "source": [
    "![](images/roots.png)"
   ]
  },
  {
   "cell_type": "markdown",
   "metadata": {
    "slideshow": {
     "slide_type": "slide"
    }
   },
   "source": [
    "## A problem example : Bunge jumping  (From Chapra 2012)\n",
    "   The velocity for a jumper is given as \n",
    "   $$\n",
    "   v(t) = \\sqrt{\\frac{gm}{c_d}} \\tanh \\left( {\\sqrt{\\frac{gc_d}{m}}t} \\right) .\n",
    "   $$\n",
    "   You need to find the critical mass $m$ such us the speed does not\n",
    "   exceed $v = 36$ m/s after $t = 4$ s, for $c_d = 0.25$ kg/m. How to\n",
    "   do it? "
   ]
  },
  {
   "cell_type": "markdown",
   "metadata": {
    "slideshow": {
     "slide_type": "fragment"
    }
   },
   "source": [
    "   Start by defining a new function, $f(m)$, such us \n",
    "   $$\n",
    "   f(m) = \\sqrt{\\frac{gm}{c_d}} \\tanh \\left( {\\sqrt{\\frac{gc_d}{m}}t}\n",
    "   \\right) - v(t).\n",
    "   $$\n",
    "   Now your problem is to find the root of the function $f(m)$"
   ]
  },
  {
   "cell_type": "markdown",
   "metadata": {
    "slideshow": {
     "slide_type": "slide"
    }
   },
   "source": [
    "# Graphical Method\n",
    "   The first approach is to plot the function $f(m)$ and find the root\n",
    "   graphically. The following snippet shows you how to do that"
   ]
  },
  {
   "cell_type": "code",
   "execution_count": 7,
   "metadata": {
    "ExecuteTime": {
     "end_time": "2021-10-13T11:47:54.502041Z",
     "start_time": "2021-10-13T11:47:53.942777Z"
    },
    "slideshow": {
     "slide_type": "subslide"
    }
   },
   "outputs": [
    {
     "data": {
      "image/png": "[encoded data removed]",
      "text/plain": [
       "<Figure size 432x288 with 1 Axes>"
      ]
     },
     "metadata": {},
     "output_type": "display_data"
    }
   ],
   "source": [
    "%matplotlib inline\n",
    "import numpy as np # used for numbers array\n",
    "import matplotlib.pyplot as plt # to plot\n",
    "import seaborn as sns # this improves the figures aesthetics\n",
    "#from matplotlib import rc\n",
    "#rc('text', usetex=True) # use latex rendering\n",
    "sns.set() # activate seaborn\n",
    "sns.set_context(\"talk\") # increase fonts and imporove look for a talk\n",
    "\n",
    "# Define some problem constants\n",
    "cd = 0.25\n",
    "g = 9.81\n",
    "v = 36\n",
    "t = 4\n",
    "\n",
    "# create array \n",
    "m = np.linspace(40, 200, 100) # 100 points between 50 an 200\n",
    "fm = np.sqrt(g*m/cd)*np.tanh(np.sqrt(g*cd/m)*t) - v # fm is the function evaluated on those 100 points!\n",
    "\n",
    "# Plot\n",
    "fig, ax = plt.subplots()\n",
    "ax.plot(m, fm)\n",
    "ax.plot(m, np.zeros_like(m))\n",
    "ax.set_xlabel(r\"$m$[kg]\")\n",
    "ax.set_ylabel(r\"$f(m)$\")\n",
    "fig.savefig(\"images/fm.png\", dpi=300, bbox_inches='tight')"
   ]
  },
  {
   "cell_type": "markdown",
   "metadata": {
    "slideshow": {
     "slide_type": "subslide"
    }
   },
   "source": [
    "### Exercise \n",
    "    Plot the function on your computer and find the value for the mass. How much is $f(m)$ for that value? Do you think this graphical approach is useful?\n"
   ]
  },
  {
   "cell_type": "markdown",
   "metadata": {
    "slideshow": {
     "slide_type": "slide"
    }
   },
   "source": [
    "# Bracketing methods\n",
    "\n",
    "  - This methods require that you define an interval where to find the\n",
    "    root.\n",
    "  - There could be single or multiple roots, or no root at all. \n",
    "  - The initial guess for the interval limits are such the root is\n",
    "    included. \n",
    "  - The convergence is slow but sometimes guaranteed. \n",
    "![](images/roots-brackets.png)"
   ]
  },
  {
   "cell_type": "markdown",
   "metadata": {
    "slideshow": {
     "slide_type": "subslide"
    }
   },
   "source": [
    "| Bisection | False position |\n",
    "|:---------:|:--------------:|\n",
    "| <img src=\"images/bisect-example.png\" width=\"60%\"> | <img src=\"images/false-position-basic.png\" width=\"30%\"> |"
   ]
  },
  {
   "cell_type": "markdown",
   "metadata": {
    "slideshow": {
     "slide_type": "slide"
    }
   },
   "source": [
    "# Open methods\n",
    "- These methods require only a single starting point or two starting points that do not necessarily include the root. \n",
    "- Generally, when an open method converges, it is usually much faster than a bracketing method. \n",
    "- Examples: \n",
    "  - Fixed point : $f(x) =0 \\to g(x) = x$. You need an initial guess.\n",
    "  - Newton-Raphson : N-dimensions, $f'(x_i)= \\frac{f(x_i) -0}{x_i - x_{i+1}} \\to    x_{i+1} = x_i - \\frac{f(x_i)}{f'(x_i)}. $\n",
    "  <img src=\"images/nr-basic.png\" width=40%>\n",
    "  - Other methods: Secant method, Brent's method, Higher order Newton-Raphson formulas, etc. **Use a library!** "
   ]
  },
  {
   "cell_type": "markdown",
   "metadata": {
    "slideshow": {
     "slide_type": "slide"
    }
   },
   "source": [
    "# Using `Scipy root` for one- and multi-dimensional equations\n",
    "`Scipy` offers you the `root` method to compute the root for a (system of) equations very efficiently. Please go and red the doc at\n",
    "  https://docs.scipy.org/doc/scipy/reference/generated/scipy.optimize.root.html . This works both for a single or a system of\n",
    "  equations. Actually the root method belongs to a more general optimization module (see https://docs.scipy.org/doc/scipy/reference/optimize.html). \n"
   ]
  },
  {
   "cell_type": "markdown",
   "metadata": {
    "slideshow": {
     "slide_type": "subslide"
    }
   },
   "source": [
    "## Scalar equation\n",
    "The following snippet uses the `root` method, to find the root of the equation $$e^{-2x} -x/3 = 0 $$ "
   ]
  },
  {
   "cell_type": "code",
   "execution_count": 11,
   "metadata": {
    "ExecuteTime": {
     "end_time": "2021-10-13T11:50:12.246265Z",
     "start_time": "2021-10-13T11:50:12.237569Z"
    },
    "slideshow": {
     "slide_type": "fragment"
    }
   },
   "outputs": [
    {
     "name": "stdout",
     "output_type": "stream",
     "text": [
      "sol =     fjac: array([[-1.]])\n",
      "     fun: array([0.])\n",
      " message: 'The solution converged.'\n",
      "    nfev: 10\n",
      "     qtf: array([-1.30701006e-13])\n",
      "       r: array([0.8108016])\n",
      "  status: 1\n",
      " success: True\n",
      "       x: array([0.71620239])\n",
      "\n",
      "fun(sol.x[0]) = 0.0\n",
      "Solution:  [0.71620239]\n"
     ]
    }
   ],
   "source": [
    "from scipy import optimize # use the optimize module\n",
    "import numpy as np # for data array\n",
    "\n",
    "# Define the function whose root we are looking for\n",
    "def fun(x):\n",
    "    return np.exp(-2*x) - x/3\n",
    "\n",
    "# Compute the root\n",
    "sol = optimize.root(fun, [0], method='hybr')\n",
    "\n",
    "# Print the solution found\n",
    "print(f\"{sol = }\")\n",
    "print(f\"\\n{fun(sol.x[0]) = }\")\n",
    "print(\"Solution: \", sol.x)\n",
    "#print(\"f(x): \", fun(sol.x[0]))\n",
    "#print(fun(sol.x[0]))"
   ]
  },
  {
   "cell_type": "code",
   "execution_count": 24,
   "metadata": {
    "ExecuteTime": {
     "end_time": "2020-08-29T17:14:55.040142Z",
     "start_time": "2020-08-29T17:14:55.025714Z"
    }
   },
   "outputs": [
    {
     "name": "stdout",
     "output_type": "stream",
     "text": [
      "    fjac: array([[-1.]])\n",
      "     fun: array([0.])\n",
      " message: 'The solution converged.'\n",
      "    nfev: 16\n",
      "     qtf: array([8.07105494e-11])\n",
      "       r: array([-0.0204557])\n",
      "  status: 1\n",
      " success: True\n",
      "       x: array([142.73763311])\n",
      "Exitoso?:  True\n",
      "Solution:  [142.73763311]\n"
     ]
    }
   ],
   "source": [
    "# Now let's implement it for the parachute problem\n",
    "from scipy import optimize\n",
    "import numpy as np\n",
    "\n",
    "cd = 0.25\n",
    "g = 9.81\n",
    "v = 36\n",
    "t = 4\n",
    "\n",
    "def fun(m):\n",
    "    return np.sqrt(g*m/cd)*np.tanh(np.sqrt(g*cd/m)*t) - v\n",
    "\n",
    "sol = optimize.root(fun, [0.1], method='hybr')\n",
    "print(sol)\n",
    "#print(fun(sol.x[0]))\n",
    "print(\"Exitoso?: \", sol.success)\n",
    "print(\"Solution: \", sol.x)"
   ]
  },
  {
   "cell_type": "markdown",
   "metadata": {
    "slideshow": {
     "slide_type": "subslide"
    }
   },
   "source": [
    "## Multidimensional equation (you can also use `fsolve`)\n",
    "In this case you have multiple variables functions so the method is a bit more complex. Let's solve the following expression:\n",
    "$$\\vec f(x,y) = (x + 0.5(x-y)^3 -1, 0.5(y-x)^3 + y)$$"
   ]
  },
  {
   "cell_type": "code",
   "execution_count": 12,
   "metadata": {
    "ExecuteTime": {
     "end_time": "2021-10-13T11:51:23.630044Z",
     "start_time": "2021-10-13T11:51:23.621425Z"
    },
    "slideshow": {
     "slide_type": "fragment"
    }
   },
   "outputs": [
    {
     "name": "stdout",
     "output_type": "stream",
     "text": [
      "Solution:  [0.8411639 0.1588361]\n",
      "f(x):  [-1.1102230246251565e-16, 0.0]\n",
      "[-1.1102230246251565e-16, 0.0]\n"
     ]
    }
   ],
   "source": [
    "from scipy import optimize\n",
    "import numpy as np\n",
    "\n",
    "# define the function\n",
    "# X is a list (X[0] = x, X[1] = y)\n",
    "def fun(X):\n",
    "    return [X[0]  + 0.5 * (X[0] - X[1])**3 - 1.0, 0.5 * (X[1] - X[0])**3 + X[1]]\n",
    "    #x, y = X\n",
    "    #return [x  + 0.5 * (x - y)**3 - 1.0, 0.5 * (y - x)**3 + y]\n",
    "\n",
    "# compute the solution\n",
    "sol = optimize.root(fun, [0, 0], method='hybr')\n",
    "\n",
    "# print\n",
    "print(\"Solution: \", sol.x)\n",
    "print(\"f(x): \", fun(sol.x))\n",
    "print(fun(sol.x))"
   ]
  },
  {
   "cell_type": "markdown",
   "metadata": {
    "slideshow": {
     "slide_type": "slide"
    }
   },
   "source": [
    "# Using `Sympy` to find all roots\n",
    "  [Sympy](http://docs.sympy.org/latest/index.html) is a Python library for symbolic mathematics. Besides this, it\n",
    "  includes solvers to solve systems of equations finding *all roots*. For modern versions, use the function `solveset`.  \n",
    "    \n",
    "    "
   ]
  },
  {
   "cell_type": "code",
   "execution_count": 13,
   "metadata": {
    "ExecuteTime": {
     "end_time": "2021-10-13T11:51:38.765581Z",
     "start_time": "2021-10-13T11:51:37.655711Z"
    },
    "slideshow": {
     "slide_type": "fragment"
    }
   },
   "outputs": [
    {
     "name": "stdout",
     "output_type": "stream",
     "text": [
      "FiniteSet(sqrt(2), -sqrt(2))\n"
     ]
    }
   ],
   "source": [
    "# check http://scipy-lectures.org/packages/sympy.html#equation-solving\n",
    "import sympy as sym\n",
    "x, y, z = sym.symbols('x y z')\n",
    "res = sym.solveset(x**2-2 , x) # x^2 - 2 = 0 -> x = +- sqrt(2)\n",
    "print(res)"
   ]
  },
  {
   "cell_type": "code",
   "execution_count": 14,
   "metadata": {
    "ExecuteTime": {
     "end_time": "2021-10-13T11:52:06.302335Z",
     "start_time": "2021-10-13T11:52:06.269330Z"
    },
    "slideshow": {
     "slide_type": "subslide"
    }
   },
   "outputs": [
    {
     "name": "stdout",
     "output_type": "stream",
     "text": [
      "FiniteSet(-2, 1, 2)\n"
     ]
    }
   ],
   "source": [
    "import sympy as sym\n",
    "x= sym.symbols('x')\n",
    "res = sym.solveset((x+2)*(x-1)*(x-2), x)\n",
    "print(res)\n"
   ]
  },
  {
   "cell_type": "markdown",
   "metadata": {
    "slideshow": {
     "slide_type": "slide"
    }
   },
   "source": [
    "# Exercises "
   ]
  },
  {
   "cell_type": "markdown",
   "metadata": {
    "slideshow": {
     "slide_type": "subslide"
    }
   },
   "source": [
    "## Scalar functions\n",
    "   Compute the root for the following scalar functions:\n",
    "   - $f(x) = \\sin(\\sqrt{x}) - x$, $x_0 = 0.5$   \n",
    "   - $f(x) = x^3 -6x^2 +11x - 6.1$, $x_0 = 3.5$"
   ]
  },
  {
   "cell_type": "code",
   "execution_count": 42,
   "metadata": {
    "ExecuteTime": {
     "end_time": "2020-08-29T17:52:29.420429Z",
     "start_time": "2020-08-29T17:52:29.407872Z"
    }
   },
   "outputs": [
    {
     "name": "stdout",
     "output_type": "stream",
     "text": [
      "0.7686488567609495\n",
      "3.0466805318046757\n",
      "1.687538997430238e-13\n"
     ]
    }
   ],
   "source": [
    "from scipy import optimize\n",
    "import numpy as np\n",
    "\n",
    "def fun1(x):\n",
    "    return np.sin(np.sqrt(x)) - x\n",
    "def fun2(x):\n",
    "    return x*x*x - 6*x*x + 11*x - 6.1\n",
    "\n",
    "sol1 = optimize.root(fun1, [0.5],  method='hybr')\n",
    "print(sol1.x[0])\n",
    "sol2 = optimize.root(fun2, [3.5],  method='hybr')\n",
    "print(sol2.x[0])\n",
    "print(fun2(sol2.x[0]))"
   ]
  },
  {
   "cell_type": "code",
   "execution_count": 40,
   "metadata": {
    "ExecuteTime": {
     "end_time": "2020-08-29T17:51:15.771669Z",
     "start_time": "2020-08-29T17:51:15.706171Z"
    }
   },
   "outputs": [
    {
     "name": "stdout",
     "output_type": "stream",
     "text": [
      "FiniteSet(1.05435072607641, 1.89896874211899, 3.0466805318046)\n"
     ]
    }
   ],
   "source": [
    "import sympy as sym\n",
    "x= sym.symbols('x')\n",
    "res = sym.solveset(x*x*x - 6*x*x + 11*x - 6.1, x)\n",
    "print(res)"
   ]
  },
  {
   "cell_type": "markdown",
   "metadata": {
    "slideshow": {
     "slide_type": "subslide"
    }
   },
   "source": [
    "## The bungee jumping again\n",
    "   Plot the critical mass as a function of the coefficient $c_d \\in\n",
    "   {0.1, 0.15, 0.2, 0.25, 0.3, \\ldots, 0.9}$, such us the speed is $v\n",
    "   = 36$ m/s after $t = 4$ s.\n",
    "   \n",
    "   Remember that \n",
    "   $$\n",
    "   f(m) = \\sqrt{\\frac{gm}{c_d}} \\tanh \\left( {\\sqrt{\\frac{gc_d}{m}}t}\n",
    "   \\right) - v(t).\n",
    "   $$"
   ]
  },
  {
   "cell_type": "code",
   "execution_count": 45,
   "metadata": {
    "ExecuteTime": {
     "end_time": "2020-08-29T17:58:11.412696Z",
     "start_time": "2020-08-29T17:58:11.388963Z"
    }
   },
   "outputs": [
    {
     "name": "stdout",
     "output_type": "stream",
     "text": [
      "Solution:  57.095053243379716\n",
      "Solution:  85.64257986506958\n",
      "Solution:  114.19010648675963\n",
      "Solution:  142.73763310844913\n",
      "Solution:  171.28515973013913\n",
      "Solution:  285.47526621689417\n",
      "Solution:  513.8554791904179\n"
     ]
    }
   ],
   "source": [
    "from scipy import optimize\n",
    "import numpy as np\n",
    "\n",
    "g = 9.81\n",
    "v = 36\n",
    "t = 4\n",
    "CD = [0.1,0.15,0.2,0.25,0.3, 0.5, 0.9]\n",
    "\n",
    "for cd in CD: \n",
    "    def fun(m):\n",
    "        return np.sqrt(g*m/cd)*np.tanh(np.sqrt(g*cd/m)*t) - v\n",
    "    sol = optimize.root(fun, [0.1], method='hybr')\n",
    "    print(\"Solution: \", sol.x[0])\n",
    "    "
   ]
  },
  {
   "cell_type": "markdown",
   "metadata": {
    "slideshow": {
     "slide_type": "subslide"
    }
   },
   "source": [
    "## Intersection on 3D objects (System of equations)\n",
    "   /Ref: Kiusalaas, Numerical Methods in Engineering with Python 3,\n",
    "   Example 4.8/\n",
    "   Determine the points of intersection between the circle $x^2 + y^2\n",
    "   = 3$ and the hyperbola $xy = 1$. Start from  $x = 0.5, y = 1.5$.\n",
    "\n",
    "   The solutions are $\\pm(0.618, 1.618)$ and $\\pm(1.618,\n",
    "   0.618)$. \n",
    "   "
   ]
  },
  {
   "cell_type": "code",
   "execution_count": 49,
   "metadata": {
    "ExecuteTime": {
     "end_time": "2020-08-29T18:11:22.138668Z",
     "start_time": "2020-08-29T18:11:22.119315Z"
    }
   },
   "outputs": [
    {
     "name": "stdout",
     "output_type": "stream",
     "text": [
      "[-0.61803399 -1.61803399]\n"
     ]
    }
   ],
   "source": [
    "from scipy import optimize\n",
    "import numpy as np\n",
    "\n",
    "# X is a list (X[0] = x, X[1] = y)\n",
    "def fun(V):\n",
    "    return [V[0]**2 + V[1]**2 - 3, V[0]*V[1] - 1]\n",
    "\n",
    "sol = optimize.root(fun, [-0.5, -1.5],  method='hybr')\n",
    "#print(\"Solution: \", sol.x)\n",
    "#print(\"f(x): \", fun(sol.x))\n",
    "print(sol.x)"
   ]
  },
  {
   "cell_type": "markdown",
   "metadata": {
    "slideshow": {
     "slide_type": "subslide"
    }
   },
   "source": [
    "## System of non-linear equations \n",
    "   /Ref: Kiusalaas, Numerical Methods in Engineering with Python 3,\n",
    "   Example 4.9/\n",
    "\n",
    "   Solve the following non-linear system:\n",
    "   $$ \\sin x + y^2 + \\ln z − 7 = 0 $$\n",
    "   $$3x + 2^y − z^3 + 1 = 0$$ \n",
    "   $$x+y+z−5=0$$\n",
    "   Starting from   $(1, 1, 1)$. \n",
    "\n",
    "   The solution is  $[0.59905376 , 2.3959314 , 2.00501484]$\n",
    "\n",
    "   *Note:* If you solve this using =sympy=, you will find that there\n",
    "    are infinite solutions. "
   ]
  },
  {
   "cell_type": "code",
   "execution_count": 55,
   "metadata": {
    "ExecuteTime": {
     "end_time": "2020-08-29T18:16:57.469777Z",
     "start_time": "2020-08-29T18:16:57.460441Z"
    }
   },
   "outputs": [
    {
     "name": "stdout",
     "output_type": "stream",
     "text": [
      "[0.59905376 2.3959314  2.00501484]\n"
     ]
    }
   ],
   "source": [
    "from scipy import optimize\n",
    "import numpy as np\n",
    "\n",
    "# V is a list (V[0] = x, V[1] = y, V[2] = z)\n",
    "def fun(V):\n",
    "    x, y, z = V\n",
    "    return [np.sin(x) + y*y + np.log(z) - 7, \n",
    "            3*x + np.power(2, y) - z*z*z + 1,\n",
    "            x + y + z - 5]\n",
    "\n",
    "sol = optimize.root(fun, [1, 1, 1], method='hybr')\n",
    "#print(\"Solution: \", sol.x)\n",
    "#print(\"f(x): \", fun(sol.x))\n",
    "print(sol.x)"
   ]
  },
  {
   "cell_type": "markdown",
   "metadata": {
    "slideshow": {
     "slide_type": "subslide"
    }
   },
   "source": [
    "## Circle from points\n",
    "   /Ref: Kiusalaas, Numerical Methods in Engineering with Python 3,\n",
    "   Exercise 4-26/ \n",
    "   The equation of a circle is $(x−a)^2+(y−b)^2 =R^2$ where $R$ is\n",
    "   the radius and $(a,b)$ are the coordinates of the center. If the\n",
    "   coordinates of three points on the circle are \n",
    "   \n",
    "   | x | 8.21 | 0.34 |  5.96 |\n",
    "   |---|---|---|---|\n",
    "   | y | 0.00 | 6.62 | −1.12 |\n",
    "   \n",
    "   determine $R, a, b$"
   ]
  },
  {
   "cell_type": "markdown",
   "metadata": {
    "slideshow": {
     "slide_type": "subslide"
    }
   },
   "source": [
    "## Multi-function, plot\n",
    "   Solve the system \n",
    "   $$y-x^3 -2x^{22} +1=0$$ \n",
    "   $$y+x^2-1=0$$\n",
    "   Plot both functions to verify graphically that you have found the\n",
    "   roots. \n",
    "   "
   ]
  },
  {
   "cell_type": "markdown",
   "metadata": {
    "slideshow": {
     "slide_type": "subslide"
    }
   },
   "source": [
    "## Multi-dimensional system\n",
    "   /E. Ward, Numerical Methods, Exercise 3-21/\n",
    "   Consider the nonlinear system\n",
    "   $$ f (x, y) = x^2 + y^2 − 25 = 0, $$\n",
    "   $$ g(x, y) = x^2 − y − 2 = 0. $$\n",
    "\n",
    "   Plot both functions. Compute the solution of the system and\n",
    "   identify graphically the solution points. \n",
    "   "
   ]
  },
  {
   "cell_type": "markdown",
   "metadata": {
    "slideshow": {
     "slide_type": "subslide"
    }
   },
   "source": [
    "## Rocket\n",
    "   The upward velocity of a rocket can be computed by the following\n",
    "   formula: $$v = \\ln \\frac{m_0}{m_0-qt} - gt $$ where $v =$ upward velocity,\n",
    "   $u =$ the velocity at which fuel is expelled relative to the\n",
    "   rocket, $m_0 =$ the initial mass of the rocket at time $t = 0, q =$\n",
    "   the fuel consumption rate, and $g =$ the downward acceleration of\n",
    "   gravity (assumed constant $= 9.81$ m/s$^2$). If $u = 1800$ m/s,\n",
    "   $m_0 = 160,000$ kg, and $q = 2600$ kg/s, compute the time at which\n",
    "   $v = 750$ m/s. (Hint: $t$ is somewhere between $10$ and $50$ s.)"
   ]
  },
  {
   "cell_type": "markdown",
   "metadata": {
    "slideshow": {
     "slide_type": "subslide"
    }
   },
   "source": [
    "## Cylinder (6.16)                                                 \n",
    "   The volume of liquid V in a hollow horizontal cylinder of radius r\n",
    "   and length L is related to the depth of the liquid h by \n",
    "   V= r2cos−1 r−h −(r−h) 2rh−h2 L\n",
    "   Determine h given r = 2 m, L = 5 m3, and V = 8 m3\n",
    "   \n",
    "   Plot h as function of $r \\in [0.1, 5.6]$. \n",
    "   "
   ]
  },
  {
   "cell_type": "markdown",
   "metadata": {
    "slideshow": {
     "slide_type": "subslide"
    }
   },
   "source": [
    "## GPS - GLobal Positioning System                                 \n",
    "   E. Ward, Exercise 3-41\n",
    "   (Global positioning system project) Each time a GPS is used, a\n",
    "   system of nonlinear equations of the form $$(x−a_1)^2 +(y−b_1)^2\n",
    "   +(z−c_i)^2 =[(C(t_1 −D)]^2$$ $$(x−a_2)^2 +(y−b_2)^2 +(z−c_i)^2\n",
    "   =[(C(t_2 −D)]^2$$ $$(x−a_3)^2 +(y−b_3)^2 +(z−c_i)^2 =[(C(t_3\n",
    "   −D)]^2$$ $$(x−a_4)^2 +(y−b_4)^2 +(z−c_i)^2 =[(C(t_4 −D)]^2$$ is\n",
    "   solved for the $(x, y, z)$ coordinates of the receiver. For each\n",
    "   satellite $i$, the locations are $(a_i,b_i,c_i)$, and $t_i$ is the\n",
    "   synchronized transmission time from the satellite. Further, $C$ is\n",
    "   the speed of light, and $D$ is the difference between the\n",
    "   synchronized time of the satellite clocks and the earth-bound\n",
    "   receiver clock. While there are only two points on the intersection\n",
    "   of three spheres (one of which can be determined to be the desired\n",
    "   location), a fourth sphere (satellite) must be used to resolve the\n",
    "   inaccuracy in the clock contained in the low-cost receiver on\n",
    "   earth. Explore various ways for solving such a nonlinear\n",
    "   system. See Hofmann-Wellenhof, Lichtenegger, and Collins [2001],\n",
    "   Sauer [2006], and Strang and Borre [1997].\n",
    "   \n",
    "   "
   ]
  },
  {
   "cell_type": "code",
   "execution_count": null,
   "metadata": {},
   "outputs": [],
   "source": []
  }
 ],
 "metadata": {
  "celltoolbar": "Slideshow",
  "kernelspec": {
   "display_name": "Python 3",
   "language": "python",
   "name": "python3"
  },
  "language_info": {
   "codemirror_mode": {
    "name": "ipython",
    "version": 3
   },
   "file_extension": ".py",
   "mimetype": "text/x-python",
   "name": "python",
   "nbconvert_exporter": "python",
   "pygments_lexer": "ipython3",
   "version": "3.8.3"
  },
  "toc": {
   "base_numbering": 1,
   "nav_menu": {},
   "number_sections": true,
   "sideBar": true,
   "skip_h1_title": false,
   "title_cell": "Table of Contents",
   "title_sidebar": "Contents",
   "toc_cell": false,
   "toc_position": {},
   "toc_section_display": true,
   "toc_window_display": false
  },
  "varInspector": {
   "cols": {
    "lenName": 16,
    "lenType": 16,
    "lenVar": 40
   },
   "kernels_config": {
    "python": {
     "delete_cmd_postfix": "",
     "delete_cmd_prefix": "del ",
     "library": "var_list.py",
     "varRefreshCmd": "print(var_dic_list())"
    },
    "r": {
     "delete_cmd_postfix": ") ",
     "delete_cmd_prefix": "rm(",
     "library": "var_list.r",
     "varRefreshCmd": "cat(var_dic_list()) "
    }
   },
   "types_to_exclude": [
    "module",
    "function",
    "builtin_function_or_method",
    "instance",
    "_Feature"
   ],
   "window_display": false
  }
 },
 "nbformat": 4,
 "nbformat_minor": 2
}
