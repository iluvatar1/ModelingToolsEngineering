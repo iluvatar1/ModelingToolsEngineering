{
 "cells": [
  {
   "cell_type": "markdown",
   "metadata": {
    "slideshow": {
     "slide_type": "slide"
    }
   },
   "source": [
    "# Linear Systems : Matrices, Vectors, eigen systems\n",
    "In this module we will learn how to solve linear systems which are very common in engineering.\n",
    "Applications are numerous: \n",
    "- Civil, chemical, electrical, mechanical, ..., engineering\n",
    "- In biology by using linear algebra to analyze huge data sets regarding protein folding. https://math.stackexchange.com/questions/571109/any-application-of-vector-spaces-in-biology-or-biotechnology\n",
    "- In genetics to model the evolution of genes.\n",
    "- Markov chains on industrial processes with applications of matrices and eigen systems. \n",
    "- Population dynamics. \n",
    "- Perception of colors. "
   ]
  },
  {
   "cell_type": "markdown",
   "metadata": {
    "slideshow": {
     "slide_type": "subslide"
    }
   },
   "source": [
    "<img src=\"fig/Linear-Systems-Applications.png\" width=900>"
   ]
  },
  {
   "cell_type": "markdown",
   "metadata": {
    "slideshow": {
     "slide_type": "subslide"
    }
   },
   "source": [
    "<img src=\"fig/Matrices-rotations-eigenvalues.png\" width=900>\n"
   ]
  },
  {
   "cell_type": "markdown",
   "metadata": {
    "slideshow": {
     "slide_type": "subslide"
    }
   },
   "source": [
    "Ejemplos de rotaciones:\n",
    "- https://www.glowscript.org/#/user/GlowScriptDemos/folder/Examples/program/Bounce-VPython\n",
    "- https://www.glowscript.org/#/user/GlowScriptDemos/folder/Examples/program/Plot3D"
   ]
  },
  {
   "cell_type": "markdown",
   "metadata": {
    "slideshow": {
     "slide_type": "subslide"
    }
   },
   "source": [
    "<img src=\"fig/bungee-family-equ.png\" width=900>"
   ]
  },
  {
   "cell_type": "markdown",
   "metadata": {
    "slideshow": {
     "slide_type": "fragment"
    }
   },
   "source": [
    "> Write this as a linear system $A\\vec x = \\vec b$, with unknows $x_1, x_2, x_3$\n",
    "\n"
   ]
  },
  {
   "cell_type": "markdown",
   "metadata": {},
   "source": [
    "A = (k1+k2  -k2      0 \n",
    "     -k2    k2+k3   -k3 \n",
    "     0      -k3      k3) \n",
    "     \n",
    "    [[k1 + k2, -k2  , 0  ],\n",
    "     [-k2    , k2+k3, -k3],\n",
    "     [0      , -k3  , k3]]\n",
    "\n",
    "x = (x1\n",
    "     x2\n",
    "     x3)\n",
    "     \n",
    "b = (m1g\n",
    "     m2g\n",
    "     m3g)"
   ]
  },
  {
   "cell_type": "markdown",
   "metadata": {
    "slideshow": {
     "slide_type": "slide"
    }
   },
   "source": [
    "# How to index a Matrix?\n",
    "<img src=\"fig/matrix-base.png\" width=900>"
   ]
  },
  {
   "cell_type": "markdown",
   "metadata": {
    "slideshow": {
     "slide_type": "slide"
    }
   },
   "source": [
    "# Defining matrices in python"
   ]
  },
  {
   "cell_type": "markdown",
   "metadata": {
    "slideshow": {
     "slide_type": "subslide"
    }
   },
   "source": [
    "## Scipy\n",
    "See https://docs.scipy.org/doc/numpy-1.17.0/reference/generated/numpy.array.html#numpy.array\n",
    "\n"
   ]
  },
  {
   "cell_type": "code",
   "execution_count": 19,
   "metadata": {
    "ExecuteTime": {
     "end_time": "2020-09-05T16:24:20.727545Z",
     "start_time": "2020-09-05T16:24:20.718604Z"
    },
    "slideshow": {
     "slide_type": "fragment"
    }
   },
   "outputs": [
    {
     "name": "stdout",
     "output_type": "stream",
     "text": [
      "2\n",
      "Matrix : \n",
      " [[1 2]\n",
      " [3 4]]\n",
      "Matrix : \n",
      " [[1 2]\n",
      " [3 4]]\n",
      "A[1,0] : \n",
      " 3\n",
      "A[1][0] : \n",
      " 3\n"
     ]
    }
   ],
   "source": [
    "import numpy as np\n",
    "A = np.array([[1, 2],  # primera fila, indice es 0\n",
    "              [3, 4]]) # Segunda fila, indice es 1\n",
    "print(A[0][1])\n",
    "print(f\"Matrix : \\n\", A)\n",
    "#\n",
    "A = np.array([1, 2, 3, 4]).reshape(2,2)\n",
    "print(\"Matrix : \\n\", A)\n",
    "print(\"A[1,0] : \\n\", A[1,0])\n",
    "print(\"A[1][0] : \\n\", A[1][0])"
   ]
  },
  {
   "cell_type": "markdown",
   "metadata": {
    "slideshow": {
     "slide_type": "subslide"
    }
   },
   "source": [
    "## Sympy\n",
    "See https://docs.sympy.org/latest/modules/matrices/matrices.html"
   ]
  },
  {
   "cell_type": "code",
   "execution_count": 1,
   "metadata": {
    "slideshow": {
     "slide_type": "fragment"
    }
   },
   "outputs": [
    {
     "name": "stdout",
     "output_type": "stream",
     "text": [
      "Matrix([[1, 0, 4], [0, 0, 0]])\n",
      "Matrix([[1, 0, 0, 0], [0, 1, 0, 0], [0, 0, 1, 0], [0, 0, 0, 1]])\n",
      "4\n"
     ]
    }
   ],
   "source": [
    "from sympy.matrices import Matrix, eye, zeros, ones, diag\n",
    "M = Matrix([[1,0,4], [0,0,0]])\n",
    "print(M)\n",
    "print(eye(4))\n",
    "print(M[0, 2])"
   ]
  },
  {
   "cell_type": "markdown",
   "metadata": {
    "slideshow": {
     "slide_type": "slide"
    }
   },
   "source": [
    "# Matrix operations\n",
    "Add, substract, multiply, etc\n"
   ]
  },
  {
   "cell_type": "code",
   "execution_count": 22,
   "metadata": {
    "ExecuteTime": {
     "end_time": "2020-09-05T16:28:47.154588Z",
     "start_time": "2020-09-05T16:28:47.127473Z"
    },
    "slideshow": {
     "slide_type": "fragment"
    }
   },
   "outputs": [
    {
     "name": "stdout",
     "output_type": "stream",
     "text": [
      "[[ 6  1]\n",
      " [ 0 28]]\n",
      "[[ 5 -2]\n",
      " [-9 96]]\n",
      "[[ 0.2        -2.        ]\n",
      " [-1.          0.16666667]]\n",
      "0.2\n",
      "-2.0\n",
      "[[1. 1.]\n",
      " [1. 1.]]\n"
     ]
    }
   ],
   "source": [
    "import numpy as np\n",
    "a = np.array([[1, 2],[3, 4]])\n",
    "b = np.array([[5, -1], [-3, 24]])\n",
    "c = a+b # sum\n",
    "print(c)\n",
    "c = a*b # Multiplication\n",
    "print(c)\n",
    "c = a/b # divide element by element\n",
    "print(c)\n",
    "print(c.max())\n",
    "print(c.min())\n",
    "print(b/b)"
   ]
  },
  {
   "cell_type": "markdown",
   "metadata": {
    "slideshow": {
     "slide_type": "slide"
    }
   },
   "source": [
    "# Solving linear systems $A\\vec x= \\vec b$\n",
    "Solve the following system:\n",
    "<img src=\"fig/linear-example-01.png\" width=600>"
   ]
  },
  {
   "cell_type": "code",
   "execution_count": 26,
   "metadata": {
    "ExecuteTime": {
     "end_time": "2020-09-05T16:36:51.093105Z",
     "start_time": "2020-09-05T16:36:51.070207Z"
    },
    "slideshow": {
     "slide_type": "fragment"
    }
   },
   "outputs": [
    {
     "name": "stdout",
     "output_type": "stream",
     "text": [
      "Solution: \n",
      " [41.202 55.917 71.613]\n",
      "Delta:\n",
      " [-5.68434189e-13  1.13686838e-12  2.27373675e-13]\n",
      "Delta:\n",
      " [[ 5591.7  -6278.4   -784.8 ]\n",
      " [-4708.8   7700.85 -4365.45]\n",
      " [ -588.6  -3482.55  2795.85]]\n"
     ]
    }
   ],
   "source": [
    "import numpy as np\n",
    "\n",
    "A = np.array([[150, -100, 0], \n",
    "              [-100, 150, -50], \n",
    "              [0, -50, 50]])\n",
    "b = np.array([588.6, 686.7, 784.8])\n",
    "x = np.linalg.solve(A, b) # magic\n",
    "print(\"Solution: \\n\", x)\n",
    "# confirm\n",
    "print(\"Delta:\\n\", A.dot(x) - b)"
   ]
  },
  {
   "cell_type": "code",
   "execution_count": 32,
   "metadata": {
    "ExecuteTime": {
     "end_time": "2020-09-05T16:43:08.461496Z",
     "start_time": "2020-09-05T16:43:08.311563Z"
    }
   },
   "outputs": [],
   "source": [
    "import numpy as np\n",
    "\n",
    "N = 1000\n",
    "\n",
    "A = np.random.rand(N,N)\n",
    "b = np.random.rand(N)\n",
    "x = np.linalg.solve(A, b) # magic\n",
    "#print(\"Solution: \\n\", x)\n",
    "# confirm\n",
    "#print(\"Delta:\\n\", A.dot(x) - b)"
   ]
  },
  {
   "cell_type": "markdown",
   "metadata": {
    "slideshow": {
     "slide_type": "subslide"
    }
   },
   "source": [
    "## Exercise: Rewrite and solve the following system\n",
    "\n",
    "<img src=\"fig/linear-example-03.png\" width=600>"
   ]
  },
  {
   "cell_type": "code",
   "execution_count": null,
   "metadata": {
    "slideshow": {
     "slide_type": "fragment"
    }
   },
   "outputs": [],
   "source": []
  },
  {
   "cell_type": "markdown",
   "metadata": {
    "slideshow": {
     "slide_type": "subslide"
    }
   },
   "source": [
    "## Exercise: Rewrite and solve the following system\n",
    "Extra: Can yu measure the time spent in the computation? (google for timer or timeit in python)\n",
    "\n",
    "<img src=\"fig/linear-example-02.png\" width=600>"
   ]
  },
  {
   "cell_type": "code",
   "execution_count": null,
   "metadata": {
    "slideshow": {
     "slide_type": "fragment"
    }
   },
   "outputs": [],
   "source": []
  },
  {
   "cell_type": "markdown",
   "metadata": {
    "slideshow": {
     "slide_type": "subslide"
    }
   },
   "source": [
    "## Exercise: Solve and plot the following system\n",
    "\n",
    "$$ \\frac{-2.3x_1}{5} + x_2 = 1.1 $$\n",
    "$$-0.5x_1 + x_2 = 1 $$\n",
    "Plot the system of equations and check whether this solution is or\n",
    "not special.\n"
   ]
  },
  {
   "cell_type": "code",
   "execution_count": null,
   "metadata": {
    "slideshow": {
     "slide_type": "fragment"
    }
   },
   "outputs": [],
   "source": []
  },
  {
   "cell_type": "markdown",
   "metadata": {
    "slideshow": {
     "slide_type": "subslide"
    }
   },
   "source": [
    "## Exercise: Simulating temperature\n",
    "|Temperature| System of equations|\n",
    "|-|-|\n",
    "|<img src=\"fig/linear-example-04-T.png\" width=800>| <img src=\"fig/linear-example-04-T-B.png\" width=800>|"
   ]
  },
  {
   "cell_type": "code",
   "execution_count": null,
   "metadata": {
    "slideshow": {
     "slide_type": "fragment"
    }
   },
   "outputs": [],
   "source": []
  },
  {
   "cell_type": "markdown",
   "metadata": {
    "slideshow": {
     "slide_type": "slide"
    }
   },
   "source": [
    "# Computing inverse matrices\n",
    "See : https://docs.scipy.org/doc/scipy/reference/generated/scipy.linalg.inv.html#scipy.linalg.inv\n",
    "\n",
    "You can watch: https://www.youtube.com/watch?v=uQhTuRlWMxw\n",
    "\n"
   ]
  },
  {
   "cell_type": "code",
   "execution_count": 39,
   "metadata": {
    "ExecuteTime": {
     "end_time": "2020-09-05T17:11:16.144181Z",
     "start_time": "2020-09-05T17:11:16.110789Z"
    },
    "slideshow": {
     "slide_type": "fragment"
    }
   },
   "outputs": [
    {
     "name": "stdout",
     "output_type": "stream",
     "text": [
      "CPU times: user 2 µs, sys: 1 µs, total: 3 µs\n",
      "Wall time: 7.15 µs\n",
      "B : \n",
      " [[-2.   1. ]\n",
      " [ 1.5 -0.5]]\n",
      "A A^-1 : \n",
      " [[1.0000000e+00 0.0000000e+00]\n",
      " [8.8817842e-16 1.0000000e+00]]\n"
     ]
    }
   ],
   "source": [
    "%time\n",
    "from scipy import linalg\n",
    "import numpy as np\n",
    "A = np.array([[1., 2.], \n",
    "              [3., 4.]])\n",
    "B = linalg.inv(A) # magic\n",
    "print(\"B : \\n\", B)\n",
    "# verify\n",
    "print(\"A A^-1 : \\n\", A.dot(B))"
   ]
  },
  {
   "cell_type": "code",
   "execution_count": 54,
   "metadata": {
    "ExecuteTime": {
     "end_time": "2020-09-05T17:20:14.621365Z",
     "start_time": "2020-09-05T17:20:14.571632Z"
    }
   },
   "outputs": [
    {
     "name": "stdout",
     "output_type": "stream",
     "text": [
      "B : \n",
      " [[ 0.44756723 -1.14521877  1.42804181 ... -1.56132941  0.10250601\n",
      "  -1.98266296]\n",
      " [-0.10567368 -0.96711226  1.39052346 ... -1.24106902 -0.01001206\n",
      "  -1.52696587]\n",
      " [ 1.14646293  0.6486871   0.26726554 ... -0.69599977 -0.45806245\n",
      "  -1.00361999]\n",
      " ...\n",
      " [-0.07606704 -0.11952533  0.17765931 ... -0.13975646 -0.14627226\n",
      "  -0.12783145]\n",
      " [ 0.10417006 -0.11689156  0.3151257  ...  0.30797543  0.61456587\n",
      "  -0.22365001]\n",
      " [ 0.4168966  -1.5252574   2.38868665 ... -2.19771986  0.53393421\n",
      "  -3.05294665]]\n",
      "A A^-1 : \n",
      " [[ 1.00000000e+00  1.12715290e-14 -6.37682776e-14 ...  8.95667191e-16\n",
      "   1.63261600e-15  1.32194344e-14]\n",
      " [-1.30692001e-14  1.00000000e+00 -2.16945628e-15 ...  1.44342564e-14\n",
      "  -2.14333676e-15 -1.24136401e-14]\n",
      " [-1.16989664e-14  9.41447482e-15  1.00000000e+00 ...  1.26981790e-14\n",
      "   4.43242372e-16  7.15432717e-15]\n",
      " ...\n",
      " [-1.30286573e-14  1.33518689e-14 -4.82681630e-14 ...  1.00000000e+00\n",
      "   5.51615469e-15  8.13355162e-16]\n",
      " [-1.08702008e-14  9.45616874e-15 -4.18010371e-14 ...  8.04889861e-15\n",
      "   1.00000000e+00  1.31722396e-14]\n",
      " [ 6.70499992e-15  1.37880765e-14 -3.98024822e-14 ...  1.41769557e-14\n",
      "   8.92466253e-15  1.00000000e+00]]\n"
     ]
    }
   ],
   "source": [
    "from scipy import linalg\n",
    "import numpy as np\n",
    "N = 100\n",
    "A = np.random.rand(N, N)\n",
    "B = linalg.inv(A) # magic\n",
    "print(\"B : \\n\", B)\n",
    "# verify\n",
    "print(\"A A^-1 : \\n\", A.dot(B))"
   ]
  },
  {
   "cell_type": "markdown",
   "metadata": {
    "slideshow": {
     "slide_type": "subslide"
    }
   },
   "source": [
    "## The condition number\n",
    "The number\n",
    "$$\\kappa = ||A|| ||A^{-1}||$$\n",
    "is called the condition number of a matrix. Ideally it is $1$. If $\\kappa$ is much\n",
    "larger than one, the matrix is ill-conditioned and the solution\n",
    "might have a lot of error.\n",
    "> Compute the condition number of the following matrix:\n",
    "   \\begin{equation}\n",
    "   A = \n",
    "   \\begin{bmatrix}\n",
    "   1.001 & 0.001\\\\\n",
    "   0.000 & 0.999\n",
    "   \\end{bmatrix}\n",
    "   \\end{equation}\n",
    "Plot the associate system to check for the result\n"
   ]
  },
  {
   "cell_type": "code",
   "execution_count": 55,
   "metadata": {
    "ExecuteTime": {
     "end_time": "2020-09-05T17:23:33.355607Z",
     "start_time": "2020-09-05T17:23:33.279680Z"
    },
    "slideshow": {
     "slide_type": "fragment"
    }
   },
   "outputs": [
    {
     "name": "stdout",
     "output_type": "stream",
     "text": [
      "kappa = 2.000005000005\n"
     ]
    }
   ],
   "source": [
    "from scipy import linalg\n",
    "import numpy as np\n",
    "A = np.array([[1.001, 0.001],\n",
    "                [0.000, 0.999]])\n",
    "kappa = linalg.norm(A)*linalg.norm(linalg.inv(A))\n",
    "print(f\"{kappa = }\")"
   ]
  },
  {
   "cell_type": "markdown",
   "metadata": {
    "slideshow": {
     "slide_type": "slide"
    }
   },
   "source": [
    "# Eigen values and eigen vectors\n",
    "The eigen-values ${\\lambda_i}$ and eigen-vectors ${x}$ of a matrix satisfy the equation \n",
    "\n",
    "$$ A\\vec x = \\lambda \\vec x $$\n",
    "\n",
    "The eigen-vectors form a basis where the matrix can be\n",
    "diagonalized. In general, computing the eigen vectors and\n",
    "aeigenvalues is hard, and they can also be complex.\n",
    "\n",
    "For a more visual introduction watch:  https://www.youtube.com/watch?v=PFDu9oVAE-g\n",
    "\n",
    "<img src=\"fig/vector-field.png\" width=700>\n",
    "REF: https://www.reddit.com/r/math/comments/b7ou6t/3blue1brown_overview_of_differential_equations/"
   ]
  },
  {
   "cell_type": "code",
   "execution_count": 60,
   "metadata": {
    "ExecuteTime": {
     "end_time": "2020-09-05T17:29:48.031729Z",
     "start_time": "2020-09-05T17:29:48.012948Z"
    },
    "slideshow": {
     "slide_type": "subslide"
    }
   },
   "outputs": [
    {
     "name": "stdout",
     "output_type": "stream",
     "text": [
      "Eigen-values:  [21.16354031+0.j -4.30600676+0.j -0.99565101+0.j  2.13811747+0.j]\n",
      "Eigen-vectors:\n",
      " [[ 0.52214026  0.8395     -0.13395285  0.33729784]\n",
      " [ 0.40138661 -0.44433929  0.90363128 -0.52754624]\n",
      " [ 0.56847945 -0.29618232 -0.37349291  0.67580022]\n",
      " [ 0.49304103 -0.1003911  -0.16127674 -0.38886912]]\n",
      "Verification:  [5.32907052e-15+0.j 1.59872116e-14+0.j 1.59872116e-14+0.j\n",
      " 1.06581410e-14+0.j]\n"
     ]
    }
   ],
   "source": [
    "# See : https://docs.scipy.org/doc/scipy/reference/generated/scipy.linalg.eig.html#scipy.linalg.eig\n",
    "import numpy as np\n",
    "from scipy import linalg\n",
    "#A = np.array([[0., -1.], [1., 0.]])\n",
    "#A = np.array([[1, 0.], [0., 2.]])\n",
    "A = np.array([[2, 5, 8, 7], [5, 2, 2, 8], [7, 5, 6, 6], [5, 4, 4, 8]])\n",
    "sol = linalg.eig(A) # magic\n",
    "print(\"Eigen-values: \", sol[0])\n",
    "print(\"Eigen-vectors:\\n\", sol[1])\n",
    "# verify\n",
    "print(\"Verification: \", A.dot(sol[1][:, 0]) - sol[0][0]*sol[1][:, 0])\n"
   ]
  },
  {
   "cell_type": "markdown",
   "metadata": {
    "slideshow": {
     "slide_type": "subslide"
    }
   },
   "source": [
    "## Exercise\n",
    "Find the eigen-values and eigen-vectors for the following system\n",
    "<img src=\"fig/eigen-exer-02.png\" width=700>"
   ]
  },
  {
   "cell_type": "code",
   "execution_count": 66,
   "metadata": {
    "ExecuteTime": {
     "end_time": "2020-09-05T17:39:52.557398Z",
     "start_time": "2020-09-05T17:39:52.530189Z"
    },
    "slideshow": {
     "slide_type": "fragment"
    }
   },
   "outputs": [
    {
     "name": "stdout",
     "output_type": "stream",
     "text": [
      "Eigen-values:  [10.+0.j  1.+0.j  5.+0.j  2.+0.j]\n",
      "Eigen-vectors:\n",
      " [[-6.32455532e-01 -7.07106781e-01  3.16227766e-01  1.66533454e-16]\n",
      " [-6.32455532e-01  7.07106781e-01  3.16227766e-01 -5.55111512e-17]\n",
      " [-3.16227766e-01 -5.81000260e-17 -6.32455532e-01 -7.07106781e-01]\n",
      " [-3.16227766e-01 -8.58556016e-17 -6.32455532e-01  7.07106781e-01]]\n",
      "Verification:  [-8.88178420e-16+0.j -4.44089210e-15+0.j -1.77635684e-15+0.j\n",
      " -2.22044605e-15+0.j]\n"
     ]
    }
   ],
   "source": [
    "import numpy as np\n",
    "from scipy import linalg\n",
    "A = np.array([[5, 4, 1, 1], \n",
    "              [4, 5, 1, 1], \n",
    "              [1, 1, 4, 2], \n",
    "              [1, 1, 2, 4]])\n",
    "sol = linalg.eig(A) # magic\n",
    "print(\"Eigen-values: \", sol[0])\n",
    "print(\"Eigen-vectors:\\n\", sol[1])\n",
    "# verify\n",
    "print(\"Verification: \", A.dot(sol[1][:, 0]) - sol[0][0]*sol[1][:, 0])\n"
   ]
  },
  {
   "cell_type": "markdown",
   "metadata": {
    "slideshow": {
     "slide_type": "slide"
    }
   },
   "source": [
    "# Problems"
   ]
  },
  {
   "cell_type": "markdown",
   "metadata": {
    "slideshow": {
     "slide_type": "subslide"
    }
   },
   "source": [
    "<img src=\"fig/problem-03.png\" width=700>"
   ]
  },
  {
   "cell_type": "code",
   "execution_count": null,
   "metadata": {
    "slideshow": {
     "slide_type": "fragment"
    }
   },
   "outputs": [],
   "source": []
  },
  {
   "cell_type": "markdown",
   "metadata": {
    "slideshow": {
     "slide_type": "subslide"
    }
   },
   "source": [
    "Let $\\vec x = (a, b)$ be a two-dimensional vector. Write a matrix that rotates the vector by 90 degrees. Use matrix multiplication to check your results. "
   ]
  },
  {
   "cell_type": "code",
   "execution_count": null,
   "metadata": {},
   "outputs": [],
   "source": []
  },
  {
   "cell_type": "markdown",
   "metadata": {
    "slideshow": {
     "slide_type": "subslide"
    }
   },
   "source": [
    "|System | Model |\n",
    "|-|-|\n",
    "|<img src=\"fig/problem-04-B.png\" width=700>|<img src=\"fig/problem-04.png\" width=700>|"
   ]
  },
  {
   "cell_type": "code",
   "execution_count": 69,
   "metadata": {
    "ExecuteTime": {
     "end_time": "2020-09-05T18:14:01.390431Z",
     "start_time": "2020-09-05T18:14:01.301088Z"
    },
    "slideshow": {
     "slide_type": "fragment"
    }
   },
   "outputs": [
    {
     "name": "stdout",
     "output_type": "stream",
     "text": [
      "[28.4 28.4 45.2 39.6 28.4]\n",
      "[ 0.00000000e+00  0.00000000e+00  5.68434189e-14 -7.10542736e-15\n",
      "  0.00000000e+00]\n"
     ]
    }
   ],
   "source": [
    "# Equations\n",
    "# Q01c01 + Q31c3 = Q15c1 + Q12c1 ---> (Q15 + Q12)c1 - Q31c3           = Q01c01\n",
    "# Q12c1 = Q25c2 + Q24c2 + Q23c2  ---> Q12c1 - (Q25 + Q24 + Q23) c2    = 0\n",
    "# Q23c2 + Q03c03 = Q31c3 + Q34c3 ---> Q23c2 - (Q31 + Q34)c3           = -Q03c03\n",
    "# Q24c2 + Q34c3 + Q54c5 = Q44c4  ---> Q24c2 + Q34c3 - Q44c4 + Q54c5 = 0\n",
    "# Q15c1 + Q25c2 = Q54c5 + Q55c5  ---> Q15c1 + Q25c2 - (Q54 + Q55)c5   = 0\n",
    "\n",
    "Q01 = 6; Q03 = 7\n",
    "Q12 = 4; Q15 = 5\n",
    "Q23 = 2; Q24 = 1; Q25 = 1\n",
    "Q31 = 3; Q34 = 6\n",
    "Q44 = 9\n",
    "Q54 = 2; Q55 = 4\n",
    "c01 = 20; c03 = 50\n",
    "\n",
    "from scipy import linalg\n",
    "import numpy as np\n",
    "A = np.array([[(Q15 + Q12), 0, - Q31, 0, 0],\n",
    "              [Q12, -(Q25 + Q24 + Q23), 0, 0, 0],\n",
    "              [0, Q23, -(Q31 + Q34), 0, 0],\n",
    "              [0, Q24, Q34, - Q44, Q54],\n",
    "              [Q15, Q25, 0, 0, -(Q54 + Q55)]])\n",
    "b = np.array([Q01*c01, 0, -Q03*c03, 0, 0])\n",
    "c = linalg.solve(A, b)\n",
    "print(c)\n",
    "# Check\n",
    "print(A.dot(c) - b)"
   ]
  },
  {
   "cell_type": "markdown",
   "metadata": {
    "slideshow": {
     "slide_type": "subslide"
    }
   },
   "source": [
    "<img src=\"fig/problem-05.png\" width=700>"
   ]
  },
  {
   "cell_type": "code",
   "execution_count": null,
   "metadata": {
    "slideshow": {
     "slide_type": "fragment"
    }
   },
   "outputs": [],
   "source": []
  },
  {
   "cell_type": "markdown",
   "metadata": {
    "slideshow": {
     "slide_type": "subslide"
    }
   },
   "source": [
    "<img src=\"fig/problem-06.png\" width=700>"
   ]
  },
  {
   "cell_type": "code",
   "execution_count": null,
   "metadata": {
    "slideshow": {
     "slide_type": "fragment"
    }
   },
   "outputs": [],
   "source": []
  },
  {
   "cell_type": "markdown",
   "metadata": {
    "slideshow": {
     "slide_type": "subslide"
    }
   },
   "source": [
    "| Statement | Table|\n",
    "|-|-|\n",
    "|<img src=\"fig/problem-07-A.png\" width=500> | <img src=\"fig/problem-07-B.png\" width=500>|"
   ]
  },
  {
   "cell_type": "code",
   "execution_count": null,
   "metadata": {
    "slideshow": {
     "slide_type": "fragment"
    }
   },
   "outputs": [],
   "source": []
  },
  {
   "cell_type": "markdown",
   "metadata": {
    "slideshow": {
     "slide_type": "subslide"
    }
   },
   "source": [
    "<img src=\"fig/problem-08.png\" width=700>"
   ]
  },
  {
   "cell_type": "code",
   "execution_count": null,
   "metadata": {
    "slideshow": {
     "slide_type": "fragment"
    }
   },
   "outputs": [],
   "source": []
  }
 ],
 "metadata": {
  "celltoolbar": "Slideshow",
  "kernelspec": {
   "display_name": "Python 3",
   "language": "python",
   "name": "python3"
  },
  "language_info": {
   "codemirror_mode": {
    "name": "ipython",
    "version": 3
   },
   "file_extension": ".py",
   "mimetype": "text/x-python",
   "name": "python",
   "nbconvert_exporter": "python",
   "pygments_lexer": "ipython3",
   "version": "3.8.3"
  },
  "toc": {
   "base_numbering": 1,
   "nav_menu": {},
   "number_sections": true,
   "sideBar": true,
   "skip_h1_title": false,
   "title_cell": "Table of Contents",
   "title_sidebar": "Contents",
   "toc_cell": false,
   "toc_position": {},
   "toc_section_display": true,
   "toc_window_display": false
  }
 },
 "nbformat": 4,
 "nbformat_minor": 2
}
