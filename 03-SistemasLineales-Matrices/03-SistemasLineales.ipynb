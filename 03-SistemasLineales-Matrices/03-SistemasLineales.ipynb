{
 "cells": [
  {
   "cell_type": "markdown",
   "metadata": {
    "slideshow": {
     "slide_type": "slide"
    }
   },
   "source": [
    "# Linear Systems : Matrices, Vectors, eigen systems\n",
    "In this module we will learn how to solve linear systems which are very common in engineering.\n",
    "Applications are numerous: \n",
    "- Civil, chemical, electrical, mechanical, ..., engineering\n",
    "- In biology by using linear algebra to analyze huge data sets regarding protein folding. https://math.stackexchange.com/questions/571109/any-application-of-vector-spaces-in-biology-or-biotechnology\n",
    "- In genetics to model the evolution of genes.\n",
    "- Markov chains on industrial processes with applications of matrices and eigen systems. \n",
    "- Population dynamics. \n",
    "- Perception of colors. "
   ]
  },
  {
   "cell_type": "markdown",
   "metadata": {
    "slideshow": {
     "slide_type": "subslide"
    }
   },
   "source": [
    "<img src=\"fig/Linear-Systems-Applications.png\" width=900>"
   ]
  },
  {
   "cell_type": "markdown",
   "metadata": {
    "slideshow": {
     "slide_type": "subslide"
    }
   },
   "source": [
    "<img src=\"fig/Matrices-rotations-eigenvalues.png\" width=900>\n"
   ]
  },
  {
   "cell_type": "markdown",
   "metadata": {
    "slideshow": {
     "slide_type": "subslide"
    }
   },
   "source": [
    "Ejemplos de rotaciones:\n",
    "- https://www.glowscript.org/#/user/GlowScriptDemos/folder/Examples/program/Bounce-VPython\n",
    "- https://www.glowscript.org/#/user/GlowScriptDemos/folder/Examples/program/Plot3D"
   ]
  },
  {
   "cell_type": "markdown",
   "metadata": {
    "slideshow": {
     "slide_type": "subslide"
    }
   },
   "source": [
    "<img src=\"fig/bungee-family-equ.png\" width=900>"
   ]
  },
  {
   "cell_type": "markdown",
   "metadata": {
    "slideshow": {
     "slide_type": "fragment"
    }
   },
   "source": [
    "> Write this as a linear system $A\\vec x = \\vec b$, with unknows $x_1, x_2, x_3$"
   ]
  },
  {
   "cell_type": "markdown",
   "metadata": {
    "slideshow": {
     "slide_type": "slide"
    }
   },
   "source": [
    "# How to index a Matrix?\n",
    "<img src=\"fig/matrix-base.png\" width=900>"
   ]
  },
  {
   "cell_type": "markdown",
   "metadata": {
    "slideshow": {
     "slide_type": "slide"
    }
   },
   "source": [
    "# Defining matrices in python"
   ]
  },
  {
   "cell_type": "markdown",
   "metadata": {
    "slideshow": {
     "slide_type": "subslide"
    }
   },
   "source": [
    "## Scipy\n",
    "See https://docs.scipy.org/doc/numpy-1.17.0/reference/generated/numpy.array.html#numpy.array\n",
    "\n"
   ]
  },
  {
   "cell_type": "code",
   "execution_count": 11,
   "metadata": {
    "slideshow": {
     "slide_type": "fragment"
    }
   },
   "outputs": [
    {
     "name": "stdout",
     "output_type": "stream",
     "text": [
      "Matrix : \n",
      " [[1 2]\n",
      " [3 4]]\n",
      "Matrix : \n",
      " [[1 2]\n",
      " [3 4]]\n",
      "a[1,0] : \n",
      " 3\n"
     ]
    }
   ],
   "source": [
    "import numpy as np\n",
    "a = np.array([[1, 2], [3, 4]])\n",
    "print(\"Matrix : \\n\", a)\n",
    "a = np.array([1, 2, 3, 4]).reshape(2,2)\n",
    "print(\"Matrix : \\n\", a)\n",
    "print(\"a[1,0] : \\n\", a[1,0])"
   ]
  },
  {
   "cell_type": "markdown",
   "metadata": {
    "slideshow": {
     "slide_type": "subslide"
    }
   },
   "source": [
    "## Sympy\n",
    "See https://docs.sympy.org/latest/modules/matrices/matrices.html"
   ]
  },
  {
   "cell_type": "code",
   "execution_count": 1,
   "metadata": {
    "slideshow": {
     "slide_type": "fragment"
    }
   },
   "outputs": [
    {
     "name": "stdout",
     "output_type": "stream",
     "text": [
      "Matrix([[1, 0, 4], [0, 0, 0]])\n",
      "Matrix([[1, 0, 0, 0], [0, 1, 0, 0], [0, 0, 1, 0], [0, 0, 0, 1]])\n",
      "4\n"
     ]
    }
   ],
   "source": [
    "from sympy.matrices import Matrix, eye, zeros, ones, diag\n",
    "M = Matrix([[1,0,4], [0,0,0]])\n",
    "print(M)\n",
    "print(eye(4))\n",
    "print(M[0, 2])"
   ]
  },
  {
   "cell_type": "markdown",
   "metadata": {
    "slideshow": {
     "slide_type": "slide"
    }
   },
   "source": [
    "# Matrix operations\n",
    "Add, substract, multiply, etc\n"
   ]
  },
  {
   "cell_type": "code",
   "execution_count": 15,
   "metadata": {
    "slideshow": {
     "slide_type": "fragment"
    }
   },
   "outputs": [
    {
     "name": "stdout",
     "output_type": "stream",
     "text": [
      "[[ 6  1]\n",
      " [ 0 28]]\n",
      "[[ 5 -2]\n",
      " [-9 96]]\n",
      "[[ 0.2        -2.        ]\n",
      " [-1.          0.16666667]]\n",
      "0.2\n",
      "-2.0\n"
     ]
    }
   ],
   "source": [
    "import numpy as np\n",
    "a = np.array([[1, 2],[3, 4]])\n",
    "b = np.array([[5, -1], [-3, 24]])\n",
    "c = a+b # sum\n",
    "print(c)\n",
    "c = a*b # Multiplication\n",
    "print(c)\n",
    "c = a/b # multiply by the inverse of b\n",
    "print(c)\n",
    "print(c.max())\n",
    "print(c.min())"
   ]
  },
  {
   "cell_type": "markdown",
   "metadata": {
    "slideshow": {
     "slide_type": "slide"
    }
   },
   "source": [
    "# Solving linear systems $A\\vec x= \\vec b$\n",
    "Solve the following system:\n",
    "<img src=\"fig/linear-example-01.png\" width=600>"
   ]
  },
  {
   "cell_type": "code",
   "execution_count": 20,
   "metadata": {
    "slideshow": {
     "slide_type": "fragment"
    }
   },
   "outputs": [
    {
     "name": "stdout",
     "output_type": "stream",
     "text": [
      "Solution: \n",
      " [41.202 55.917 71.613]\n",
      "Delta:\n",
      " [-5.68434189e-13 -2.27373675e-13  2.27373675e-13]\n"
     ]
    }
   ],
   "source": [
    "import numpy as np\n",
    "\n",
    "A = np.array([[150, -100, 0], [-100, 150, -50], [0, -50, 50]])\n",
    "b = np.array([588.6, 686.7, 784.8])\n",
    "x = np.linalg.solve(A, b) # magic\n",
    "print(\"Solution: \\n\", x)\n",
    "# confirm\n",
    "print(\"Delta:\\n\", A.dot(x) - b)"
   ]
  },
  {
   "cell_type": "markdown",
   "metadata": {
    "slideshow": {
     "slide_type": "subslide"
    }
   },
   "source": [
    "## Exercise: Rewrite and solve the following system\n",
    "\n",
    "<img src=\"fig/linear-example-03.png\" width=600>"
   ]
  },
  {
   "cell_type": "code",
   "execution_count": null,
   "metadata": {
    "slideshow": {
     "slide_type": "fragment"
    }
   },
   "outputs": [],
   "source": []
  },
  {
   "cell_type": "markdown",
   "metadata": {
    "slideshow": {
     "slide_type": "subslide"
    }
   },
   "source": [
    "## Exercise: Rewrite and solve the following system\n",
    "Extra: Can yu measure the time spent in the computation? (google for timer or timeit in python)\n",
    "\n",
    "<img src=\"fig/linear-example-02.png\" width=600>"
   ]
  },
  {
   "cell_type": "code",
   "execution_count": null,
   "metadata": {
    "slideshow": {
     "slide_type": "fragment"
    }
   },
   "outputs": [],
   "source": []
  },
  {
   "cell_type": "markdown",
   "metadata": {
    "slideshow": {
     "slide_type": "subslide"
    }
   },
   "source": [
    "## Exercise: Solve and plot the following system\n",
    "\n",
    "$$ \\frac{-2.3x_1}{5} + x_2 = 1.1 $$\n",
    "$$-0.5x_1 + x_2 = 1 $$\n",
    "Plot the system of equations and check whether this solution is or\n",
    "not special.\n"
   ]
  },
  {
   "cell_type": "code",
   "execution_count": null,
   "metadata": {
    "slideshow": {
     "slide_type": "fragment"
    }
   },
   "outputs": [],
   "source": []
  },
  {
   "cell_type": "markdown",
   "metadata": {
    "slideshow": {
     "slide_type": "subslide"
    }
   },
   "source": [
    "## Exercise: Simulating temperature\n",
    "|Temperature| System of equations|\n",
    "|-|-|\n",
    "|<img src=\"fig/linear-example-04-T.png\" width=800>| <img src=\"fig/linear-example-04-T-B.png\" width=800>|"
   ]
  },
  {
   "cell_type": "code",
   "execution_count": null,
   "metadata": {
    "slideshow": {
     "slide_type": "fragment"
    }
   },
   "outputs": [],
   "source": []
  },
  {
   "cell_type": "markdown",
   "metadata": {
    "slideshow": {
     "slide_type": "slide"
    }
   },
   "source": [
    "# Computing inverse matrices\n",
    "See : https://docs.scipy.org/doc/scipy/reference/generated/scipy.linalg.inv.html#scipy.linalg.inv\n",
    "\n",
    "You can watch: https://www.youtube.com/watch?v=uQhTuRlWMxw\n",
    "\n"
   ]
  },
  {
   "cell_type": "code",
   "execution_count": 23,
   "metadata": {
    "slideshow": {
     "slide_type": "fragment"
    }
   },
   "outputs": [
    {
     "name": "stdout",
     "output_type": "stream",
     "text": [
      "B : \n",
      " [[-2.   1. ]\n",
      " [ 1.5 -0.5]]\n",
      "B B^-1 : \n",
      " [[1.0000000e+00 0.0000000e+00]\n",
      " [8.8817842e-16 1.0000000e+00]]\n"
     ]
    }
   ],
   "source": [
    "from scipy import linalg\n",
    "import numpy as np\n",
    "A = np.array([[1., 2.], [3., 4.]])\n",
    "B = linalg.inv(A) # magic\n",
    "print(\"B : \\n\", B)\n",
    "# verify\n",
    "print(\"B B^-1 : \\n\", A.dot(B))"
   ]
  },
  {
   "cell_type": "markdown",
   "metadata": {
    "slideshow": {
     "slide_type": "subslide"
    }
   },
   "source": [
    "## The condition number\n",
    "The number\n",
    "$$\\kappa = ||A|| ||A^{-1}||$$\n",
    "is called the condition number of a matrix. Ideally it is $1$. If $\\kappa$ is much\n",
    "larger than one, the matrix is ill-conditioned and the solution\n",
    "might have a lot of error.\n",
    "> Compute the condition number of the following matrix:\n",
    "   \\begin{equation}\n",
    "   A = \n",
    "   \\begin{bmatrix}\n",
    "   1.001 & 0.001\\\\\n",
    "   0.000 & 0.999\n",
    "   \\end{bmatrix}\n",
    "   \\end{equation}\n",
    "Plot the associate system to check for the result\n"
   ]
  },
  {
   "cell_type": "code",
   "execution_count": null,
   "metadata": {
    "slideshow": {
     "slide_type": "fragment"
    }
   },
   "outputs": [],
   "source": []
  },
  {
   "cell_type": "markdown",
   "metadata": {
    "slideshow": {
     "slide_type": "slide"
    }
   },
   "source": [
    "# Eigen values and eigen vectors\n",
    "The eigen-values ${\\lambda_i}$ and eigen-vectors ${x}$ of a matrix satisfy the equation \n",
    "\n",
    "$$ A\\vec x = \\lambda \\vec x $$\n",
    "\n",
    "The eigen-vectors form a basis where the matrix can be\n",
    "diagonalized. In general, computing the eigen vectors and\n",
    "aeigenvalues is hard, and they can also be complex.\n",
    "\n",
    "For a more visual introduction watch:  https://www.youtube.com/watch?v=PFDu9oVAE-g\n",
    "\n",
    "<img src=\"fig/vector-field.png\" width=700>\n",
    "REF: https://www.reddit.com/r/math/comments/b7ou6t/3blue1brown_overview_of_differential_equations/"
   ]
  },
  {
   "cell_type": "code",
   "execution_count": 25,
   "metadata": {
    "slideshow": {
     "slide_type": "subslide"
    }
   },
   "outputs": [
    {
     "name": "stdout",
     "output_type": "stream",
     "text": [
      "Eigen-values:  [0.+1.j 0.-1.j]\n",
      "Eigen-vectors:\n",
      " [[0.70710678+0.j         0.70710678-0.j        ]\n",
      " [0.        -0.70710678j 0.        +0.70710678j]]\n",
      "Verification:  [0.+0.j 0.+0.j]\n"
     ]
    }
   ],
   "source": [
    "# See : https://docs.scipy.org/doc/scipy/reference/generated/scipy.linalg.eig.html#scipy.linalg.eig\n",
    "import numpy as np\n",
    "from scipy import linalg\n",
    "A = np.array([[0., -1.], [1., 0.]])\n",
    "#A = np.array([[1, 0.], [0., 2.]])\n",
    "#A = np.array([[2, 5, 8, 7], [5, 2, 2, 8], [7, 5, 6, 6], [5, 4, 4, 8]])\n",
    "#A = np.array([[2, 5, 8, 7], [5, 2, 2, 8], [7, 5, 6, 6], [5, 4, 4, 8]])\n",
    "sol = linalg.eig(A) # magic\n",
    "print(\"Eigen-values: \", sol[0])\n",
    "print(\"Eigen-vectors:\\n\", sol[1])\n",
    "# verify\n",
    "print(\"Verification: \", A.dot(sol[1][:, 0]) - sol[0][0]*sol[1][:, 0])\n"
   ]
  },
  {
   "cell_type": "markdown",
   "metadata": {
    "slideshow": {
     "slide_type": "subslide"
    }
   },
   "source": [
    "## Exercise\n",
    "Find the eigen-values and eigen-vectors for the following system\n",
    "<img src=\"fig/eigen-exer-02.png\" width=700>"
   ]
  },
  {
   "cell_type": "code",
   "execution_count": null,
   "metadata": {
    "slideshow": {
     "slide_type": "fragment"
    }
   },
   "outputs": [],
   "source": []
  },
  {
   "cell_type": "markdown",
   "metadata": {
    "slideshow": {
     "slide_type": "slide"
    }
   },
   "source": [
    "# Problems"
   ]
  },
  {
   "cell_type": "markdown",
   "metadata": {
    "slideshow": {
     "slide_type": "subslide"
    }
   },
   "source": [
    "<img src=\"fig/problem-03.png\" width=700>"
   ]
  },
  {
   "cell_type": "code",
   "execution_count": null,
   "metadata": {
    "slideshow": {
     "slide_type": "fragment"
    }
   },
   "outputs": [],
   "source": []
  },
  {
   "cell_type": "markdown",
   "metadata": {
    "slideshow": {
     "slide_type": "subslide"
    }
   },
   "source": [
    "Let $\\vec x = (a, b)$ be a two-dimensional vector. Write a matrix that rotates the vector by 90 degrees. Use matrix multiplication to check your results. "
   ]
  },
  {
   "cell_type": "code",
   "execution_count": null,
   "metadata": {},
   "outputs": [],
   "source": []
  },
  {
   "cell_type": "markdown",
   "metadata": {
    "slideshow": {
     "slide_type": "subslide"
    }
   },
   "source": [
    "|System | Model |\n",
    "|-|-|\n",
    "|<img src=\"fig/problem-04-B.png\" width=700>|<img src=\"fig/problem-04.png\" width=700>|"
   ]
  },
  {
   "cell_type": "code",
   "execution_count": null,
   "metadata": {
    "slideshow": {
     "slide_type": "fragment"
    }
   },
   "outputs": [],
   "source": []
  },
  {
   "cell_type": "markdown",
   "metadata": {
    "slideshow": {
     "slide_type": "subslide"
    }
   },
   "source": [
    "<img src=\"fig/problem-05.png\" width=700>"
   ]
  },
  {
   "cell_type": "code",
   "execution_count": null,
   "metadata": {
    "slideshow": {
     "slide_type": "fragment"
    }
   },
   "outputs": [],
   "source": []
  },
  {
   "cell_type": "markdown",
   "metadata": {
    "slideshow": {
     "slide_type": "subslide"
    }
   },
   "source": [
    "<img src=\"fig/problem-06.png\" width=700>"
   ]
  },
  {
   "cell_type": "code",
   "execution_count": null,
   "metadata": {
    "slideshow": {
     "slide_type": "fragment"
    }
   },
   "outputs": [],
   "source": []
  },
  {
   "cell_type": "markdown",
   "metadata": {
    "slideshow": {
     "slide_type": "subslide"
    }
   },
   "source": [
    "| Statement | Table|\n",
    "|-|-|\n",
    "|<img src=\"fig/problem-07-A.png\" width=500> | <img src=\"fig/problem-07-B.png\" width=500>|"
   ]
  },
  {
   "cell_type": "code",
   "execution_count": null,
   "metadata": {
    "slideshow": {
     "slide_type": "fragment"
    }
   },
   "outputs": [],
   "source": []
  },
  {
   "cell_type": "markdown",
   "metadata": {
    "slideshow": {
     "slide_type": "subslide"
    }
   },
   "source": [
    "<img src=\"fig/problem-08.png\" width=700>"
   ]
  },
  {
   "cell_type": "code",
   "execution_count": null,
   "metadata": {
    "slideshow": {
     "slide_type": "fragment"
    }
   },
   "outputs": [],
   "source": []
  }
 ],
 "metadata": {
  "celltoolbar": "Slideshow",
  "kernelspec": {
   "display_name": "Python 3",
   "language": "python",
   "name": "python3"
  },
  "language_info": {
   "codemirror_mode": {
    "name": "ipython",
    "version": 3
   },
   "file_extension": ".py",
   "mimetype": "text/x-python",
   "name": "python",
   "nbconvert_exporter": "python",
   "pygments_lexer": "ipython3",
   "version": "3.8.5"
  },
  "toc": {
   "base_numbering": 1,
   "nav_menu": {},
   "number_sections": true,
   "sideBar": true,
   "skip_h1_title": false,
   "title_cell": "Table of Contents",
   "title_sidebar": "Contents",
   "toc_cell": false,
   "toc_position": {},
   "toc_section_display": true,
   "toc_window_display": false
  }
 },
 "nbformat": 4,
 "nbformat_minor": 2
}
