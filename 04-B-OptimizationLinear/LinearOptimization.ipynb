{
 "cells": [
  {
   "cell_type": "markdown",
   "metadata": {},
   "source": [
    "# Linear optimization with scipy and pulp\n",
    "\n",
    "(This tutorial is heavely based on: https://realpython.com/linear-programming-python/ and https://benalexkeen.com/linear-programming-with-python-and-pulp-part-1/ . For a more detailed introductio to linear programming check the Book: Operation research Applications and Algorithms, Wiston)\n",
    "\n",
    "Linear optimization techniques are related to _linear_ problems both in the objective function and the restrictions. Of course you can solve them using the more general scipy functions like `minimize`, except for particular cases like integer binary variables. Instead, for all these linear problems, it is much better to rely of libraries optimized for these situations. \n",
    "\n",
    "Linear problems can also require integer values for some (or all variables). Those problems are called **Mixed integer programming** . A very special case is when one (or more variables) must be boolean, with values 0 or 1 only. Those **binary** problems are also  common in linear programming and are used, for instance, to decide if something must be build or not. \n",
    "\n",
    "The basic technique used in linear programming is the simplex method. An equivalent one is the interior point method. Furthermore , there are variants for other problems with bounds and restrictions, like the brand-and-bound or branch-and-cut methods. See https://en.wikipedia.org/wiki/Linear_programming  \n",
    "\n",
    "For linear problems with continuous variables, we will use scipy. But later, for integer or binary variables, we will rely on specialized external libs like [pulp](https://coin-or.github.io/pulp/). Please install it using \n",
    "```\n",
    "conda install pulp\n",
    "```\n",
    "on the anaconda prompt, or use the anaconda navigator, or just run the next cell. There are other libraries that you can use (free or paid). Some examples are [pyomo](https://pyomo.readthedocs.io/en/stable/index.html) (this one can actually inter-operate with gams), and [CVXOPT](https://cvxopt.org/userguide/intro.html) \n"
   ]
  },
  {
   "cell_type": "code",
   "execution_count": 18,
   "metadata": {
    "ExecuteTime": {
     "end_time": "2020-09-19T00:47:23.810560Z",
     "start_time": "2020-09-19T00:47:12.313676Z"
    }
   },
   "outputs": [
    {
     "name": "stdout",
     "output_type": "stream",
     "text": [
      "Collecting package metadata (current_repodata.json): done\n",
      "Solving environment: done\n",
      "\n",
      "# All requested packages already installed.\n",
      "\n"
     ]
    }
   ],
   "source": [
    "!conda install -y pulp"
   ]
  },
  {
   "cell_type": "markdown",
   "metadata": {},
   "source": [
    "## Introduction\n",
    "We will solve the following problem using scipy linear programming facilities.\n",
    "$$ \n",
    "\\text{Maximize:}\\  z = x+2y\n",
    "$$\n",
    "subject to\n",
    "\\begin{align}\n",
    "2x +y &\\le 20 \\\\\n",
    "-4x + 5y &\\le 10\\\\\n",
    "-x + 2y &\\ge -2\\\\\n",
    "x &\\ge 0\\\\\n",
    "y &\\ge 0\n",
    "\\end{align}\n",
    "In this problem $z$ is the objective function and the variables $x, y$ are called the decision variables, which are subject to several constraints. \n",
    "\n",
    "The feasible solution region, that is, the region where the solution must be according to the constraints, is \n",
    " <img src=\"fig/ex1-feasible-region.png\" alt=\"Feasible region\" width=\"500\" height=\"600\"> "
   ]
  },
  {
   "cell_type": "markdown",
   "metadata": {},
   "source": [
    "If you put an equality as restriction, then that restricts even more the feasible region and must pass through the area highlighted before.\n",
    "\n",
    "Following https://realpython.com/linear-programming-python/, we will start by solving a typical allocation problem.\n",
    "\n",
    "## Example : Resource allocation problem\n",
    "Imagine that you have a factory that produces four kinds of products. The daily amount produced, for each product, are $x_1, x_2, x_3, x_4$. The goal is to optimize the profit by finding the optimal values for daily production, under the following conditions:\n",
    "- The profit per unit are 20, 12, 40 and 25. \n",
    "- The total number of units per day cannot be larger than 50.\n",
    "- There are two raw materials available, A and B, to produce the units. The raw material used per unit is as follows:\n",
    "  - first unit : 3 units of A.\n",
    "  - second unit: 2 of A and 1 of B\n",
    "  - third unit : 1 of A and 2 of B\n",
    "  - fourth unit: 3 of B\n",
    "- Due to transportation and other constraints, raw material A cannot exceed 100 units, while raw material B cannot exceed 90 units. \n",
    "\n",
    "This way the problem can be stated as \n",
    "$$\n",
    "\\text{Maximize: } 20x_1 + 12x_2 + 40x_3 +25x_4\n",
    "$$\n",
    "subject to\n",
    "\\begin{align}\n",
    "x_1 + x_2 + x_3 + x_4 &\\le 50\\\\\n",
    "3x_1 + 2x_2 + x_3 &\\le 100\\\\\n",
    "x_2 + 2x_3 +3x_4 &\\le 90\\\\\n",
    "x_1, x_2, x_3, x_4 \\gt 0\n",
    "\\end{align}\n",
    "\n",
    "### Solution with scipy\n",
    "Let's solve it using scipy linprog:"
   ]
  },
  {
   "cell_type": "code",
   "execution_count": 24,
   "metadata": {
    "ExecuteTime": {
     "end_time": "2020-09-19T01:48:26.469554Z",
     "start_time": "2020-09-19T01:48:26.445270Z"
    }
   },
   "outputs": [
    {
     "data": {
      "text/plain": [
       "     con: array([], dtype=float64)\n",
       "     fun: -1900.0\n",
       " message: 'Optimization terminated successfully.'\n",
       "     nit: 2\n",
       "   slack: array([ 0., 40.,  0.])\n",
       "  status: 0\n",
       " success: True\n",
       "       x: array([ 5.,  0., 45.,  0.])"
      ]
     },
     "execution_count": 24,
     "metadata": {},
     "output_type": "execute_result"
    }
   ],
   "source": [
    "from scipy.optimize import linprog\n",
    "obj = [-20, -12, -40, -25] # objetive function coefficients\n",
    "# coefficients for inequalities: left hand side\n",
    "lhs_ineq = [[1, 1, 1, 1],\n",
    "           [3, 2, 1, 0],\n",
    "           [0, 1, 2, 3]]\n",
    "# coefficients for inequalities: right hand side\n",
    "rhs_ineq = [50, \n",
    "            100, \n",
    "            90]  \n",
    "# bounds\n",
    "bnd = [(0, np.inf), # x1 bounds\n",
    "       (0, np.inf), # x2 bounds\n",
    "       (0, np.inf), # x3 bounds\n",
    "       (0, np.inf)] # x4 bounds\n",
    "\n",
    "# Optimize\n",
    "opt = linprog(c = obj, A_ub = lhs_ineq, b_ub = rhs_ineq,\n",
    "              bounds=bnd, method=\"revised simplex\")\n",
    "opt"
   ]
  },
  {
   "cell_type": "code",
   "execution_count": null,
   "metadata": {},
   "outputs": [],
   "source": [
    "# Exercise : Solve the initial example and check the optimal position in the feasible region"
   ]
  },
  {
   "cell_type": "markdown",
   "metadata": {
    "ExecuteTime": {
     "end_time": "2020-09-19T01:48:42.969119Z",
     "start_time": "2020-09-19T01:48:42.956432Z"
    }
   },
   "source": [
    "### Solution with pulp\n",
    "Scipy is good for small problems but when your scale increases you might better use some other libraries that can be helpful in some particular situations like: \n",
    "- larger problems that require a more succinct syntax than matrices and vectors\n",
    "- problems with integer or binary variables\n",
    "- need to test several solvers\n",
    "\n",
    "Here, pulp allows to define the problem very easily and can handle all the restrictions stated above. The solution is as follows"
   ]
  },
  {
   "cell_type": "code",
   "execution_count": 17,
   "metadata": {
    "ExecuteTime": {
     "end_time": "2020-09-19T02:17:57.054490Z",
     "start_time": "2020-09-19T02:17:57.034802Z"
    }
   },
   "outputs": [
    {
     "name": "stdout",
     "output_type": "stream",
     "text": [
      "resource-allocation:\n",
      "MAXIMIZE\n",
      "20*x1 + 12*x2 + 40*x3 + 25*x4 + 0\n",
      "SUBJECT TO\n",
      "Capacity: x1 + x2 + x3 + x4 <= 50\n",
      "\n",
      "Raw_A: 3 x1 + 2 x2 + x3 <= 100\n",
      "\n",
      "Raw_B: x2 + 2 x3 + 3 x4 <= 90\n",
      "\n",
      "VARIABLES\n",
      "x1 Continuous\n",
      "x2 Continuous\n",
      "x3 Continuous\n",
      "x4 Continuous\n",
      "\n"
     ]
    }
   ],
   "source": [
    "from pulp import LpMaximize, LpProblem, LpStatus, lpSum, LpVariable\n",
    "\n",
    "# Create the model\n",
    "model = LpProblem(name=\"resource-allocation\", sense=LpMaximize)\n",
    "# Initialize the decision variables\n",
    "# can be x = {i: LpVariable(name=f\"x{i}\", lowBound=0) for i in range(1, 5)}\n",
    "x1 = LpVariable(name=\"x1\", lowBound=0, cat=\"Continuous\")\n",
    "x2 = LpVariable(name=\"x2\", lowBound=0, cat=\"Continuous\")\n",
    "x3 = LpVariable(name=\"x3\", lowBound=0, cat=\"Continuous\")\n",
    "x4 = LpVariable(name=\"x4\", lowBound=0, cat=\"Continuous\")\n",
    "# Add the constraints to the model\n",
    "model += (x1 + x2 + x3 + x4 <= 50, \"Capacity\")\n",
    "model += (3*x1 + 2*x2 + x3 <= 100, \"Raw A\")\n",
    "model += (x2 + 2*x3 + 3*x4 <= 90, \"Raw B\")\n",
    "# Add the objective function to the model\n",
    "obj_func = 20*x1 + 12*x2 + 40*x3 + 25*x4 # can be lpSum(20*x1, 12*x2, 40*x3, 25*x4)\n",
    "model += obj_func\n",
    "# print the system \n",
    "print(model)"
   ]
  },
  {
   "cell_type": "code",
   "execution_count": 18,
   "metadata": {
    "ExecuteTime": {
     "end_time": "2020-09-19T02:17:59.176463Z",
     "start_time": "2020-09-19T02:17:59.137266Z"
    }
   },
   "outputs": [
    {
     "name": "stdout",
     "output_type": "stream",
     "text": [
      "status: 1, Optimal\n",
      "objective: 1900.0\n",
      "x1 = 5.0\n",
      "x2 = 0.0\n",
      "x3 = 45.0\n",
      "x4 = 0.0\n",
      "Capacity: 0.0\n",
      "Raw_A: -40.0\n",
      "Raw_B: 0.0\n"
     ]
    }
   ],
   "source": [
    "# Now solve the system\n",
    "status = model.solve()\n",
    "# Get the results\n",
    "print(f\"status: {model.status}, {LpStatus[model.status]}\")\n",
    "print(f\"objective: {model.objective.value()}\")\n",
    "\n",
    "print(f\"{x1.name} = {x1.value()}\")\n",
    "print(f\"{x2.name} = {x2.value()}\")\n",
    "print(f\"{x3.name} = {x3.value()}\")\n",
    "print(f\"{x4.name} = {x4.value()}\")\n",
    "\n",
    "for name, constraint in model.constraints.items():\n",
    "    print(f\"{name}: {constraint.value()}\")"
   ]
  },
  {
   "cell_type": "markdown",
   "metadata": {},
   "source": [
    "### Extra complication: Binary (decision) variables\n",
    "Now let's assume a problem with the machinery, so now it is not possible to produce products $x_1$ and $x_2$ at the same time. That is, if $x_1$ is being produced, then $x_3$ must be zero, and viceversa. In this case we need to introduce two binary variables that will help us model this case:"
   ]
  },
  {
   "cell_type": "code",
   "execution_count": 24,
   "metadata": {
    "ExecuteTime": {
     "end_time": "2020-09-19T02:28:46.805235Z",
     "start_time": "2020-09-19T02:28:46.789551Z"
    }
   },
   "outputs": [
    {
     "name": "stdout",
     "output_type": "stream",
     "text": [
      "resource_allocation_non_parallel_production:\n",
      "MAXIMIZE\n",
      "20*x1 + 12*x2 + 40*x3 + 25*x4 + 0\n",
      "SUBJECT TO\n",
      "Capacity: x1 + x2 + x3 + x4 <= 50\n",
      "\n",
      "Raw_A: 3 x1 + 2 x2 + x3 <= 100\n",
      "\n",
      "Raw_B: x2 + 2 x3 + 3 x4 <= 90\n",
      "\n",
      "y_constraint: y1 + y3 <= 1\n",
      "\n",
      "x3_constraint: x3 - 100 y3 <= 0\n",
      "\n",
      "x1_constraint: x1 - 100 y1 <= 0\n",
      "\n",
      "VARIABLES\n",
      "x1 Continuous\n",
      "x2 Continuous\n",
      "x3 Continuous\n",
      "x4 Continuous\n",
      "0 <= y1 <= 1 Integer\n",
      "0 <= y3 <= 1 Integer\n",
      "\n"
     ]
    }
   ],
   "source": [
    "from pulp import LpMaximize, LpProblem, LpStatus, lpSum, LpVariable\n",
    "\n",
    "# Create the model\n",
    "model = LpProblem(name=\"resource_allocation_non_parallel_production\", sense=LpMaximize)\n",
    "# Initialize the decision variables\n",
    "# can be x = {i: LpVariable(name=f\"x{i}\", lowBound=0) for i in range(1, 5)}\n",
    "x1 = LpVariable(name=\"x1\", lowBound=0, cat=\"Continuous\")\n",
    "x2 = LpVariable(name=\"x2\", lowBound=0, cat=\"Continuous\")\n",
    "x3 = LpVariable(name=\"x3\", lowBound=0, cat=\"Continuous\")\n",
    "x4 = LpVariable(name=\"x4\", lowBound=0, cat=\"Continuous\")\n",
    "\n",
    "# Binary decision variables\n",
    "y1 = LpVariable(name=\"y1\", cat=\"Binary\")\n",
    "y3 = LpVariable(name=\"y3\", cat=\"Binary\")\n",
    "\n",
    "# Add the constraints to the model\n",
    "model += (x1 + x2 + x3 + x4 <= 50, \"Capacity\")\n",
    "model += (3*x1 + 2*x2 + x3 <= 100, \"Raw A\")\n",
    "model += (x2 + 2*x3 + 3*x4 <= 90, \"Raw B\")\n",
    "\n",
    "# non parallel production\n",
    "model += (y1 + y3 <= 1, \"y constraint\")\n",
    "model += (x3 <= y3*100, \"x3 constraint\")\n",
    "model += (x1 <= y1*100, \"x1 constraint\")\n",
    "\n",
    "# Add the objective function to the model\n",
    "obj_func = 20*x1 + 12*x2 + 40*x3 + 25*x4 # can be lpSum(20*x1, 12*x2, 40*x3, 25*x4)\n",
    "model += obj_func\n",
    "# print the system \n",
    "print(model)"
   ]
  },
  {
   "cell_type": "code",
   "execution_count": 27,
   "metadata": {
    "ExecuteTime": {
     "end_time": "2020-09-19T02:30:00.196970Z",
     "start_time": "2020-09-19T02:30:00.134262Z"
    }
   },
   "outputs": [
    {
     "name": "stdout",
     "output_type": "stream",
     "text": [
      "status: 1, Optimal\n",
      "objective: 1800.0\n",
      "x1 = 0.0\n",
      "x2 = 0.0\n",
      "x3 = 45.0\n",
      "x4 = 0.0\n",
      "y1 = 0\n",
      "y3 = 1\n",
      "Capacity: -5.0\n",
      "Raw_A: -55.0\n",
      "Raw_B: 0.0\n",
      "y_constraint: 0\n",
      "x3_constraint: -55.0\n",
      "x1_constraint: 0.0\n"
     ]
    }
   ],
   "source": [
    "# Now solve the system\n",
    "status = model.solve()\n",
    "# Get the results\n",
    "print(f\"status: {model.status}, {LpStatus[model.status]}\")\n",
    "print(f\"objective: {model.objective.value()}\")\n",
    "\n",
    "print(f\"{x1.name} = {x1.value()}\")\n",
    "print(f\"{x2.name} = {x2.value()}\")\n",
    "print(f\"{x3.name} = {x3.value()}\")\n",
    "print(f\"{x4.name} = {x4.value()}\")\n",
    "print(f\"{y1.name} = {y1.value()}\")\n",
    "print(f\"{y3.name} = {y3.value()}\")\n",
    "\n",
    "for name, constraint in model.constraints.items():\n",
    "    print(f\"{name}: {constraint.value()}\")"
   ]
  },
  {
   "cell_type": "markdown",
   "metadata": {},
   "source": [
    "Check another example at http://benalexkeen.com/linear-programming-with-python-and-pulp-part-4/ ."
   ]
  },
  {
   "cell_type": "markdown",
   "metadata": {},
   "source": [
    "## Exercises"
   ]
  },
  {
   "cell_type": "markdown",
   "metadata": {},
   "source": [
    "### Resource allocation \n",
    "(From http://benalexkeen.com/linear-programming-with-python-and-pulp-part-3/ - Please do not check the solution before trying the exercise by yourself) . \n",
    "\n",
    "In a car factory they run for 30 days producing some amount of cars type A and B. To build them, they have a robot, 2 engineers and 1 detailer. The detailer works only 21 days a month. Each car \n",
    "needs different resources: \n",
    "\n",
    "| resource  | car A  | car B  | \n",
    "|:-:|:-:|:-:|\n",
    "| Robot  | 3 days  | 4 days  |  \n",
    "| Engineer  | 5 days  | 6 days  | \n",
    "|  Detailer | 1.5 days  | 3 days  | \n",
    "\n",
    "Car A profit is 30000, while car B is 45000. \n",
    "\n",
    "Maximize the profit using pulp. You must get A = 2, B = 6, and profit of 330000. "
   ]
  },
  {
   "cell_type": "code",
   "execution_count": null,
   "metadata": {},
   "outputs": [],
   "source": []
  },
  {
   "cell_type": "markdown",
   "metadata": {},
   "source": [
    "### Basic linear programming\n",
    "<img src=\"fig/exercise-basic.png\" alt=\"Exercise\" width=\"500\" height=\"600\">"
   ]
  },
  {
   "cell_type": "code",
   "execution_count": null,
   "metadata": {},
   "outputs": [],
   "source": []
  },
  {
   "cell_type": "markdown",
   "metadata": {},
   "source": [
    "### Teacher distribution (Wiston, 7-28)\n",
    "<img src=\"fig/exercise-teachers.png\" alt=\"Exercise\" width=\"500\" height=\"600\">\n",
    "<img src=\"fig/exercise-teachers-table.png\" alt=\"Exercise\" width=\"500\" height=\"600\">"
   ]
  },
  {
   "cell_type": "code",
   "execution_count": null,
   "metadata": {},
   "outputs": [],
   "source": []
  }
 ],
 "metadata": {
  "kernelspec": {
   "display_name": "Python 3",
   "language": "python",
   "name": "python3"
  },
  "language_info": {
   "codemirror_mode": {
    "name": "ipython",
    "version": 3
   },
   "file_extension": ".py",
   "mimetype": "text/x-python",
   "name": "python",
   "nbconvert_exporter": "python",
   "pygments_lexer": "ipython3",
   "version": "3.8.5"
  },
  "toc": {
   "base_numbering": 1,
   "nav_menu": {},
   "number_sections": true,
   "sideBar": true,
   "skip_h1_title": false,
   "title_cell": "Table of Contents",
   "title_sidebar": "Contents",
   "toc_cell": false,
   "toc_position": {},
   "toc_section_display": true,
   "toc_window_display": true
  }
 },
 "nbformat": 4,
 "nbformat_minor": 4
}
