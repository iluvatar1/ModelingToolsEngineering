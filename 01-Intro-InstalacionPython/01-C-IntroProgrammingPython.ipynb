{
 "cells": [
  {
   "cell_type": "markdown",
   "metadata": {},
   "source": [
    "# Python Programming Introduction"
   ]
  },
  {
   "cell_type": "markdown",
   "metadata": {},
   "source": [
    "## Importing modules\n",
    "Python has an extensive standard library to perform several task in optimized and easy-to-use way. For basic mathematical operations you can just use the normal operators, but for other standard functions, like sin, you should import the standard math module. "
   ]
  },
  {
   "cell_type": "code",
   "execution_count": null,
   "metadata": {},
   "outputs": [],
   "source": [
    "import math as m"
   ]
  },
  {
   "cell_type": "markdown",
   "metadata": {},
   "source": [
    "You can also use ```from math import *```, or simply ```import math```. The named import previously shown is the recommended way since it keeps everything inside a namespace. \n",
    "\n",
    "Now you can compute mathematical operations:"
   ]
  },
  {
   "cell_type": "code",
   "execution_count": null,
   "metadata": {},
   "outputs": [],
   "source": [
    "x = 5\n",
    "y = m.sin(x)\n",
    "print x, y"
   ]
  },
  {
   "cell_type": "markdown",
   "metadata": {},
   "source": [
    "What are the units of the argument for the sin function? Are there any other functions provided byt the math module? Please read the documentation"
   ]
  },
  {
   "cell_type": "code",
   "execution_count": null,
   "metadata": {},
   "outputs": [],
   "source": [
    "help(m.sin)"
   ]
  },
  {
   "cell_type": "code",
   "execution_count": null,
   "metadata": {},
   "outputs": [],
   "source": [
    "help(m)"
   ]
  },
  {
   "cell_type": "markdown",
   "metadata": {},
   "source": [
    "## Printing and reading to and from the screen\n",
    "\n",
    "You have already seen how to print to the screen. To read, you can use the function call ```raw_input```. Try it:"
   ]
  },
  {
   "cell_type": "code",
   "execution_count": null,
   "metadata": {},
   "outputs": [],
   "source": [
    "var = raw_input(\"Please write something :\\t\")\n",
    "print(\"You have written : \" + var)"
   ]
  },
  {
   "cell_type": "markdown",
   "metadata": {},
   "source": [
    "You can also format the printing string, like you have done in c/c++ . For example, you can write something like"
   ]
  },
  {
   "cell_type": "code",
   "execution_count": null,
   "metadata": {},
   "outputs": [],
   "source": [
    "x = 5\n",
    "y = 2.34\n",
    "print(\"x = %04d \\t y = %.1f \\ny=%20.16e\\n\"%(x, y, y))"
   ]
  },
  {
   "cell_type": "markdown",
   "metadata": {},
   "source": [
    "Note: if you need to manipulate strings and numbers, you should cast the number to string by using ```str```, as in ```str(x)``` ."
   ]
  },
  {
   "cell_type": "markdown",
   "metadata": {},
   "source": [
    "## How to print to and read from a file\n",
    "\n",
    "You can edit files by openning an appropriate stream by using the open function in several modes."
   ]
  },
  {
   "cell_type": "code",
   "execution_count": null,
   "metadata": {},
   "outputs": [],
   "source": [
    "help(open) # How many modes does a filestream have?"
   ]
  },
  {
   "cell_type": "code",
   "execution_count": null,
   "metadata": {},
   "outputs": [],
   "source": [
    "f = open(\"fname.txt\", \"w\") # this opens the file fname.txt, inside the current local directory, in write mode\n",
    "print f\n",
    "f.write(\"This is a line written into the file\\n\")\n",
    "x = 56.78\n",
    "f.write(\"This is the variable x = %25.16e\\n\" % x)\n",
    "f.close() # This closes the file stream\n",
    "# Now please open the file and check its contents"
   ]
  },
  {
   "cell_type": "markdown",
   "metadata": {},
   "source": [
    "To read from a file, you can open the stream in read mode:"
   ]
  },
  {
   "cell_type": "code",
   "execution_count": null,
   "metadata": {},
   "outputs": [],
   "source": [
    "# This opens the file stream in read mode\n",
    "f = open(\"fname.txt\", \"r\")\n",
    "print f\n",
    "# read the whole file (Warning: could read more than the available memory)\n",
    "content = f.read()\n",
    "print content\n",
    "# close the filestream\n",
    "f.close()"
   ]
  },
  {
   "cell_type": "code",
   "execution_count": null,
   "metadata": {},
   "outputs": [],
   "source": [
    "# This opens the file stream in read mode\n",
    "f = open(\"fname.txt\", \"r\")\n",
    "# read the first line\n",
    "line = f.readline()\n",
    "print line\n",
    "# read the second line\n",
    "line = f.readline()\n",
    "print line\n",
    "# close the filestream\n",
    "f.close()"
   ]
  },
  {
   "cell_type": "code",
   "execution_count": null,
   "metadata": {},
   "outputs": [],
   "source": [
    "# This opens the file stream in read mode\n",
    "f = open(\"fname.txt\", \"r\")\n",
    "# read all lines and save them on a list\n",
    "line = f.readlines()\n",
    "print line\n",
    "print line[0]\n",
    "print line[1]\n",
    "# close the filestream\n",
    "f.close()"
   ]
  },
  {
   "cell_type": "code",
   "execution_count": null,
   "metadata": {},
   "outputs": [],
   "source": [
    "# This opens the file stream in read mode\n",
    "f = open(\"fname.txt\", \"r\")\n",
    "# read lines one by one by using a for loop\n",
    "for line in f:\n",
    "    print line,\n",
    "# close the filestream\n",
    "f.close()"
   ]
  },
  {
   "cell_type": "code",
   "execution_count": null,
   "metadata": {},
   "outputs": [],
   "source": [
    "# This opens the file stream in read mode, and also handles the stream closing \n",
    "with open(\"fname.txt\", \"r\") as ifile:\n",
    "    # read lines one by one by using a for loop\n",
    "    for line in ifile:\n",
    "        print line,"
   ]
  },
  {
   "cell_type": "code",
   "execution_count": null,
   "metadata": {},
   "outputs": [],
   "source": [
    "# This opens the file stream in read mode, bu issues an exception because the filename is wrong\n",
    "f = open(\"fname2.txt\", \"r\")\n",
    "# read lines one by one by using a for loop\n",
    "for line in f:\n",
    "    print line,\n",
    "# close the filestream\n",
    "f.close()"
   ]
  },
  {
   "cell_type": "markdown",
   "metadata": {},
   "source": [
    "You can also save a python script directly from the notebook by using ```%%file``` magic word."
   ]
  },
  {
   "cell_type": "code",
   "execution_count": null,
   "metadata": {},
   "outputs": [],
   "source": [
    "%%writefile outscript.py\n",
    "import math as m\n",
    "x = 10\n",
    "y = m.cos(x)\n",
    "print m"
   ]
  },
  {
   "cell_type": "code",
   "execution_count": null,
   "metadata": {},
   "outputs": [],
   "source": [
    "with open(\"outscript.py\", \"r\") as f:\n",
    "    content = f.read()\n",
    "    print content"
   ]
  },
  {
   "cell_type": "markdown",
   "metadata": {},
   "source": [
    "## Selection structure : if\n",
    "\n",
    "This is a simple example on how to use if to select from several options"
   ]
  },
  {
   "cell_type": "code",
   "execution_count": null,
   "metadata": {},
   "outputs": [],
   "source": [
    "m = 5\n",
    "if m < 1:\n",
    "    print str(m) + \" is smaller than 1\"\n",
    "elif 1 <= m <= 4:\n",
    "    print str(m) + \" is in between 1 and 4\"\n",
    "else :\n",
    "    print str(m) + \" is larger than 4\""
   ]
  },
  {
   "cell_type": "markdown",
   "metadata": {},
   "source": [
    "You can also compare values directly, or even compare several values"
   ]
  },
  {
   "cell_type": "code",
   "execution_count": 1,
   "metadata": {
    "ExecuteTime": {
     "end_time": "2018-09-13T19:07:18.645052Z",
     "start_time": "2018-09-13T19:07:18.625357Z"
    }
   },
   "outputs": [
    {
     "data": {
      "text/plain": [
       "False"
      ]
     },
     "execution_count": 1,
     "metadata": {},
     "output_type": "execute_result"
    }
   ],
   "source": [
    "2 == 3"
   ]
  },
  {
   "cell_type": "code",
   "execution_count": 5,
   "metadata": {
    "ExecuteTime": {
     "end_time": "2018-09-13T19:07:49.472034Z",
     "start_time": "2018-09-13T19:07:49.465978Z"
    }
   },
   "outputs": [
    {
     "data": {
      "text/plain": [
       "False"
      ]
     },
     "execution_count": 5,
     "metadata": {},
     "output_type": "execute_result"
    }
   ],
   "source": [
    "2 == 2 and 3 > 9"
   ]
  },
  {
   "cell_type": "code",
   "execution_count": 6,
   "metadata": {
    "ExecuteTime": {
     "end_time": "2018-09-13T19:07:59.869231Z",
     "start_time": "2018-09-13T19:07:59.863819Z"
    }
   },
   "outputs": [
    {
     "data": {
      "text/plain": [
       "False"
      ]
     },
     "execution_count": 6,
     "metadata": {},
     "output_type": "execute_result"
    }
   ],
   "source": [
    "[2, 3] == [3, 2]"
   ]
  },
  {
   "cell_type": "markdown",
   "metadata": {},
   "source": [
    "## loop structures : for and while"
   ]
  },
  {
   "cell_type": "code",
   "execution_count": null,
   "metadata": {},
   "outputs": [],
   "source": [
    "name = \"My name\" # a string is an array for characters\n",
    "for c in name:\n",
    "    print c"
   ]
  },
  {
   "cell_type": "code",
   "execution_count": null,
   "metadata": {},
   "outputs": [],
   "source": [
    "n = 5\n",
    "i = 0\n",
    "while i < 5:\n",
    "    print i\n",
    "    i = i+1"
   ]
  },
  {
   "cell_type": "markdown",
   "metadata": {},
   "source": [
    "## How to declare functions\n",
    "Functions are the next construct necessary for the a good program design. A function should be defined by using the keyword ```def``` ."
   ]
  },
  {
   "cell_type": "code",
   "execution_count": null,
   "metadata": {},
   "outputs": [],
   "source": [
    "def my_function() : \n",
    "    print \"I am the function\"\n",
    "    \n",
    "my_function() # this calls the function    \n"
   ]
  },
  {
   "cell_type": "code",
   "execution_count": null,
   "metadata": {},
   "outputs": [],
   "source": [
    "# this shows how to pass arguments\n",
    "def my_function(x):\n",
    "    print \"Value of argument is \" + str(x)\n",
    "    \n",
    "# my_function() # error, requires argument\n",
    "my_function(-3)"
   ]
  },
  {
   "cell_type": "code",
   "execution_count": null,
   "metadata": {},
   "outputs": [],
   "source": [
    "# this shows how to pass arguments, and assign default values\n",
    "def my_function(x = 0):\n",
    "    print \"Value of argument is \" + str(x)\n",
    "    \n",
    "my_function() # no longer an error\n",
    "my_function(-3)"
   ]
  },
  {
   "cell_type": "code",
   "execution_count": null,
   "metadata": {},
   "outputs": [],
   "source": [
    "# this shows how to pass arguments, assign default values, and also calls by named arguments\n",
    "def my_function(x = 0, y = 1):\n",
    "    print \"Calling my_function\"\n",
    "    print \"x \" + str(x)\n",
    "    print \"y \" + str(y)\n",
    "    \n",
    "my_function() # no longer an error\n",
    "my_function(-3, 2) # x = -3, y = -2\n",
    "my_function(y=-3, x=2) # x = 2, y = -3"
   ]
  },
  {
   "cell_type": "markdown",
   "metadata": {},
   "source": [
    "# Exercises\n",
    "1. Write a script, using functions, which prints a list of temperatures in Celsius (from 0 to 100 in steps of 10) and its equivalent in Farenheit. \n",
    "2. Write a script which reads a positive integer number and prints, to a file, all the even numbers smaller than the parameter read.\n",
    "3. Write a script which reads a positive integer number n and prints the smaller-than-n even numbers to a file and the smaller-than-n odd numbers to another file.\n",
    "4. Compute the mathematical sum $$\\sum_{k=1}^M \\frac{1}{k}$$, as a function of $M$. Print the results to a file. Use both a for loop and a while loop. \n",
    "5. The coordinates for the vertexes of a given triangle are written into a file in the form \\begin{align*}x_1\\ \\ \\  y_1\\\\x_2\\ \\ \\  y_2\\\\x_3\\ \\ \\ y_3  \\end{align*} Write a program that reads this values, and computes the area of the triangle, defined as $$ A = \\frac{1}{2}[x_2y_3 - x_3y_2 - x_1y_3 + x_3y_1 + x_1y_2 - x_2y_1]$$. Use functions.\n",
    "6. Write a function to compute, numerically, the central derivative of a given function, $$ f'(x) \\simeq \\frac{f(x+h) - f(x-h)}{2h}$$. Use, as a model, the function $e^x$ (and later try with $\\cos x$ and $x^2$). Print a table showing the difference between the exact derivate and the numerical approximation, as a function of $h$. Change $h$ logarithmically, starting at $h = 0.1$. Evaluate the derivative at $x = 0.1$.  "
   ]
  },
  {
   "cell_type": "markdown",
   "metadata": {},
   "source": [
    "# Lists\n",
    "\n",
    "Lists are heterogeneous and dynamic arrays which allows to group data which are not necessarily of the same type. Lists are very easy to use but, be careful, they are not the fastest struct you can use for numerical computations.\n",
    "\n",
    "A list is declared using the ```[ ]``` characters, and its elements are separated by ```,```."
   ]
  },
  {
   "cell_type": "code",
   "execution_count": null,
   "metadata": {},
   "outputs": [],
   "source": [
    "xdata = [] # declares empty list\n",
    "xdata = [1,2, 3, 6.5, 'hello'] # heterogeneous list\n",
    "print xdata"
   ]
  },
  {
   "cell_type": "code",
   "execution_count": null,
   "metadata": {},
   "outputs": [],
   "source": [
    "print xdata[0]\n",
    "print xdata[3]\n",
    "print xdata[4]\n",
    "print xdata[4][3] # Does this make sense?"
   ]
  },
  {
   "cell_type": "code",
   "execution_count": null,
   "metadata": {},
   "outputs": [],
   "source": [
    "# Slicing operations\n",
    "print xdata[0:2]\n",
    "print xdata[0:3]\n",
    "print xdata[0:4:1]\n",
    "print xdata[:4:1]\n",
    "print xdata[::1]\n",
    "print xdata[::-1]\n",
    "print xdata[:-1]"
   ]
  },
  {
   "cell_type": "code",
   "execution_count": null,
   "metadata": {},
   "outputs": [],
   "source": [
    "# some ways to create lists : arange\n",
    "xdata = range(0, 10)\n",
    "print \"xdata = \" + str(xdata)\n",
    "xdata = range(0, 10, 2)\n",
    "print \"xdata = \" + str(xdata)\n",
    "xdata = range(0, 10, -1)\n",
    "print \"xdata = \" + str(xdata)\n",
    "xdata = xrange(0, 10)\n",
    "print \"xdata = \" + str(xdata)"
   ]
  },
  {
   "cell_type": "code",
   "execution_count": null,
   "metadata": {},
   "outputs": [],
   "source": [
    "# From other lists\n",
    "a = [2,3,4]\n",
    "b = [3,4,5]\n",
    "c = a + b\n",
    "print c"
   ]
  },
  {
   "cell_type": "code",
   "execution_count": null,
   "metadata": {},
   "outputs": [],
   "source": [
    "c = 3*[4]\n",
    "print c"
   ]
  },
  {
   "cell_type": "code",
   "execution_count": null,
   "metadata": {
    "collapsed": true
   },
   "outputs": [],
   "source": [
    "help(c)"
   ]
  },
  {
   "cell_type": "code",
   "execution_count": null,
   "metadata": {},
   "outputs": [],
   "source": [
    "c = 5*[1]\n",
    "print c\n",
    "\n",
    "c.append(\"Mundo\")\n",
    "print c\n",
    "\n",
    "c.insert(2, 32)\n",
    "print c\n",
    "\n",
    "c.insert(3, \"Hola\")\n",
    "print c\n",
    "\n",
    "c[4:-1] = []\n",
    "print c\n",
    "print c[-2], c[-1]"
   ]
  },
  {
   "cell_type": "code",
   "execution_count": null,
   "metadata": {},
   "outputs": [],
   "source": [
    "# List comprehension\n",
    "squares = [x**2 for x in range(0, 10)]\n",
    "print squares"
   ]
  },
  {
   "cell_type": "markdown",
   "metadata": {},
   "source": [
    "## Tuples\n",
    "A tuple is like a list, but is inmutable, it cannot change. It is declared by using ```()```."
   ]
  },
  {
   "cell_type": "code",
   "execution_count": null,
   "metadata": {},
   "outputs": [],
   "source": [
    "a = (1, 2)\n",
    "print a\n",
    "print a[0]\n",
    "# a[1] = 4 # error, tuple is inmutable\n",
    "b = () # empty tuple\n",
    "print b"
   ]
  },
  {
   "cell_type": "markdown",
   "metadata": {},
   "source": [
    "You can use tuples to unpack data from functions returning several results"
   ]
  },
  {
   "cell_type": "code",
   "execution_count": null,
   "metadata": {},
   "outputs": [],
   "source": [
    "def func(x, y) :\n",
    "    return x + y, x-y # returns a tuple\n",
    "\n",
    "a, b = func(1, 2)\n",
    "print a, b"
   ]
  },
  {
   "cell_type": "markdown",
   "metadata": {},
   "source": [
    "# Exercises\n",
    "1. *Reading a two column file*: Make a program who reads a two column file and stores the first column in a list called `x` and the second one in a list called `y`. Then convert the list to arrays and plot them. Test it with some example file.\n",
    "2. Extend the previous exercise to be able to read a data file with comments. The comment chracter is supposed to be `#`. Every line starting with `#` should be ignored. Test.\n",
    "3. Improve exercise 1 and 2 by using the `numpy.loadtxt()` function. You should rerad the documentation. Test and compare.\n",
    "4. Write a program which prints tabulated data for a given function, but also printing some comments on it using the `#` character. Use the previous program to make sure you can read back the data.\n",
    "5. Assume that you are given a file which has printed the values $a_0, a_1, \\ldots, a_k$ for the acceleration of a given system at specified intervals of size $\\Delta t$, that is, $t_k = k\\Delta t$. Your task is to read those values and to compute the velocity of the system at some time $t$. To do that remember that the acceleration can be given as $a(t) = v'(t)$. Therefore, to find $v$, you must integrate the acceleration as\n",
    "\n",
    "    $v(t) = v(0) + \\int\\limits_0^t d\\tau\\ a(\\tau).$\n",
    "    \n",
    "    If $a(t)$ is only known at discrete points, as in this case, you have to approximate the integral. You can use the trapezoidal rule to get\n",
    "   \n",
    "    $v(t_k) \\simeq \\Delta t \\left( \\frac{1}{2}a_0 + \\frac{1}{2}a_k + \\sum\\limits_{i=1}^{k-1}a_i \\right), 1 \\le k \\le n-1$.\n",
    "    \n",
    "    Assume that $v(0) = 0$. Your program should: Read the values for $a$ from the array. Then, compute the values for velocity and finally plot the acceleration and the velocity as a function of time. Good test cases for this problem are null values for the acceleration, and constant values for the acceleration, whose theoretical solution you already know. The $\\Delta t$ value should be specified at the command line (use the `sys` module to read command line arguments)."
   ]
  },
  {
   "cell_type": "markdown",
   "metadata": {},
   "source": [
    "# Classes\n",
    "Python is an object oriented language. Everything is an object. You can also create new types by using classes, after defining their attributes and methods. When creating classes, you should is the ```self``` keyword, which is the analogous to the pointer ```this``` in c++. Let's create a class for a point."
   ]
  },
  {
   "cell_type": "code",
   "execution_count": null,
   "metadata": {},
   "outputs": [],
   "source": [
    "class Point2D :\n",
    "    \"\"\"This is a doctring. This allows to embed documentation inside the class definition.\n",
    "    You can split it \n",
    "    across several lines.\n",
    "    \"\"\"\n",
    "    def __init__(self, x = 0, y = 0): \n",
    "        \"\"\" This is the constructor\"\"\"\n",
    "        self.x_ = x # attribute x_\n",
    "        self.y_ = y # attribute y_\n",
    "        \n",
    "    def coordinates(self):\n",
    "        return self.x_, self.y_\n",
    "    \n",
    "    def __str__(self):\n",
    "        \"\"\"Cast method to convert to string\"\"\"\n",
    "        return (\"Coordinates : ( %25.16e, %25.16e )\" % (self.x_, self.y_))"
   ]
  },
  {
   "cell_type": "code",
   "execution_count": null,
   "metadata": {},
   "outputs": [],
   "source": [
    "p1 = Point2D() # constructs a point with default internal attributes\n",
    "print p1 # Uses the str cast method\n",
    "\n",
    "p2 = Point2D(2, -3)\n",
    "print p2"
   ]
  },
  {
   "cell_type": "markdown",
   "metadata": {},
   "source": [
    "You can save the class to a file, and then later import it for re-use (you can import any python code)"
   ]
  },
  {
   "cell_type": "code",
   "execution_count": null,
   "metadata": {},
   "outputs": [],
   "source": [
    "%%file Point3D.py\n",
    "class Point3D :\n",
    "    \"\"\"This is a doctring. This allows to embed documentation inside the class definition.\n",
    "    You can split it \n",
    "    across several lines.\n",
    "    \"\"\"\n",
    "    def __init__(self, x = 0, y = 0, z = 0): \n",
    "        \"\"\" This is the constructor\"\"\"\n",
    "        self.x_ = x # attribute x_\n",
    "        self.y_ = y # attribute y_\n",
    "        self.z_ = z # attribute z_\n",
    "        \n",
    "    def coordinates(self):\n",
    "        return self.x_, self.y_, self.z_\n",
    "    \n",
    "    def __str__(self):\n",
    "        \"\"\"Cast method to convert to string\"\"\"\n",
    "        return (\"Coordinates : ( %25.16e, %25.16e, , %25.16e )\" % (self.x_, self.y_, self.z_))"
   ]
  },
  {
   "cell_type": "code",
   "execution_count": null,
   "metadata": {},
   "outputs": [],
   "source": [
    "import Point3D as P3D\n",
    "p3 = P3D.Point3D(2, 5, 0.9)\n",
    "print p3"
   ]
  },
  {
   "cell_type": "code",
   "execution_count": null,
   "metadata": {},
   "outputs": [],
   "source": []
  }
 ],
 "metadata": {
  "kernelspec": {
   "display_name": "Python 3",
   "language": "python",
   "name": "python3"
  },
  "language_info": {
   "codemirror_mode": {
    "name": "ipython",
    "version": 3
   },
   "file_extension": ".py",
   "mimetype": "text/x-python",
   "name": "python",
   "nbconvert_exporter": "python",
   "pygments_lexer": "ipython3",
   "version": "3.6.8"
  },
  "latex_envs": {
   "LaTeX_envs_menu_present": true,
   "autoclose": true,
   "autocomplete": true,
   "bibliofile": "biblio.bib",
   "cite_by": "apalike",
   "current_citInitial": 1,
   "eqLabelWithNumbers": true,
   "eqNumInitial": 1,
   "hotkeys": {
    "equation": "Ctrl-E",
    "itemize": "Ctrl-I"
   },
   "labels_anchors": false,
   "latex_user_defs": false,
   "report_style_numbering": false,
   "user_envs_cfg": false
  },
  "toc": {
   "base_numbering": 1,
   "nav_menu": {},
   "number_sections": true,
   "sideBar": true,
   "skip_h1_title": false,
   "title_cell": "Table of Contents",
   "title_sidebar": "Contents",
   "toc_cell": false,
   "toc_position": {},
   "toc_section_display": true,
   "toc_window_display": true
  }
 },
 "nbformat": 4,
 "nbformat_minor": 1
}
