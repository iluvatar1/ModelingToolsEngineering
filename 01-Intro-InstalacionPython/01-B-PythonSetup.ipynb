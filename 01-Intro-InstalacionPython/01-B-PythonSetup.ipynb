{
 "cells": [
  {
   "cell_type": "markdown",
   "metadata": {
    "slideshow": {
     "slide_type": "slide"
    }
   },
   "source": [
    "# Python Setup"
   ]
  },
  {
   "cell_type": "markdown",
   "metadata": {
    "slideshow": {
     "slide_type": "fragment"
    }
   },
   "source": [
    "Python is :\n",
    "\n",
    "* An interpreted and dynamic language\n",
    "* A high level language\n",
    "* A very popular language\n",
    "* Well suited for scientific computing "
   ]
  },
  {
   "cell_type": "markdown",
   "metadata": {
    "slideshow": {
     "slide_type": "slide"
    }
   },
   "source": [
    "<img src=\"fig/prog-lang-trends.png\" width=\"70%\">"
   ]
  },
  {
   "cell_type": "markdown",
   "metadata": {
    "slideshow": {
     "slide_type": "slide"
    }
   },
   "source": [
    "# How to install/use python on your computer\n",
    "1) Local install python using anaconda : https://www.anaconda.com/distribution/#download-section . "
   ]
  },
  {
   "cell_type": "markdown",
   "metadata": {
    "slideshow": {
     "slide_type": "fragment"
    }
   },
   "source": [
    "2) Use google collaboratory : https://colab.research.google.com/   "
   ]
  },
  {
   "cell_type": "markdown",
   "metadata": {
    "slideshow": {
     "slide_type": "fragment"
    }
   },
   "source": [
    "3) Use mybinder: https://mybinder.org/v2/gh/iluvatar1/ModelingToolsEngineering/master "
   ]
  },
  {
   "cell_type": "markdown",
   "metadata": {
    "slideshow": {
     "slide_type": "fragment"
    }
   },
   "source": [
    "4) Azure notebooks, sage notebooks, etc."
   ]
  },
  {
   "cell_type": "markdown",
   "metadata": {
    "slideshow": {
     "slide_type": "slide"
    }
   },
   "source": [
    "# How to execute/use Python code"
   ]
  },
  {
   "cell_type": "markdown",
   "metadata": {
    "slideshow": {
     "slide_type": "subslide"
    }
   },
   "source": [
    "## The Python interpreter\n",
    "The python interpreter is very primitive and basically interprets commands as you type them. For example, you can type commands like```print \"Hello World\" ``` and expect the output. \n",
    "\n",
    "Since it is much more convenient to use the iPython super-enhanced interpreter, we will not focus here on the bare-bones python interpreter.  \n",
    "\n",
    "How to quit from the command prompt? try whatever you think (`quit`, `ctrl+d`, etc)\n",
    "\n",
    "![](fig/interpreter.png)"
   ]
  },
  {
   "cell_type": "markdown",
   "metadata": {
    "slideshow": {
     "slide_type": "subslide"
    }
   },
   "source": [
    "## iPython\n",
    "iPython is, currently, the standard interactive interpreter. It has many advantages over the original python interpreter, like autocopletion of variables, tight integration with the system commands, history, easy documentation access, etc. \n",
    "\n",
    "**Exercise:** Please open an ipython console, by either going to the appropriate part on the Spyder IDE, or by open ipython through the Anaconda launcher. Type some commands there. \n",
    "\n",
    "The ipython interpreter is a much more advanced interpreter which allows to get better error reporting, interactive help, magic commands, fast history access, and muhco more. \n",
    "\n",
    "![asds](fig/ipython.png)"
   ]
  },
  {
   "cell_type": "markdown",
   "metadata": {
    "slideshow": {
     "slide_type": "subslide"
    }
   },
   "source": [
    "## Python scripts\n",
    "In general, interactive sessions are designed for fast testing and propotyping. But, if you want to store a group of commands for later use (a program), then ypu should save it on Python file, whose termination is ```.py```. **Exercise:** On the Spyder editor, type some commands and save the file with the appropriate extension. Then re-open it and run it. You can also load/run the file directly from ipython. You need to use the magic words ```%load``` or ```%run``` . Check the docs and do it. \n",
    "\n",
    "![](fig/emacs.png)"
   ]
  },
  {
   "cell_type": "markdown",
   "metadata": {
    "slideshow": {
     "slide_type": "subslide"
    }
   },
   "source": [
    "## iPython notebook\n",
    "The ipython notebook is a very convinient way to store ipython commands, together with notes, figures, and results. Currently, you are looking at the result obtained from an ipython notebook. This is very useful for logs, instructions, manuals, and interactive programming. An ipython notebook is stored in ```json``` format, which allows to include not only instructions but also command results and even figures. To execute a given cell, you should use the combination shift+enter.  \n",
    "\n",
    "**Exercise:** Open an ipython notebook by using the anaconda launcher, and write some commands and some instructions. Save it. Re-open it. \n",
    "Or use google collab, or mybinder"
   ]
  },
  {
   "cell_type": "markdown",
   "metadata": {
    "slideshow": {
     "slide_type": "subslide"
    }
   },
   "source": [
    "## IDE: Spyder\n",
    "You have already used the IDE Spyder. This is an integrated develompment environment which allows editing, running, debugging, etc. of simple and complex (projects) python files. We will use only the very basic but you should get familiar with Spyder to exploit it better.\n",
    "\n",
    "There are other multiplatform solutions, like Canopy (free for academics) or Python(X, Y). Look at them on google."
   ]
  },
  {
   "cell_type": "markdown",
   "metadata": {
    "slideshow": {
     "slide_type": "slide"
    }
   },
   "source": [
    "## Some command examples inside a notebook\n",
    "\n",
    "You can also try them on ipython."
   ]
  },
  {
   "cell_type": "code",
   "execution_count": 2,
   "metadata": {
    "slideshow": {
     "slide_type": "subslide"
    }
   },
   "outputs": [
    {
     "name": "stdout",
     "output_type": "stream",
     "text": [
      "Hello World, from python!\n"
     ]
    }
   ],
   "source": [
    "print (\"Hello World, from python!\")"
   ]
  },
  {
   "cell_type": "code",
   "execution_count": 1,
   "metadata": {
    "ExecuteTime": {
     "end_time": "2018-08-07T15:16:00.770459Z",
     "start_time": "2018-08-07T15:15:59.087501Z"
    }
   },
   "outputs": [
    {
     "name": "stdout",
     "output_type": "stream",
     "text": [
      "Hola\n",
      "Dime tu nombre:  sadsa\n",
      "Hola sadsa\n"
     ]
    }
   ],
   "source": [
    "print(\"Hola\")\n",
    "name = input(\"Dime tu nombre:  \")\n",
    "print(\"Hola\", name)"
   ]
  },
  {
   "cell_type": "markdown",
   "metadata": {
    "slideshow": {
     "slide_type": "slide"
    }
   },
   "source": [
    "# Summary\n",
    "\n",
    "There are several ways to use python:\n",
    "\n",
    "* Using the interpreter, `python`\n",
    "* Using the more modern interpreter, `ipython` (always use this by default if you need an interpreter)\n",
    "* Using an ipython notebook : either by launching it as `ipython notebook` which will open your browser at `127.0.0.1:8888`, or by using the editor in any ide (like Canopy, Anaconda-sPyder, etc). Notebooks are saved with the extension `.ipynb`\n",
    "* Writing an script, whose extension should be `.py`\n",
    "\n",
    "In the following, we will use a mix of all of them.\n",
    "\n",
    "Before leaving, let's use another example: How to read from standard input"
   ]
  },
  {
   "cell_type": "markdown",
   "metadata": {
    "slideshow": {
     "slide_type": "slide"
    }
   },
   "source": [
    "# How to install packages\n",
    "\n",
    "Please go the start menu and open the anaconda prompt. There you con use either the command `conda` or `pip` to install needed packages. For instance, let's install `scipy`, which is the base framework used in scientific computation. Open the anaconda prompt and write the following:\n",
    "```python\n",
    "conda install -c anaconda scipy\n",
    "```\n",
    "This will install the `scipy` package and all its dependencies on the root environment. \n",
    "\n",
    "## Note: Installing on a virtual environment - Fenics\n",
    "Sometimes it is much better to install packages on an isolated enviroment to avoid collisions with other packages or versions. For instance, to install `fenics` (which is used to solve partial differential equations, see https://fenicsproject.org/), you can do the following on the anaconda prompt\n",
    "```python/\n",
    "# this creates an enviroment called fenicsproject\n",
    "conda create -n fenicsproject -c conda-forge fenics\n",
    "# this activates the environment\n",
    "source activate fenicsproject \n",
    "```"
   ]
  }
 ],
 "metadata": {
  "celltoolbar": "Slideshow",
  "kernelspec": {
   "display_name": "Python 3",
   "language": "python",
   "name": "python3"
  },
  "language_info": {
   "codemirror_mode": {
    "name": "ipython",
    "version": 3
   },
   "file_extension": ".py",
   "mimetype": "text/x-python",
   "name": "python",
   "nbconvert_exporter": "python",
   "pygments_lexer": "ipython3",
   "version": "3.6.7"
  },
  "latex_envs": {
   "LaTeX_envs_menu_present": true,
   "autoclose": true,
   "autocomplete": true,
   "bibliofile": "biblio.bib",
   "cite_by": "apalike",
   "current_citInitial": 1,
   "eqLabelWithNumbers": true,
   "eqNumInitial": 1,
   "hotkeys": {
    "equation": "Ctrl-E",
    "itemize": "Ctrl-I"
   },
   "labels_anchors": false,
   "latex_user_defs": false,
   "report_style_numbering": false,
   "user_envs_cfg": false
  },
  "toc": {
   "base_numbering": 1,
   "nav_menu": {},
   "number_sections": true,
   "sideBar": true,
   "skip_h1_title": false,
   "title_cell": "Table of Contents",
   "title_sidebar": "Contents",
   "toc_cell": false,
   "toc_position": {
    "height": "calc(100% - 180px)",
    "left": "10px",
    "top": "150px",
    "width": "383px"
   },
   "toc_section_display": true,
   "toc_window_display": true
  }
 },
 "nbformat": 4,
 "nbformat_minor": 1
}
