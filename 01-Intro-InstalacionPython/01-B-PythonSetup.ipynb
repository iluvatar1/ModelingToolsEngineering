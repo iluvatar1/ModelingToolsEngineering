{
 "cells": [
  {
   "cell_type": "markdown",
   "metadata": {},
   "source": [
    "# Python Setup"
   ]
  },
  {
   "cell_type": "markdown",
   "metadata": {},
   "source": [
    "Python is :\n",
    "\n",
    "* An interpreted and dynamic language\n",
    "* A high level language\n",
    "* A very popular language\n",
    "* Well suited for scientific computing \n",
    "\n",
    "In python, the language takes care (mostly) of the variables types and warns when something does not make sense (like when summing an string with and int).\n",
    "\n",
    "There are several ways to start using Python: Directly going to the command prompt and typing python will bring the interpreter. But the interpreter is quite limited. There is an enhanced version called ipython, and more recently, the ipython notebooks. In this course we will use mainly ipython and notebooks.\n",
    "\n",
    "Let's start. Please open a command prompt and write `python`. What do you get?\n",
    "\n",
    "Actually, you will be at the python command prompt. It is an interactive interpreter where you can run python commands. Let's try the traditional \"Hello World\" stuff. "
   ]
  },
  {
   "cell_type": "markdown",
   "metadata": {},
   "source": [
    "# Installing Python\n",
    "The easiest way is to use Anaconda. Please go to https://www.anaconda.com/download/ and download the installer: Python 3.6 . It would be faster if you download and install miniconda3 and then you install each needed package : https://conda.io/miniconda.html\n",
    "\n",
    "Once installed, open anaconda (go to the programs menu and open the anaconda navigator). You will find several options. You can open there either a terminal, an editor, or a notebook. We will use mainly the notebooks. If you need to use the promp, open anaconda prompt. You can, for instance, execute \n",
    "\n",
    "> jupyter notebook\n",
    "\n",
    "and then you will get a notebook to play with."
   ]
  },
  {
   "cell_type": "markdown",
   "metadata": {},
   "source": [
    "# How to execute/use Python code\n",
    "## The Python interpreter\n",
    "The python interpreter is very primitive and basically interprets commands as you type them. For example, you can type commands like```print \"Hello World\" ``` and expect the output. \n",
    "\n",
    "Since it is much more convenient to use the iPython super-enhanced interpreter, we will not focus here on the bare-bones python interpreter.  \n",
    "\n",
    "## iPython\n",
    "iPython is, currently, the standard interactive interpreter. It has many advantages over the original python interpreter, like autocopletion of variables, tight integration with the system commands, history, easy documentation access, etc. **Exercise:** Please open an ipython console, by either going to the appropriate part on the Spyder IDE, or by open ipython through the Anaconda launcher. Type some commands there. \n",
    "\n",
    "## Python scripts\n",
    "In general, interactive sessions are designed for fast testing and propotyping. But, if you want to store a group of commands for later use (a program), then ypu should save it on Python file, whose termination is ```.py```. **Exercise:** On the Spyder editor, type some commands and save the file with the appropriate extension. Then re-open it and run it. You can also load/run the file directly from ipython. You need to use the magic words ```%load``` or ```%run``` . Check the docs and do it. \n",
    "\n",
    "## iPython notebook\n",
    "The ipython notebook is a very convinient way to store ipython commands, together with notes, figures, and results. Currently, you are looking at the result obtained from an ipython notebook. This is very useful for logs, instructions, manuals, and interactive programming. An ipython notebook is stored in ```json``` format, which allows to include not only instructions but also command results and even figures. To execute a given cell, you should use the combination shift+enter.  **Exercise:** Open an ipython notebook by using the anaconda launcher, and write some commands and some instructions. Save it. Re-open it. \n",
    "\n",
    "## IDE: Spyder\n",
    "You have already used the IDE Spyder. This is an integrated develompment environment which allows editing, running, debugging, etc. of simple and complex (projects) python files. We will use only the very basic but you should get familiar with Spyder to exploit it better.\n",
    "\n",
    "There are other multiplatform solutions, like Canopy (free for academics) or Python(X, Y). Look at them on google."
   ]
  },
  {
   "cell_type": "markdown",
   "metadata": {},
   "source": [
    "## Some command examples inside a notebook\n",
    "\n",
    "You can also try them on ipython."
   ]
  },
  {
   "cell_type": "code",
   "execution_count": 1,
   "metadata": {},
   "outputs": [
    {
     "name": "stdout",
     "output_type": "stream",
     "text": [
      "Hello World, from python!\n"
     ]
    }
   ],
   "source": [
    "print \"Hello World, from python!\""
   ]
  },
  {
   "cell_type": "code",
   "execution_count": 2,
   "metadata": {},
   "outputs": [
    {
     "name": "stdout",
     "output_type": "stream",
     "text": [
      "Hello World, from python!\n"
     ]
    }
   ],
   "source": [
    "print (\"Hello World, from python!\")"
   ]
  },
  {
   "cell_type": "markdown",
   "metadata": {},
   "source": [
    "What is `print` ? It allows to print! of course, printing can be more complex. \n",
    "\n",
    "How to quit from the command prompt? try whatever you think (`quit`, `ctrl+d`, etc)\n",
    "\n",
    "For single or very simple instructions, the python shell interpreter is enough. But, for more complex instructions and or scripts, it is necessary to use a more advanced interpreter with more power. Let's try the ipyhton interpreter! You can use either the command `ipython` or the intepreter right below the editor in canopy, spyder (anaconda), or your prefered IDE.\n",
    "\n",
    "The ipython interpreter is a much more advanced interpreter which allows to get better error reporting, interactive help, magic commands, fast history access, and muhco more. \n",
    "\n",
    "Please try writing a single `?`. What do you get? (you can move with the arrows and exit by pressing `q`)"
   ]
  },
  {
   "cell_type": "code",
   "execution_count": 20,
   "metadata": {},
   "outputs": [],
   "source": [
    "?"
   ]
  },
  {
   "cell_type": "markdown",
   "metadata": {},
   "source": [
    "Summarizing, there are several ways to use python:\n",
    "\n",
    "* Using the interpreter, `python`\n",
    "* Using the more modern interpreter, `ipython` (always use this by default)\n",
    "* Using an ipython notebook : either by launching it as `ipython notebook` which will open your browser at `127.0.0.1:8888`, or by using the editor in any ide (like Canopy, Anaconda-sPyder, etc). Notebooks are saved with the extension `.ipynb`\n",
    "* Writing an script, whose extension should be `.py`\n",
    "\n",
    "In the following, we will use a mix of all of them.\n",
    "\n",
    "Before leaving, let's use another example: How to read from standard input"
   ]
  },
  {
   "cell_type": "code",
   "execution_count": 1,
   "metadata": {
    "ExecuteTime": {
     "end_time": "2018-08-07T15:16:00.770459Z",
     "start_time": "2018-08-07T15:15:59.087501Z"
    }
   },
   "outputs": [
    {
     "name": "stdout",
     "output_type": "stream",
     "text": [
      "Hola\n",
      "Dime tu nombre:  sadsa\n",
      "Hola sadsa\n"
     ]
    }
   ],
   "source": [
    "print(\"Hola\")\n",
    "name = input(\"Dime tu nombre:  \")\n",
    "print(\"Hola\", name)"
   ]
  },
  {
   "cell_type": "markdown",
   "metadata": {},
   "source": [
    "# How to install packages\n",
    "\n",
    "Please go the start menu and open the anaconda prompt. There you con use either the command `conda` or `pip` to install needed packages. For instance, let's install `scipy`, which is the base framework used in scientific computation. Open the anaconda prompt and write the following:\n",
    "```python\n",
    "conda install -c anaconda scipy\n",
    "```\n",
    "This will install the `scipy` package and all its dependencies on the root environment. \n",
    "\n",
    "## Note: Installing on a virtual environment - Fenics\n",
    "Sometimes it is much better to install packages on an isolated enviroment to avoid collisions with other packages or versions. For instance, to install `fenics` (which is used to solve partial differential equations, see https://fenicsproject.org/), you can do the following on the anaconda prompt\n",
    "```python/\n",
    "# this creates an enviroment called fenicsproject\n",
    "conda create -n fenicsproject -c conda-forge fenics\n",
    "# this activates the environment\n",
    "source activate fenicsproject \n",
    "```"
   ]
  },
  {
   "cell_type": "code",
   "execution_count": null,
   "metadata": {},
   "outputs": [],
   "source": []
  }
 ],
 "metadata": {
  "kernelspec": {
   "display_name": "Python 3",
   "language": "python",
   "name": "python3"
  },
  "language_info": {
   "codemirror_mode": {
    "name": "ipython",
    "version": 3
   },
   "file_extension": ".py",
   "mimetype": "text/x-python",
   "name": "python",
   "nbconvert_exporter": "python",
   "pygments_lexer": "ipython3",
   "version": "3.6.8"
  },
  "latex_envs": {
   "LaTeX_envs_menu_present": true,
   "autoclose": true,
   "autocomplete": true,
   "bibliofile": "biblio.bib",
   "cite_by": "apalike",
   "current_citInitial": 1,
   "eqLabelWithNumbers": true,
   "eqNumInitial": 1,
   "hotkeys": {
    "equation": "Ctrl-E",
    "itemize": "Ctrl-I"
   },
   "labels_anchors": false,
   "latex_user_defs": false,
   "report_style_numbering": false,
   "user_envs_cfg": false
  },
  "toc": {
   "base_numbering": 1,
   "nav_menu": {},
   "number_sections": true,
   "sideBar": true,
   "skip_h1_title": false,
   "title_cell": "Table of Contents",
   "title_sidebar": "Contents",
   "toc_cell": false,
   "toc_position": {
    "height": "calc(100% - 180px)",
    "left": "10px",
    "top": "150px",
    "width": "383px"
   },
   "toc_section_display": true,
   "toc_window_display": true
  }
 },
 "nbformat": 4,
 "nbformat_minor": 1
}
