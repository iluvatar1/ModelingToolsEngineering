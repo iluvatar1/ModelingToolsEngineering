{
 "cells": [
  {
   "cell_type": "markdown",
   "metadata": {},
   "source": [
    "# Herramientas de Modelación\n",
    "\n",
    "**Asignatura de la Maestría en Gestión y Diseño de Procesos\n",
    "\n",
    "woquendo@gmail.com\n",
    "\n",
    "## Objective\n",
    "> Desarrollar en el estudiante las competencias de Desarrollar y gestionar proyectos de investigación y de mejora de  procesos desde una perspectiva rigurosa, sostenible, ética y eficiente de la ingeniería, y Diseñar procesos y productos que contribuyan a la innovación de las organizaciones a través de soluciones de ingeniería que integren conocimientos interdisciplinarios.`"
   ]
  },
  {
   "cell_type": "markdown",
   "metadata": {},
   "source": [
    "## Topics"
   ]
  },
  {
   "cell_type": "markdown",
   "metadata": {},
   "source": [
    "1. Introducción. Modelado matemático y solución de problemas en ingeniería. Python. \n",
    "2. Solución de ecuaciones no lineales, búsqueda de raíces.\n",
    "    - Métodos de dominio cerrado y abierto.\n",
    "    - Raíces de polinomios. \n",
    "    - Implementación computacional.\n",
    "3. Solución de sistemas de ecuaciones lineales. \n",
    "    - Representación vectorial y matricial. Propiedades de vectores y matrices.\n",
    "    - Métodos de eliminación y Descomposición LU.\n",
    "    - Implementación computacional.\n",
    "4. Solución de ecuaciones diferenciales ordinarias. \n",
    "    - Métodos de Runge-Kutta. \n",
    "    - Métodos multipaso. \n",
    "    - Sistemas de ecuaciones diferenciales ordinarias. Problemas de valores propios.\n",
    "    - Implementación computacional.\n",
    "5. Solución de ecuaciones diferenciales parciales. \n",
    "    - Métodos de diferenciación e integración numérica.\n",
    "    - Método de elementos finitos.\n",
    "    - Implementación computacional.\n",
    "6. Optimización.\n",
    "    - Soluciones de modelos de programación lineal. \n",
    "    - Soluciones gráficas el método simplex.                                            \n",
    "    - Modelos de programación entera problema de BinPacking y Knapsack.                              \n",
    "7. Trabajo práctico en el énfasis."
   ]
  },
  {
   "cell_type": "markdown",
   "metadata": {},
   "source": [
    "\n",
    "\n",
    "## Schedule\n",
    "|Session   | Topic  | Instructor  | \n",
    "|---|:-|:-:|\n",
    "|1   | Algebraic Fundamentals and Python install | Camilo Rengifo |\n",
    "|2   | Algebraic Methods: Non-linear Systems  | William Oquendo   |   \n",
    "|3   | Linear Algebra: Matrices and Linear Systems  |William Oquendo   |   \n",
    "|4   | Optimization   |William Oquendo   |\n",
    "|5   | Ordinary Differential Equations: Initial value problems  |William Oquendo   |   \n",
    "|6   | Ordinary Differential Equations: Boundary value problems  |William Oquendo   |      \n",
    "|7   | Finite Element I   | Camilo Rengifo  |   \n",
    "|8   | Finite Element II   |Camilo Rengifo   |   \n",
    "|9   | Partial Differential Equations I   | Camilo Rengifo   |   \n",
    "|10   | Partial Differential Equations II  | Camilo Rengifo   |   \n",
    "|11  | Optimization  | Cesar Lopez   |   \n",
    "|12  | Simplex Method I  | Cesar Lopez  |   \n",
    "|13  | Simplex Method II  | Cesar Lopez  |   \n",
    "|14  | Emphasis  | Instructor  |   \n",
    "|15  | Emphasis  | Instructor  |   \n",
    "|16  | Emphasis  | Instructor  |   "
   ]
  },
  {
   "cell_type": "markdown",
   "metadata": {},
   "source": [
    "## Bibliography\n",
    "\n",
    "- Numerical methods for engineers. 7th Edition. S.C. Chapra and R.P. Canale.      \n",
    "- Numerical Mathematics and Computing, E. Cheney, David Kincaid \n",
    "- A Primer on Scientific Programming with Python, By Hans Petter Langtangen\n",
    "- Jeffrey J. Heys-Chemical and Biomedical Engineering Calculations Using Python-Wiley (2017)\n",
    "- Introduction to Chemical Engineering Computing-Wiley, Bruce A. Finlayson- (2012)\n",
    "- Computer Simulation - A Foundational Approach Using Python- Yahya Esmail Osais - Chapman and Hall_CRC_Taylor & Francis Group (2018)\n",
    "- Numerical methods for engineers and scientists. 2nd Edition. J.D. Hoffman.  \n",
    "- Applied numerical analysis. 7th Edition. C.F. Gerald and P.O. Wheatley.\n",
    "- Numerical methods for engineers and scientists, an introduction with applications using Matlab. 3rd Edition. A. Gilat and V. Subramaniam.                                                                                                         \n",
    "- Investigación de Operaciones  Hiller and Lieberman                                                                                                                                                                                                                                          - Programación lineal y flujo en Redes  Mokhtar S. Bazaraa                                                                           - Base de Datos (Science Direct) artículos científicos.  \n",
    "- Network flows. Ahuja, R. K., Magnanti, T. L., & Orlin, J. B. (2014). Pearson Education\n"
   ]
  },
  {
   "cell_type": "markdown",
   "metadata": {},
   "source": [
    "# Modelling basics"
   ]
  },
  {
   "cell_type": "markdown",
   "metadata": {},
   "source": [
    "## Modelling levels \\cite{osais2017computer} \n",
    "![Types of Modelling](fig/ModellingLevels.png)\n",
    "\n",
    "## Modelling phases \\cite{osais2017computer} \n",
    "![Phases of Modelling](fig/ModellingPhases.png)\n"
   ]
  },
  {
   "cell_type": "markdown",
   "metadata": {},
   "source": [
    "## Example: Bunjee jumping \\cite{chapra2012AppliedNumericalMethods}\n",
    "Assume that you want to know the velocity of a jumper as a function of time, to \n",
    "calibrate the length of the cord and so on. See the figure.\n",
    "\n",
    "\n",
    "<img src=\"fig/bunjee-01.png\" width=\"10%\">\n",
    "\n",
    "If you want to model the problem, you will arrive to $$\\frac{dv}{dt} = g - \\frac{c_d}{m}v^2 . $$ Sometimes you have an exact solution, sometimes not, so you need to use **numerical methods**.  Also, you have made some simplifications, like the force that you use to model air resistance. Are they important? \n",
    "\n",
    "When modeling, it is sometimes useful to take into account conservation laws:\n",
    "- Conservation of momentum\n",
    "- Conservation of mass\n",
    "- Conservation of energy\n",
    "- Conservation of charge\n",
    "- ...\n",
    "\n"
   ]
  },
  {
   "cell_type": "markdown",
   "metadata": {},
   "source": [
    "# References\n",
    "\n",
    "[<a id=\"cit-osais2017computer\" href=\"#call-osais2017computer\">1</a>] Yahya Esmail Osais, ``_Computer Simulation: A Foundational Approach Using Python_'',  2017.\n",
    "\n",
    "[<a id=\"cit-chapra2012AppliedNumericalMethods\" href=\"#call-chapra2012AppliedNumericalMethods\">2</a>] Steven C Chapra, ``_Applied Numerical Methods with MATLAB for Engineers and Scientists._'',  2012.\n",
    "\n"
   ]
  }
 ],
 "metadata": {
  "kernelspec": {
   "display_name": "Python 3",
   "language": "python",
   "name": "python3"
  },
  "language_info": {
   "codemirror_mode": {
    "name": "ipython",
    "version": 3
   },
   "file_extension": ".py",
   "mimetype": "text/x-python",
   "name": "python",
   "nbconvert_exporter": "python",
   "pygments_lexer": "ipython3",
   "version": "3.6.8"
  },
  "latex_envs": {
   "LaTeX_envs_menu_present": true,
   "autoclose": true,
   "autocomplete": true,
   "bibliofile": "biblio.bib",
   "cite_by": "number",
   "current_citInitial": 1,
   "eqLabelWithNumbers": true,
   "eqNumInitial": 1,
   "hotkeys": {
    "equation": "Ctrl-E",
    "itemize": "Ctrl-I"
   },
   "labels_anchors": false,
   "latex_user_defs": false,
   "report_style_numbering": false,
   "user_envs_cfg": false
  },
  "notify_time": "5",
  "toc": {
   "base_numbering": 1,
   "nav_menu": {},
   "number_sections": true,
   "sideBar": true,
   "skip_h1_title": false,
   "title_cell": "Table of Contents",
   "title_sidebar": "Contents",
   "toc_cell": false,
   "toc_position": {},
   "toc_section_display": true,
   "toc_window_display": true
  }
 },
 "nbformat": 4,
 "nbformat_minor": 2
}
